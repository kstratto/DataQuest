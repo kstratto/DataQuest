{
 "cells": [
  {
   "cell_type": "markdown",
   "metadata": {
    "collapsed": true
   },
   "source": [
    "# Introduction"
   ]
  },
  {
   "cell_type": "markdown",
   "metadata": {},
   "source": [
    "In this guided project, we work with a dataset of used cars from *eBay Kleinanzeigen*, a classifieds section of the German eBay website. While the full dataset consisting of over 370,000 listings was cleaned an uploaded to [Kaggle](https://www.kaggle.com/orgesleka/used-cars-database/data), this guided project will use a subset of 50,000 observations that has also been dirtied by the DataQuest team in order to more closely mimic what could be expected from the originally scraped data set.\n",
    "\n",
    "The set contains the following columns.\n",
    "- `dateCrawled`: When the ad was first crawled. All other field values for the corresponding row were scraped on this date.\n",
    "- `name`: Name of the car listing.\n",
    "- `seller`: Whether the seller is a private owner or a dealer.\n",
    "- `offerType`: The type of listing.\n",
    "- `price`: The price on the ad to sell the car.\n",
    "- `abtest`: Whether the listing is included in an A/B test.\n",
    "- `vehicleType`: The vehicle type.\n",
    "- `yearOfRegistration`: The year in which the car was first registered.\n",
    "- `gearbox`: The transmission type.\n",
    "- `powerPS`: The power of the car in [PS](https://www.carwow.co.uk/guides/glossary/what-is-horsepower).\n",
    "- `model`: The car model name.\n",
    "- `odometer`: The odometer reading on the car, in kilometers.\n",
    "- `monthOfRegistration`: The month in which the car was first registered.\n",
    "- `fuelType`: What type of fuel the car uses.\n",
    "- `brand`: The brand of the car.\n",
    "- `notRepairedDamage`: Whether or not the car has damage which is not yet repaired.\n",
    "- `dateCreated`: The date on which the eBay listing was created.\n",
    "- `nrOfPictures`: The number of pictures in the listing.\n",
    "- `postalCode`: The postal code for the location of the vehicle.\n",
    "- `lastSeenOnline`: When the crawler last saw this listing online.\n",
    "\n",
    "The goal of this project is to clean the data and then use pandas to perform some basic initial analysis of the listings. To start, we first import the NumPy and pandas libraries, and then will attempt read the CSV file which contains the data and load it into a pandas DataFrame."
   ]
  },
  {
   "cell_type": "code",
   "execution_count": 1,
   "metadata": {
    "collapsed": true
   },
   "outputs": [],
   "source": [
    "import numpy as np\n",
    "import pandas as pd"
   ]
  },
  {
   "cell_type": "code",
   "execution_count": 2,
   "metadata": {
    "collapsed": true
   },
   "outputs": [],
   "source": [
    "auto_filepath = \"autos.csv\""
   ]
  },
  {
   "cell_type": "code",
   "execution_count": 3,
   "metadata": {
    "scrolled": true
   },
   "outputs": [
    {
     "ename": "UnicodeDecodeError",
     "evalue": "'utf-8' codec can't decode byte 0xdc in position 23: invalid continuation byte",
     "output_type": "error",
     "traceback": [
      "\u001b[1;31m\u001b[0m",
      "\u001b[1;31mUnicodeDecodeError\u001b[0mTraceback (most recent call last)",
      "\u001b[1;32mpandas/_libs/parsers.pyx\u001b[0m in \u001b[0;36mpandas._libs.parsers.TextReader._convert_tokens\u001b[1;34m()\u001b[0m\n",
      "\u001b[1;32mpandas/_libs/parsers.pyx\u001b[0m in \u001b[0;36mpandas._libs.parsers.TextReader._convert_with_dtype\u001b[1;34m()\u001b[0m\n",
      "\u001b[1;32mpandas/_libs/parsers.pyx\u001b[0m in \u001b[0;36mpandas._libs.parsers.TextReader._string_convert\u001b[1;34m()\u001b[0m\n",
      "\u001b[1;32mpandas/_libs/parsers.pyx\u001b[0m in \u001b[0;36mpandas._libs.parsers._string_box_utf8\u001b[1;34m()\u001b[0m\n",
      "\u001b[1;31mUnicodeDecodeError\u001b[0m: 'utf-8' codec can't decode byte 0xdc in position 23: invalid continuation byte",
      "\nDuring handling of the above exception, another exception occurred:\n",
      "\u001b[1;31mUnicodeDecodeError\u001b[0mTraceback (most recent call last)",
      "\u001b[1;32m<ipython-input-3-fae6c2c00f1a>\u001b[0m in \u001b[0;36m<module>\u001b[1;34m()\u001b[0m\n\u001b[1;32m----> 1\u001b[1;33m \u001b[0mautos\u001b[0m \u001b[1;33m=\u001b[0m \u001b[0mpd\u001b[0m\u001b[1;33m.\u001b[0m\u001b[0mread_csv\u001b[0m\u001b[1;33m(\u001b[0m\u001b[0mauto_filepath\u001b[0m\u001b[1;33m)\u001b[0m\u001b[1;33m\u001b[0m\u001b[0m\n\u001b[0m",
      "\u001b[1;32m/dataquest/system/env/python3/lib/python3.4/site-packages/pandas/io/parsers.py\u001b[0m in \u001b[0;36mparser_f\u001b[1;34m(filepath_or_buffer, sep, delimiter, header, names, index_col, usecols, squeeze, prefix, mangle_dupe_cols, dtype, engine, converters, true_values, false_values, skipinitialspace, skiprows, nrows, na_values, keep_default_na, na_filter, verbose, skip_blank_lines, parse_dates, infer_datetime_format, keep_date_col, date_parser, dayfirst, iterator, chunksize, compression, thousands, decimal, lineterminator, quotechar, quoting, escapechar, comment, encoding, dialect, tupleize_cols, error_bad_lines, warn_bad_lines, skipfooter, skip_footer, doublequote, delim_whitespace, as_recarray, compact_ints, use_unsigned, low_memory, buffer_lines, memory_map, float_precision)\u001b[0m\n\u001b[0;32m    707\u001b[0m                     skip_blank_lines=skip_blank_lines)\n\u001b[0;32m    708\u001b[0m \u001b[1;33m\u001b[0m\u001b[0m\n\u001b[1;32m--> 709\u001b[1;33m         \u001b[1;32mreturn\u001b[0m \u001b[0m_read\u001b[0m\u001b[1;33m(\u001b[0m\u001b[0mfilepath_or_buffer\u001b[0m\u001b[1;33m,\u001b[0m \u001b[0mkwds\u001b[0m\u001b[1;33m)\u001b[0m\u001b[1;33m\u001b[0m\u001b[0m\n\u001b[0m\u001b[0;32m    710\u001b[0m \u001b[1;33m\u001b[0m\u001b[0m\n\u001b[0;32m    711\u001b[0m     \u001b[0mparser_f\u001b[0m\u001b[1;33m.\u001b[0m\u001b[0m__name__\u001b[0m \u001b[1;33m=\u001b[0m \u001b[0mname\u001b[0m\u001b[1;33m\u001b[0m\u001b[0m\n",
      "\u001b[1;32m/dataquest/system/env/python3/lib/python3.4/site-packages/pandas/io/parsers.py\u001b[0m in \u001b[0;36m_read\u001b[1;34m(filepath_or_buffer, kwds)\u001b[0m\n\u001b[0;32m    453\u001b[0m \u001b[1;33m\u001b[0m\u001b[0m\n\u001b[0;32m    454\u001b[0m     \u001b[1;32mtry\u001b[0m\u001b[1;33m:\u001b[0m\u001b[1;33m\u001b[0m\u001b[0m\n\u001b[1;32m--> 455\u001b[1;33m         \u001b[0mdata\u001b[0m \u001b[1;33m=\u001b[0m \u001b[0mparser\u001b[0m\u001b[1;33m.\u001b[0m\u001b[0mread\u001b[0m\u001b[1;33m(\u001b[0m\u001b[0mnrows\u001b[0m\u001b[1;33m)\u001b[0m\u001b[1;33m\u001b[0m\u001b[0m\n\u001b[0m\u001b[0;32m    456\u001b[0m     \u001b[1;32mfinally\u001b[0m\u001b[1;33m:\u001b[0m\u001b[1;33m\u001b[0m\u001b[0m\n\u001b[0;32m    457\u001b[0m         \u001b[0mparser\u001b[0m\u001b[1;33m.\u001b[0m\u001b[0mclose\u001b[0m\u001b[1;33m(\u001b[0m\u001b[1;33m)\u001b[0m\u001b[1;33m\u001b[0m\u001b[0m\n",
      "\u001b[1;32m/dataquest/system/env/python3/lib/python3.4/site-packages/pandas/io/parsers.py\u001b[0m in \u001b[0;36mread\u001b[1;34m(self, nrows)\u001b[0m\n\u001b[0;32m   1067\u001b[0m                 \u001b[1;32mraise\u001b[0m \u001b[0mValueError\u001b[0m\u001b[1;33m(\u001b[0m\u001b[1;34m'skipfooter not supported for iteration'\u001b[0m\u001b[1;33m)\u001b[0m\u001b[1;33m\u001b[0m\u001b[0m\n\u001b[0;32m   1068\u001b[0m \u001b[1;33m\u001b[0m\u001b[0m\n\u001b[1;32m-> 1069\u001b[1;33m         \u001b[0mret\u001b[0m \u001b[1;33m=\u001b[0m \u001b[0mself\u001b[0m\u001b[1;33m.\u001b[0m\u001b[0m_engine\u001b[0m\u001b[1;33m.\u001b[0m\u001b[0mread\u001b[0m\u001b[1;33m(\u001b[0m\u001b[0mnrows\u001b[0m\u001b[1;33m)\u001b[0m\u001b[1;33m\u001b[0m\u001b[0m\n\u001b[0m\u001b[0;32m   1070\u001b[0m \u001b[1;33m\u001b[0m\u001b[0m\n\u001b[0;32m   1071\u001b[0m         \u001b[1;32mif\u001b[0m \u001b[0mself\u001b[0m\u001b[1;33m.\u001b[0m\u001b[0moptions\u001b[0m\u001b[1;33m.\u001b[0m\u001b[0mget\u001b[0m\u001b[1;33m(\u001b[0m\u001b[1;34m'as_recarray'\u001b[0m\u001b[1;33m)\u001b[0m\u001b[1;33m:\u001b[0m\u001b[1;33m\u001b[0m\u001b[0m\n",
      "\u001b[1;32m/dataquest/system/env/python3/lib/python3.4/site-packages/pandas/io/parsers.py\u001b[0m in \u001b[0;36mread\u001b[1;34m(self, nrows)\u001b[0m\n\u001b[0;32m   1837\u001b[0m     \u001b[1;32mdef\u001b[0m \u001b[0mread\u001b[0m\u001b[1;33m(\u001b[0m\u001b[0mself\u001b[0m\u001b[1;33m,\u001b[0m \u001b[0mnrows\u001b[0m\u001b[1;33m=\u001b[0m\u001b[1;32mNone\u001b[0m\u001b[1;33m)\u001b[0m\u001b[1;33m:\u001b[0m\u001b[1;33m\u001b[0m\u001b[0m\n\u001b[0;32m   1838\u001b[0m         \u001b[1;32mtry\u001b[0m\u001b[1;33m:\u001b[0m\u001b[1;33m\u001b[0m\u001b[0m\n\u001b[1;32m-> 1839\u001b[1;33m             \u001b[0mdata\u001b[0m \u001b[1;33m=\u001b[0m \u001b[0mself\u001b[0m\u001b[1;33m.\u001b[0m\u001b[0m_reader\u001b[0m\u001b[1;33m.\u001b[0m\u001b[0mread\u001b[0m\u001b[1;33m(\u001b[0m\u001b[0mnrows\u001b[0m\u001b[1;33m)\u001b[0m\u001b[1;33m\u001b[0m\u001b[0m\n\u001b[0m\u001b[0;32m   1840\u001b[0m         \u001b[1;32mexcept\u001b[0m \u001b[0mStopIteration\u001b[0m\u001b[1;33m:\u001b[0m\u001b[1;33m\u001b[0m\u001b[0m\n\u001b[0;32m   1841\u001b[0m             \u001b[1;32mif\u001b[0m \u001b[0mself\u001b[0m\u001b[1;33m.\u001b[0m\u001b[0m_first_chunk\u001b[0m\u001b[1;33m:\u001b[0m\u001b[1;33m\u001b[0m\u001b[0m\n",
      "\u001b[1;32mpandas/_libs/parsers.pyx\u001b[0m in \u001b[0;36mpandas._libs.parsers.TextReader.read\u001b[1;34m()\u001b[0m\n",
      "\u001b[1;32mpandas/_libs/parsers.pyx\u001b[0m in \u001b[0;36mpandas._libs.parsers.TextReader._read_low_memory\u001b[1;34m()\u001b[0m\n",
      "\u001b[1;32mpandas/_libs/parsers.pyx\u001b[0m in \u001b[0;36mpandas._libs.parsers.TextReader._read_rows\u001b[1;34m()\u001b[0m\n",
      "\u001b[1;32mpandas/_libs/parsers.pyx\u001b[0m in \u001b[0;36mpandas._libs.parsers.TextReader._convert_column_data\u001b[1;34m()\u001b[0m\n",
      "\u001b[1;32mpandas/_libs/parsers.pyx\u001b[0m in \u001b[0;36mpandas._libs.parsers.TextReader._convert_tokens\u001b[1;34m()\u001b[0m\n",
      "\u001b[1;32mpandas/_libs/parsers.pyx\u001b[0m in \u001b[0;36mpandas._libs.parsers.TextReader._convert_with_dtype\u001b[1;34m()\u001b[0m\n",
      "\u001b[1;32mpandas/_libs/parsers.pyx\u001b[0m in \u001b[0;36mpandas._libs.parsers.TextReader._string_convert\u001b[1;34m()\u001b[0m\n",
      "\u001b[1;32mpandas/_libs/parsers.pyx\u001b[0m in \u001b[0;36mpandas._libs.parsers._string_box_utf8\u001b[1;34m()\u001b[0m\n",
      "\u001b[1;31mUnicodeDecodeError\u001b[0m: 'utf-8' codec can't decode byte 0xdc in position 23: invalid continuation byte"
     ]
    }
   ],
   "source": [
    "autos = pd.read_csv(auto_filepath)"
   ]
  },
  {
   "cell_type": "markdown",
   "metadata": {},
   "source": [
    "When trying to import the file using the default encoding of UTF-8, we get a `UnicodeDecodeError`. This means that we should attempt to use the next two most popular encodings, Latin-1 and Windows-1252, to see if that resolves the error."
   ]
  },
  {
   "cell_type": "code",
   "execution_count": 4,
   "metadata": {
    "collapsed": true
   },
   "outputs": [],
   "source": [
    "# Attempt to use Latin-1 encoding to resolve UnicodeDecodeError\n",
    "autos = pd.read_csv(auto_filepath, encoding = \"Latin-1\")"
   ]
  },
  {
   "cell_type": "markdown",
   "metadata": {},
   "source": [
    "It seems as if using Latin-1 encoding allowed us to successfully read and load the dataset into a pandas DataFrame. Next we explore the first few rows of the data as well as the info provided by the `DataFrame.info()` method."
   ]
  },
  {
   "cell_type": "code",
   "execution_count": 5,
   "metadata": {},
   "outputs": [
    {
     "data": {
      "text/html": [
       "<div>\n",
       "<style scoped>\n",
       "    .dataframe tbody tr th:only-of-type {\n",
       "        vertical-align: middle;\n",
       "    }\n",
       "\n",
       "    .dataframe tbody tr th {\n",
       "        vertical-align: top;\n",
       "    }\n",
       "\n",
       "    .dataframe thead th {\n",
       "        text-align: right;\n",
       "    }\n",
       "</style>\n",
       "<table border=\"1\" class=\"dataframe\">\n",
       "  <thead>\n",
       "    <tr style=\"text-align: right;\">\n",
       "      <th></th>\n",
       "      <th>dateCrawled</th>\n",
       "      <th>name</th>\n",
       "      <th>seller</th>\n",
       "      <th>offerType</th>\n",
       "      <th>price</th>\n",
       "      <th>abtest</th>\n",
       "      <th>vehicleType</th>\n",
       "      <th>yearOfRegistration</th>\n",
       "      <th>gearbox</th>\n",
       "      <th>powerPS</th>\n",
       "      <th>model</th>\n",
       "      <th>odometer</th>\n",
       "      <th>monthOfRegistration</th>\n",
       "      <th>fuelType</th>\n",
       "      <th>brand</th>\n",
       "      <th>notRepairedDamage</th>\n",
       "      <th>dateCreated</th>\n",
       "      <th>nrOfPictures</th>\n",
       "      <th>postalCode</th>\n",
       "      <th>lastSeen</th>\n",
       "    </tr>\n",
       "  </thead>\n",
       "  <tbody>\n",
       "    <tr>\n",
       "      <th>0</th>\n",
       "      <td>2016-03-26 17:47:46</td>\n",
       "      <td>Peugeot_807_160_NAVTECH_ON_BOARD</td>\n",
       "      <td>privat</td>\n",
       "      <td>Angebot</td>\n",
       "      <td>$5,000</td>\n",
       "      <td>control</td>\n",
       "      <td>bus</td>\n",
       "      <td>2004</td>\n",
       "      <td>manuell</td>\n",
       "      <td>158</td>\n",
       "      <td>andere</td>\n",
       "      <td>150,000km</td>\n",
       "      <td>3</td>\n",
       "      <td>lpg</td>\n",
       "      <td>peugeot</td>\n",
       "      <td>nein</td>\n",
       "      <td>2016-03-26 00:00:00</td>\n",
       "      <td>0</td>\n",
       "      <td>79588</td>\n",
       "      <td>2016-04-06 06:45:54</td>\n",
       "    </tr>\n",
       "    <tr>\n",
       "      <th>1</th>\n",
       "      <td>2016-04-04 13:38:56</td>\n",
       "      <td>BMW_740i_4_4_Liter_HAMANN_UMBAU_Mega_Optik</td>\n",
       "      <td>privat</td>\n",
       "      <td>Angebot</td>\n",
       "      <td>$8,500</td>\n",
       "      <td>control</td>\n",
       "      <td>limousine</td>\n",
       "      <td>1997</td>\n",
       "      <td>automatik</td>\n",
       "      <td>286</td>\n",
       "      <td>7er</td>\n",
       "      <td>150,000km</td>\n",
       "      <td>6</td>\n",
       "      <td>benzin</td>\n",
       "      <td>bmw</td>\n",
       "      <td>nein</td>\n",
       "      <td>2016-04-04 00:00:00</td>\n",
       "      <td>0</td>\n",
       "      <td>71034</td>\n",
       "      <td>2016-04-06 14:45:08</td>\n",
       "    </tr>\n",
       "    <tr>\n",
       "      <th>2</th>\n",
       "      <td>2016-03-26 18:57:24</td>\n",
       "      <td>Volkswagen_Golf_1.6_United</td>\n",
       "      <td>privat</td>\n",
       "      <td>Angebot</td>\n",
       "      <td>$8,990</td>\n",
       "      <td>test</td>\n",
       "      <td>limousine</td>\n",
       "      <td>2009</td>\n",
       "      <td>manuell</td>\n",
       "      <td>102</td>\n",
       "      <td>golf</td>\n",
       "      <td>70,000km</td>\n",
       "      <td>7</td>\n",
       "      <td>benzin</td>\n",
       "      <td>volkswagen</td>\n",
       "      <td>nein</td>\n",
       "      <td>2016-03-26 00:00:00</td>\n",
       "      <td>0</td>\n",
       "      <td>35394</td>\n",
       "      <td>2016-04-06 20:15:37</td>\n",
       "    </tr>\n",
       "    <tr>\n",
       "      <th>3</th>\n",
       "      <td>2016-03-12 16:58:10</td>\n",
       "      <td>Smart_smart_fortwo_coupe_softouch/F1/Klima/Pan...</td>\n",
       "      <td>privat</td>\n",
       "      <td>Angebot</td>\n",
       "      <td>$4,350</td>\n",
       "      <td>control</td>\n",
       "      <td>kleinwagen</td>\n",
       "      <td>2007</td>\n",
       "      <td>automatik</td>\n",
       "      <td>71</td>\n",
       "      <td>fortwo</td>\n",
       "      <td>70,000km</td>\n",
       "      <td>6</td>\n",
       "      <td>benzin</td>\n",
       "      <td>smart</td>\n",
       "      <td>nein</td>\n",
       "      <td>2016-03-12 00:00:00</td>\n",
       "      <td>0</td>\n",
       "      <td>33729</td>\n",
       "      <td>2016-03-15 03:16:28</td>\n",
       "    </tr>\n",
       "    <tr>\n",
       "      <th>4</th>\n",
       "      <td>2016-04-01 14:38:50</td>\n",
       "      <td>Ford_Focus_1_6_Benzin_TÜV_neu_ist_sehr_gepfleg...</td>\n",
       "      <td>privat</td>\n",
       "      <td>Angebot</td>\n",
       "      <td>$1,350</td>\n",
       "      <td>test</td>\n",
       "      <td>kombi</td>\n",
       "      <td>2003</td>\n",
       "      <td>manuell</td>\n",
       "      <td>0</td>\n",
       "      <td>focus</td>\n",
       "      <td>150,000km</td>\n",
       "      <td>7</td>\n",
       "      <td>benzin</td>\n",
       "      <td>ford</td>\n",
       "      <td>nein</td>\n",
       "      <td>2016-04-01 00:00:00</td>\n",
       "      <td>0</td>\n",
       "      <td>39218</td>\n",
       "      <td>2016-04-01 14:38:50</td>\n",
       "    </tr>\n",
       "  </tbody>\n",
       "</table>\n",
       "</div>"
      ],
      "text/plain": [
       "           dateCrawled                                               name  \\\n",
       "0  2016-03-26 17:47:46                   Peugeot_807_160_NAVTECH_ON_BOARD   \n",
       "1  2016-04-04 13:38:56         BMW_740i_4_4_Liter_HAMANN_UMBAU_Mega_Optik   \n",
       "2  2016-03-26 18:57:24                         Volkswagen_Golf_1.6_United   \n",
       "3  2016-03-12 16:58:10  Smart_smart_fortwo_coupe_softouch/F1/Klima/Pan...   \n",
       "4  2016-04-01 14:38:50  Ford_Focus_1_6_Benzin_TÜV_neu_ist_sehr_gepfleg...   \n",
       "\n",
       "   seller offerType   price   abtest vehicleType  yearOfRegistration  \\\n",
       "0  privat   Angebot  $5,000  control         bus                2004   \n",
       "1  privat   Angebot  $8,500  control   limousine                1997   \n",
       "2  privat   Angebot  $8,990     test   limousine                2009   \n",
       "3  privat   Angebot  $4,350  control  kleinwagen                2007   \n",
       "4  privat   Angebot  $1,350     test       kombi                2003   \n",
       "\n",
       "     gearbox  powerPS   model   odometer  monthOfRegistration fuelType  \\\n",
       "0    manuell      158  andere  150,000km                    3      lpg   \n",
       "1  automatik      286     7er  150,000km                    6   benzin   \n",
       "2    manuell      102    golf   70,000km                    7   benzin   \n",
       "3  automatik       71  fortwo   70,000km                    6   benzin   \n",
       "4    manuell        0   focus  150,000km                    7   benzin   \n",
       "\n",
       "        brand notRepairedDamage          dateCreated  nrOfPictures  \\\n",
       "0     peugeot              nein  2016-03-26 00:00:00             0   \n",
       "1         bmw              nein  2016-04-04 00:00:00             0   \n",
       "2  volkswagen              nein  2016-03-26 00:00:00             0   \n",
       "3       smart              nein  2016-03-12 00:00:00             0   \n",
       "4        ford              nein  2016-04-01 00:00:00             0   \n",
       "\n",
       "   postalCode             lastSeen  \n",
       "0       79588  2016-04-06 06:45:54  \n",
       "1       71034  2016-04-06 14:45:08  \n",
       "2       35394  2016-04-06 20:15:37  \n",
       "3       33729  2016-03-15 03:16:28  \n",
       "4       39218  2016-04-01 14:38:50  "
      ]
     },
     "execution_count": 5,
     "metadata": {},
     "output_type": "execute_result"
    }
   ],
   "source": [
    "autos.head()"
   ]
  },
  {
   "cell_type": "markdown",
   "metadata": {},
   "source": [
    "Looking at the first few rows of the data, one thing that stands out immediately is the fact that many of the qualitative variables, such as `vehicleType`, `gearbox`, `fuelType`, and `notRepairedDamage`, use German vocabulary. This makes sense given the fact that the dataset was obtained by scraping German eBay listings. To better interpret the meanings of the values in the columns which use German, we should translate them into English. In addition, there are columns, such as `price` and `odometer`, which represent numeric quantities but are currently stored as strings. These columns will need to be converted and then renamed to indicate the units which are being used. Also, the `dateCrawled` and `lastSeen` columns appear to currently be stored as strings as well. We may wish to convert them to pandas `Timestamp` objects to make use of the robust [set of tools available in pandas to work with time series and dates](https://pandas.pydata.org/pandas-docs/stable/user_guide/timeseries.html)."
   ]
  },
  {
   "cell_type": "code",
   "execution_count": 6,
   "metadata": {},
   "outputs": [
    {
     "name": "stdout",
     "output_type": "stream",
     "text": [
      "<class 'pandas.core.frame.DataFrame'>\n",
      "RangeIndex: 50000 entries, 0 to 49999\n",
      "Data columns (total 20 columns):\n",
      "dateCrawled            50000 non-null object\n",
      "name                   50000 non-null object\n",
      "seller                 50000 non-null object\n",
      "offerType              50000 non-null object\n",
      "price                  50000 non-null object\n",
      "abtest                 50000 non-null object\n",
      "vehicleType            44905 non-null object\n",
      "yearOfRegistration     50000 non-null int64\n",
      "gearbox                47320 non-null object\n",
      "powerPS                50000 non-null int64\n",
      "model                  47242 non-null object\n",
      "odometer               50000 non-null object\n",
      "monthOfRegistration    50000 non-null int64\n",
      "fuelType               45518 non-null object\n",
      "brand                  50000 non-null object\n",
      "notRepairedDamage      40171 non-null object\n",
      "dateCreated            50000 non-null object\n",
      "nrOfPictures           50000 non-null int64\n",
      "postalCode             50000 non-null int64\n",
      "lastSeen               50000 non-null object\n",
      "dtypes: int64(5), object(15)\n",
      "memory usage: 7.6+ MB\n"
     ]
    }
   ],
   "source": [
    "autos.info()"
   ]
  },
  {
   "cell_type": "markdown",
   "metadata": {},
   "source": [
    "Looking at the information provided by `DataFrame.info()`, we see that a number of columns contain null entries. Those columns are `vehicleType`, `gearbox`, `model`, `fuelType`, and `notRepairedDamage`. For each column which contains null entries, we will need to decide between dropping the corresponding row, leaving the null entry as-is, or replacing it with a descriptive value."
   ]
  },
  {
   "cell_type": "markdown",
   "metadata": {},
   "source": [
    "# Cleaning Column Names"
   ]
  },
  {
   "cell_type": "markdown",
   "metadata": {},
   "source": [
    "While the column names are perfectly workable in their current state, there are a few things that we can clean up in order to make them easier to work with.\n",
    "\n",
    "1. Change the following column names to be less clunky.\n",
    "    - `yearOfRegistration` to `registration_year`\n",
    "    - `monthOfRegistration` to `registration_month`\n",
    "    - `notRepairedDamage` to `unrepaired_damage`\n",
    "    - `dateCreated` to `ad_created`\n",
    "2. Change the rest of the column names from camelcase to snakecase, which is the prefered style for Python."
   ]
  },
  {
   "cell_type": "code",
   "execution_count": 7,
   "metadata": {},
   "outputs": [
    {
     "data": {
      "text/plain": [
       "dateCrawled                  date_crawled\n",
       "name                                 name\n",
       "seller                             seller\n",
       "offerType                      offer_type\n",
       "price                               price\n",
       "abtest                             abtest\n",
       "vehicleType                  vehicle_type\n",
       "yearOfRegistration      registration_year\n",
       "gearbox                           gearbox\n",
       "powerPS                          power_ps\n",
       "model                               model\n",
       "odometer                         odometer\n",
       "monthOfRegistration    registration_month\n",
       "fuelType                        fuel_type\n",
       "brand                               brand\n",
       "notRepairedDamage       unrepaired_damage\n",
       "dateCreated                    ad_created\n",
       "nrOfPictures               nr_of_pictures\n",
       "postalCode                    postal_code\n",
       "lastSeen                        last_seen\n",
       "dtype: object"
      ]
     },
     "execution_count": 7,
     "metadata": {},
     "output_type": "execute_result"
    }
   ],
   "source": [
    "auto_columns = autos.columns.to_series()\n",
    "columns_dict = {\"yearOfRegistration\": \"registration_year\", \"monthOfRegistration\": \"registration_month\",\n",
    "               \"notRepairedDamage\": \"unrepaired_damage\", \"dateCreated\": \"ad_created\"}\n",
    "# First replace clunky column names\n",
    "auto_columns.replace(columns_dict, inplace = True)\n",
    "# Use a regular expression to insert underscores in between camelcase letters\n",
    "auto_columns = auto_columns.str.replace(r\"([a-z])([A-Z])\", lambda m: \"_\".join(m.group(1, 2)))\n",
    "# Make all column names lowercase\n",
    "auto_columns = auto_columns.str.lower()\n",
    "auto_columns"
   ]
  },
  {
   "cell_type": "markdown",
   "metadata": {},
   "source": [
    "Now that we have changed the column names to make them easier to work with and also have them follow Python's preferred style conventions we replace the original column names with the modified ones and re-inspect the first few rows of the `autos` dataframe."
   ]
  },
  {
   "cell_type": "code",
   "execution_count": 8,
   "metadata": {},
   "outputs": [
    {
     "data": {
      "text/html": [
       "<div>\n",
       "<style scoped>\n",
       "    .dataframe tbody tr th:only-of-type {\n",
       "        vertical-align: middle;\n",
       "    }\n",
       "\n",
       "    .dataframe tbody tr th {\n",
       "        vertical-align: top;\n",
       "    }\n",
       "\n",
       "    .dataframe thead th {\n",
       "        text-align: right;\n",
       "    }\n",
       "</style>\n",
       "<table border=\"1\" class=\"dataframe\">\n",
       "  <thead>\n",
       "    <tr style=\"text-align: right;\">\n",
       "      <th></th>\n",
       "      <th>date_crawled</th>\n",
       "      <th>name</th>\n",
       "      <th>seller</th>\n",
       "      <th>offer_type</th>\n",
       "      <th>price</th>\n",
       "      <th>abtest</th>\n",
       "      <th>vehicle_type</th>\n",
       "      <th>registration_year</th>\n",
       "      <th>gearbox</th>\n",
       "      <th>power_ps</th>\n",
       "      <th>model</th>\n",
       "      <th>odometer</th>\n",
       "      <th>registration_month</th>\n",
       "      <th>fuel_type</th>\n",
       "      <th>brand</th>\n",
       "      <th>unrepaired_damage</th>\n",
       "      <th>ad_created</th>\n",
       "      <th>nr_of_pictures</th>\n",
       "      <th>postal_code</th>\n",
       "      <th>last_seen</th>\n",
       "    </tr>\n",
       "  </thead>\n",
       "  <tbody>\n",
       "    <tr>\n",
       "      <th>0</th>\n",
       "      <td>2016-03-26 17:47:46</td>\n",
       "      <td>Peugeot_807_160_NAVTECH_ON_BOARD</td>\n",
       "      <td>privat</td>\n",
       "      <td>Angebot</td>\n",
       "      <td>$5,000</td>\n",
       "      <td>control</td>\n",
       "      <td>bus</td>\n",
       "      <td>2004</td>\n",
       "      <td>manuell</td>\n",
       "      <td>158</td>\n",
       "      <td>andere</td>\n",
       "      <td>150,000km</td>\n",
       "      <td>3</td>\n",
       "      <td>lpg</td>\n",
       "      <td>peugeot</td>\n",
       "      <td>nein</td>\n",
       "      <td>2016-03-26 00:00:00</td>\n",
       "      <td>0</td>\n",
       "      <td>79588</td>\n",
       "      <td>2016-04-06 06:45:54</td>\n",
       "    </tr>\n",
       "    <tr>\n",
       "      <th>1</th>\n",
       "      <td>2016-04-04 13:38:56</td>\n",
       "      <td>BMW_740i_4_4_Liter_HAMANN_UMBAU_Mega_Optik</td>\n",
       "      <td>privat</td>\n",
       "      <td>Angebot</td>\n",
       "      <td>$8,500</td>\n",
       "      <td>control</td>\n",
       "      <td>limousine</td>\n",
       "      <td>1997</td>\n",
       "      <td>automatik</td>\n",
       "      <td>286</td>\n",
       "      <td>7er</td>\n",
       "      <td>150,000km</td>\n",
       "      <td>6</td>\n",
       "      <td>benzin</td>\n",
       "      <td>bmw</td>\n",
       "      <td>nein</td>\n",
       "      <td>2016-04-04 00:00:00</td>\n",
       "      <td>0</td>\n",
       "      <td>71034</td>\n",
       "      <td>2016-04-06 14:45:08</td>\n",
       "    </tr>\n",
       "    <tr>\n",
       "      <th>2</th>\n",
       "      <td>2016-03-26 18:57:24</td>\n",
       "      <td>Volkswagen_Golf_1.6_United</td>\n",
       "      <td>privat</td>\n",
       "      <td>Angebot</td>\n",
       "      <td>$8,990</td>\n",
       "      <td>test</td>\n",
       "      <td>limousine</td>\n",
       "      <td>2009</td>\n",
       "      <td>manuell</td>\n",
       "      <td>102</td>\n",
       "      <td>golf</td>\n",
       "      <td>70,000km</td>\n",
       "      <td>7</td>\n",
       "      <td>benzin</td>\n",
       "      <td>volkswagen</td>\n",
       "      <td>nein</td>\n",
       "      <td>2016-03-26 00:00:00</td>\n",
       "      <td>0</td>\n",
       "      <td>35394</td>\n",
       "      <td>2016-04-06 20:15:37</td>\n",
       "    </tr>\n",
       "    <tr>\n",
       "      <th>3</th>\n",
       "      <td>2016-03-12 16:58:10</td>\n",
       "      <td>Smart_smart_fortwo_coupe_softouch/F1/Klima/Pan...</td>\n",
       "      <td>privat</td>\n",
       "      <td>Angebot</td>\n",
       "      <td>$4,350</td>\n",
       "      <td>control</td>\n",
       "      <td>kleinwagen</td>\n",
       "      <td>2007</td>\n",
       "      <td>automatik</td>\n",
       "      <td>71</td>\n",
       "      <td>fortwo</td>\n",
       "      <td>70,000km</td>\n",
       "      <td>6</td>\n",
       "      <td>benzin</td>\n",
       "      <td>smart</td>\n",
       "      <td>nein</td>\n",
       "      <td>2016-03-12 00:00:00</td>\n",
       "      <td>0</td>\n",
       "      <td>33729</td>\n",
       "      <td>2016-03-15 03:16:28</td>\n",
       "    </tr>\n",
       "    <tr>\n",
       "      <th>4</th>\n",
       "      <td>2016-04-01 14:38:50</td>\n",
       "      <td>Ford_Focus_1_6_Benzin_TÜV_neu_ist_sehr_gepfleg...</td>\n",
       "      <td>privat</td>\n",
       "      <td>Angebot</td>\n",
       "      <td>$1,350</td>\n",
       "      <td>test</td>\n",
       "      <td>kombi</td>\n",
       "      <td>2003</td>\n",
       "      <td>manuell</td>\n",
       "      <td>0</td>\n",
       "      <td>focus</td>\n",
       "      <td>150,000km</td>\n",
       "      <td>7</td>\n",
       "      <td>benzin</td>\n",
       "      <td>ford</td>\n",
       "      <td>nein</td>\n",
       "      <td>2016-04-01 00:00:00</td>\n",
       "      <td>0</td>\n",
       "      <td>39218</td>\n",
       "      <td>2016-04-01 14:38:50</td>\n",
       "    </tr>\n",
       "  </tbody>\n",
       "</table>\n",
       "</div>"
      ],
      "text/plain": [
       "          date_crawled                                               name  \\\n",
       "0  2016-03-26 17:47:46                   Peugeot_807_160_NAVTECH_ON_BOARD   \n",
       "1  2016-04-04 13:38:56         BMW_740i_4_4_Liter_HAMANN_UMBAU_Mega_Optik   \n",
       "2  2016-03-26 18:57:24                         Volkswagen_Golf_1.6_United   \n",
       "3  2016-03-12 16:58:10  Smart_smart_fortwo_coupe_softouch/F1/Klima/Pan...   \n",
       "4  2016-04-01 14:38:50  Ford_Focus_1_6_Benzin_TÜV_neu_ist_sehr_gepfleg...   \n",
       "\n",
       "   seller offer_type   price   abtest vehicle_type  registration_year  \\\n",
       "0  privat    Angebot  $5,000  control          bus               2004   \n",
       "1  privat    Angebot  $8,500  control    limousine               1997   \n",
       "2  privat    Angebot  $8,990     test    limousine               2009   \n",
       "3  privat    Angebot  $4,350  control   kleinwagen               2007   \n",
       "4  privat    Angebot  $1,350     test        kombi               2003   \n",
       "\n",
       "     gearbox  power_ps   model   odometer  registration_month fuel_type  \\\n",
       "0    manuell       158  andere  150,000km                   3       lpg   \n",
       "1  automatik       286     7er  150,000km                   6    benzin   \n",
       "2    manuell       102    golf   70,000km                   7    benzin   \n",
       "3  automatik        71  fortwo   70,000km                   6    benzin   \n",
       "4    manuell         0   focus  150,000km                   7    benzin   \n",
       "\n",
       "        brand unrepaired_damage           ad_created  nr_of_pictures  \\\n",
       "0     peugeot              nein  2016-03-26 00:00:00               0   \n",
       "1         bmw              nein  2016-04-04 00:00:00               0   \n",
       "2  volkswagen              nein  2016-03-26 00:00:00               0   \n",
       "3       smart              nein  2016-03-12 00:00:00               0   \n",
       "4        ford              nein  2016-04-01 00:00:00               0   \n",
       "\n",
       "   postal_code            last_seen  \n",
       "0        79588  2016-04-06 06:45:54  \n",
       "1        71034  2016-04-06 14:45:08  \n",
       "2        35394  2016-04-06 20:15:37  \n",
       "3        33729  2016-03-15 03:16:28  \n",
       "4        39218  2016-04-01 14:38:50  "
      ]
     },
     "execution_count": 8,
     "metadata": {},
     "output_type": "execute_result"
    }
   ],
   "source": [
    "autos.columns = auto_columns\n",
    "autos.head()"
   ]
  },
  {
   "cell_type": "markdown",
   "metadata": {},
   "source": [
    "# Initial Exploration and Cleaning"
   ]
  },
  {
   "cell_type": "markdown",
   "metadata": {},
   "source": [
    "Now that we have cleaned up the column names, it is time to continue our initial exploration of the data to determine what the next cleaning steps will be. First we will look at some basic descriptive statistics for our columns."
   ]
  },
  {
   "cell_type": "code",
   "execution_count": 9,
   "metadata": {},
   "outputs": [
    {
     "data": {
      "text/html": [
       "<div>\n",
       "<style scoped>\n",
       "    .dataframe tbody tr th:only-of-type {\n",
       "        vertical-align: middle;\n",
       "    }\n",
       "\n",
       "    .dataframe tbody tr th {\n",
       "        vertical-align: top;\n",
       "    }\n",
       "\n",
       "    .dataframe thead th {\n",
       "        text-align: right;\n",
       "    }\n",
       "</style>\n",
       "<table border=\"1\" class=\"dataframe\">\n",
       "  <thead>\n",
       "    <tr style=\"text-align: right;\">\n",
       "      <th></th>\n",
       "      <th>date_crawled</th>\n",
       "      <th>name</th>\n",
       "      <th>seller</th>\n",
       "      <th>offer_type</th>\n",
       "      <th>price</th>\n",
       "      <th>abtest</th>\n",
       "      <th>vehicle_type</th>\n",
       "      <th>registration_year</th>\n",
       "      <th>gearbox</th>\n",
       "      <th>power_ps</th>\n",
       "      <th>model</th>\n",
       "      <th>odometer</th>\n",
       "      <th>registration_month</th>\n",
       "      <th>fuel_type</th>\n",
       "      <th>brand</th>\n",
       "      <th>unrepaired_damage</th>\n",
       "      <th>ad_created</th>\n",
       "      <th>nr_of_pictures</th>\n",
       "      <th>postal_code</th>\n",
       "      <th>last_seen</th>\n",
       "    </tr>\n",
       "  </thead>\n",
       "  <tbody>\n",
       "    <tr>\n",
       "      <th>count</th>\n",
       "      <td>50000</td>\n",
       "      <td>50000</td>\n",
       "      <td>50000</td>\n",
       "      <td>50000</td>\n",
       "      <td>50000</td>\n",
       "      <td>50000</td>\n",
       "      <td>44905</td>\n",
       "      <td>50000.000000</td>\n",
       "      <td>47320</td>\n",
       "      <td>50000.000000</td>\n",
       "      <td>47242</td>\n",
       "      <td>50000</td>\n",
       "      <td>50000.000000</td>\n",
       "      <td>45518</td>\n",
       "      <td>50000</td>\n",
       "      <td>40171</td>\n",
       "      <td>50000</td>\n",
       "      <td>50000.0</td>\n",
       "      <td>50000.000000</td>\n",
       "      <td>50000</td>\n",
       "    </tr>\n",
       "    <tr>\n",
       "      <th>unique</th>\n",
       "      <td>48213</td>\n",
       "      <td>38754</td>\n",
       "      <td>2</td>\n",
       "      <td>2</td>\n",
       "      <td>2357</td>\n",
       "      <td>2</td>\n",
       "      <td>8</td>\n",
       "      <td>NaN</td>\n",
       "      <td>2</td>\n",
       "      <td>NaN</td>\n",
       "      <td>245</td>\n",
       "      <td>13</td>\n",
       "      <td>NaN</td>\n",
       "      <td>7</td>\n",
       "      <td>40</td>\n",
       "      <td>2</td>\n",
       "      <td>76</td>\n",
       "      <td>NaN</td>\n",
       "      <td>NaN</td>\n",
       "      <td>39481</td>\n",
       "    </tr>\n",
       "    <tr>\n",
       "      <th>top</th>\n",
       "      <td>2016-03-21 16:37:21</td>\n",
       "      <td>Ford_Fiesta</td>\n",
       "      <td>privat</td>\n",
       "      <td>Angebot</td>\n",
       "      <td>$0</td>\n",
       "      <td>test</td>\n",
       "      <td>limousine</td>\n",
       "      <td>NaN</td>\n",
       "      <td>manuell</td>\n",
       "      <td>NaN</td>\n",
       "      <td>golf</td>\n",
       "      <td>150,000km</td>\n",
       "      <td>NaN</td>\n",
       "      <td>benzin</td>\n",
       "      <td>volkswagen</td>\n",
       "      <td>nein</td>\n",
       "      <td>2016-04-03 00:00:00</td>\n",
       "      <td>NaN</td>\n",
       "      <td>NaN</td>\n",
       "      <td>2016-04-07 06:17:27</td>\n",
       "    </tr>\n",
       "    <tr>\n",
       "      <th>freq</th>\n",
       "      <td>3</td>\n",
       "      <td>78</td>\n",
       "      <td>49999</td>\n",
       "      <td>49999</td>\n",
       "      <td>1421</td>\n",
       "      <td>25756</td>\n",
       "      <td>12859</td>\n",
       "      <td>NaN</td>\n",
       "      <td>36993</td>\n",
       "      <td>NaN</td>\n",
       "      <td>4024</td>\n",
       "      <td>32424</td>\n",
       "      <td>NaN</td>\n",
       "      <td>30107</td>\n",
       "      <td>10687</td>\n",
       "      <td>35232</td>\n",
       "      <td>1946</td>\n",
       "      <td>NaN</td>\n",
       "      <td>NaN</td>\n",
       "      <td>8</td>\n",
       "    </tr>\n",
       "    <tr>\n",
       "      <th>mean</th>\n",
       "      <td>NaN</td>\n",
       "      <td>NaN</td>\n",
       "      <td>NaN</td>\n",
       "      <td>NaN</td>\n",
       "      <td>NaN</td>\n",
       "      <td>NaN</td>\n",
       "      <td>NaN</td>\n",
       "      <td>2005.073280</td>\n",
       "      <td>NaN</td>\n",
       "      <td>116.355920</td>\n",
       "      <td>NaN</td>\n",
       "      <td>NaN</td>\n",
       "      <td>5.723360</td>\n",
       "      <td>NaN</td>\n",
       "      <td>NaN</td>\n",
       "      <td>NaN</td>\n",
       "      <td>NaN</td>\n",
       "      <td>0.0</td>\n",
       "      <td>50813.627300</td>\n",
       "      <td>NaN</td>\n",
       "    </tr>\n",
       "    <tr>\n",
       "      <th>std</th>\n",
       "      <td>NaN</td>\n",
       "      <td>NaN</td>\n",
       "      <td>NaN</td>\n",
       "      <td>NaN</td>\n",
       "      <td>NaN</td>\n",
       "      <td>NaN</td>\n",
       "      <td>NaN</td>\n",
       "      <td>105.712813</td>\n",
       "      <td>NaN</td>\n",
       "      <td>209.216627</td>\n",
       "      <td>NaN</td>\n",
       "      <td>NaN</td>\n",
       "      <td>3.711984</td>\n",
       "      <td>NaN</td>\n",
       "      <td>NaN</td>\n",
       "      <td>NaN</td>\n",
       "      <td>NaN</td>\n",
       "      <td>0.0</td>\n",
       "      <td>25779.747957</td>\n",
       "      <td>NaN</td>\n",
       "    </tr>\n",
       "    <tr>\n",
       "      <th>min</th>\n",
       "      <td>NaN</td>\n",
       "      <td>NaN</td>\n",
       "      <td>NaN</td>\n",
       "      <td>NaN</td>\n",
       "      <td>NaN</td>\n",
       "      <td>NaN</td>\n",
       "      <td>NaN</td>\n",
       "      <td>1000.000000</td>\n",
       "      <td>NaN</td>\n",
       "      <td>0.000000</td>\n",
       "      <td>NaN</td>\n",
       "      <td>NaN</td>\n",
       "      <td>0.000000</td>\n",
       "      <td>NaN</td>\n",
       "      <td>NaN</td>\n",
       "      <td>NaN</td>\n",
       "      <td>NaN</td>\n",
       "      <td>0.0</td>\n",
       "      <td>1067.000000</td>\n",
       "      <td>NaN</td>\n",
       "    </tr>\n",
       "    <tr>\n",
       "      <th>25%</th>\n",
       "      <td>NaN</td>\n",
       "      <td>NaN</td>\n",
       "      <td>NaN</td>\n",
       "      <td>NaN</td>\n",
       "      <td>NaN</td>\n",
       "      <td>NaN</td>\n",
       "      <td>NaN</td>\n",
       "      <td>1999.000000</td>\n",
       "      <td>NaN</td>\n",
       "      <td>70.000000</td>\n",
       "      <td>NaN</td>\n",
       "      <td>NaN</td>\n",
       "      <td>3.000000</td>\n",
       "      <td>NaN</td>\n",
       "      <td>NaN</td>\n",
       "      <td>NaN</td>\n",
       "      <td>NaN</td>\n",
       "      <td>0.0</td>\n",
       "      <td>30451.000000</td>\n",
       "      <td>NaN</td>\n",
       "    </tr>\n",
       "    <tr>\n",
       "      <th>50%</th>\n",
       "      <td>NaN</td>\n",
       "      <td>NaN</td>\n",
       "      <td>NaN</td>\n",
       "      <td>NaN</td>\n",
       "      <td>NaN</td>\n",
       "      <td>NaN</td>\n",
       "      <td>NaN</td>\n",
       "      <td>2003.000000</td>\n",
       "      <td>NaN</td>\n",
       "      <td>105.000000</td>\n",
       "      <td>NaN</td>\n",
       "      <td>NaN</td>\n",
       "      <td>6.000000</td>\n",
       "      <td>NaN</td>\n",
       "      <td>NaN</td>\n",
       "      <td>NaN</td>\n",
       "      <td>NaN</td>\n",
       "      <td>0.0</td>\n",
       "      <td>49577.000000</td>\n",
       "      <td>NaN</td>\n",
       "    </tr>\n",
       "    <tr>\n",
       "      <th>75%</th>\n",
       "      <td>NaN</td>\n",
       "      <td>NaN</td>\n",
       "      <td>NaN</td>\n",
       "      <td>NaN</td>\n",
       "      <td>NaN</td>\n",
       "      <td>NaN</td>\n",
       "      <td>NaN</td>\n",
       "      <td>2008.000000</td>\n",
       "      <td>NaN</td>\n",
       "      <td>150.000000</td>\n",
       "      <td>NaN</td>\n",
       "      <td>NaN</td>\n",
       "      <td>9.000000</td>\n",
       "      <td>NaN</td>\n",
       "      <td>NaN</td>\n",
       "      <td>NaN</td>\n",
       "      <td>NaN</td>\n",
       "      <td>0.0</td>\n",
       "      <td>71540.000000</td>\n",
       "      <td>NaN</td>\n",
       "    </tr>\n",
       "    <tr>\n",
       "      <th>max</th>\n",
       "      <td>NaN</td>\n",
       "      <td>NaN</td>\n",
       "      <td>NaN</td>\n",
       "      <td>NaN</td>\n",
       "      <td>NaN</td>\n",
       "      <td>NaN</td>\n",
       "      <td>NaN</td>\n",
       "      <td>9999.000000</td>\n",
       "      <td>NaN</td>\n",
       "      <td>17700.000000</td>\n",
       "      <td>NaN</td>\n",
       "      <td>NaN</td>\n",
       "      <td>12.000000</td>\n",
       "      <td>NaN</td>\n",
       "      <td>NaN</td>\n",
       "      <td>NaN</td>\n",
       "      <td>NaN</td>\n",
       "      <td>0.0</td>\n",
       "      <td>99998.000000</td>\n",
       "      <td>NaN</td>\n",
       "    </tr>\n",
       "  </tbody>\n",
       "</table>\n",
       "</div>"
      ],
      "text/plain": [
       "               date_crawled         name  seller offer_type  price abtest  \\\n",
       "count                 50000        50000   50000      50000  50000  50000   \n",
       "unique                48213        38754       2          2   2357      2   \n",
       "top     2016-03-21 16:37:21  Ford_Fiesta  privat    Angebot     $0   test   \n",
       "freq                      3           78   49999      49999   1421  25756   \n",
       "mean                    NaN          NaN     NaN        NaN    NaN    NaN   \n",
       "std                     NaN          NaN     NaN        NaN    NaN    NaN   \n",
       "min                     NaN          NaN     NaN        NaN    NaN    NaN   \n",
       "25%                     NaN          NaN     NaN        NaN    NaN    NaN   \n",
       "50%                     NaN          NaN     NaN        NaN    NaN    NaN   \n",
       "75%                     NaN          NaN     NaN        NaN    NaN    NaN   \n",
       "max                     NaN          NaN     NaN        NaN    NaN    NaN   \n",
       "\n",
       "       vehicle_type  registration_year  gearbox      power_ps  model  \\\n",
       "count         44905       50000.000000    47320  50000.000000  47242   \n",
       "unique            8                NaN        2           NaN    245   \n",
       "top       limousine                NaN  manuell           NaN   golf   \n",
       "freq          12859                NaN    36993           NaN   4024   \n",
       "mean            NaN        2005.073280      NaN    116.355920    NaN   \n",
       "std             NaN         105.712813      NaN    209.216627    NaN   \n",
       "min             NaN        1000.000000      NaN      0.000000    NaN   \n",
       "25%             NaN        1999.000000      NaN     70.000000    NaN   \n",
       "50%             NaN        2003.000000      NaN    105.000000    NaN   \n",
       "75%             NaN        2008.000000      NaN    150.000000    NaN   \n",
       "max             NaN        9999.000000      NaN  17700.000000    NaN   \n",
       "\n",
       "         odometer  registration_month fuel_type       brand unrepaired_damage  \\\n",
       "count       50000        50000.000000     45518       50000             40171   \n",
       "unique         13                 NaN         7          40                 2   \n",
       "top     150,000km                 NaN    benzin  volkswagen              nein   \n",
       "freq        32424                 NaN     30107       10687             35232   \n",
       "mean          NaN            5.723360       NaN         NaN               NaN   \n",
       "std           NaN            3.711984       NaN         NaN               NaN   \n",
       "min           NaN            0.000000       NaN         NaN               NaN   \n",
       "25%           NaN            3.000000       NaN         NaN               NaN   \n",
       "50%           NaN            6.000000       NaN         NaN               NaN   \n",
       "75%           NaN            9.000000       NaN         NaN               NaN   \n",
       "max           NaN           12.000000       NaN         NaN               NaN   \n",
       "\n",
       "                 ad_created  nr_of_pictures   postal_code            last_seen  \n",
       "count                 50000         50000.0  50000.000000                50000  \n",
       "unique                   76             NaN           NaN                39481  \n",
       "top     2016-04-03 00:00:00             NaN           NaN  2016-04-07 06:17:27  \n",
       "freq                   1946             NaN           NaN                    8  \n",
       "mean                    NaN             0.0  50813.627300                  NaN  \n",
       "std                     NaN             0.0  25779.747957                  NaN  \n",
       "min                     NaN             0.0   1067.000000                  NaN  \n",
       "25%                     NaN             0.0  30451.000000                  NaN  \n",
       "50%                     NaN             0.0  49577.000000                  NaN  \n",
       "75%                     NaN             0.0  71540.000000                  NaN  \n",
       "max                     NaN             0.0  99998.000000                  NaN  "
      ]
     },
     "execution_count": 9,
     "metadata": {},
     "output_type": "execute_result"
    }
   ],
   "source": [
    "autos.describe(include = \"all\")"
   ]
  },
  {
   "cell_type": "code",
   "execution_count": 10,
   "metadata": {},
   "outputs": [
    {
     "data": {
      "text/plain": [
       "privat        49999\n",
       "gewerblich        1\n",
       "Name: seller, dtype: int64"
      ]
     },
     "execution_count": 10,
     "metadata": {},
     "output_type": "execute_result"
    }
   ],
   "source": [
    "autos[\"seller\"].value_counts()"
   ]
  },
  {
   "cell_type": "code",
   "execution_count": 11,
   "metadata": {},
   "outputs": [
    {
     "data": {
      "text/plain": [
       "Angebot    49999\n",
       "Gesuch         1\n",
       "Name: offer_type, dtype: int64"
      ]
     },
     "execution_count": 11,
     "metadata": {},
     "output_type": "execute_result"
    }
   ],
   "source": [
    "autos[\"offer_type\"].value_counts()"
   ]
  },
  {
   "cell_type": "markdown",
   "metadata": {},
   "source": [
    "First, we notice that the `seller` and `offer_type` columns are almost exclusively a single value. That means they are good candidates to drop as they won't have useful information for analysis. It also appears that the column `nr_of_pictures` is all zeros, since the minimum and maximum values in the column are both zero, so I will investigate that to confirm."
   ]
  },
  {
   "cell_type": "code",
   "execution_count": 12,
   "metadata": {},
   "outputs": [
    {
     "data": {
      "text/plain": [
       "0    50000\n",
       "Name: nr_of_pictures, dtype: int64"
      ]
     },
     "execution_count": 12,
     "metadata": {},
     "output_type": "execute_result"
    }
   ],
   "source": [
    "autos[\"nr_of_pictures\"].value_counts()"
   ]
  },
  {
   "cell_type": "markdown",
   "metadata": {},
   "source": [
    "The column `nr_of_pictures` is indeed all zeros, so that is another good candidate to drop.\n",
    "\n",
    "Continuing along, the minimum and maximum values in the `registration_year` column should also be addressed, as they are 1000 and 9999, respectively. Cars didn't exist in the year 1000, let alone eBay, and the year 9999 is far off into the future."
   ]
  },
  {
   "cell_type": "code",
   "execution_count": 13,
   "metadata": {},
   "outputs": [
    {
     "data": {
      "text/plain": [
       "Timestamp('2016-04-07 14:36:56')"
      ]
     },
     "execution_count": 13,
     "metadata": {},
     "output_type": "execute_result"
    }
   ],
   "source": [
    "# Calculate the most recent date an observation was collected.\n",
    "pd.to_datetime(autos[\"date_crawled\"]).max()"
   ]
  },
  {
   "cell_type": "code",
   "execution_count": 14,
   "metadata": {},
   "outputs": [
    {
     "data": {
      "text/plain": [
       "1972"
      ]
     },
     "execution_count": 14,
     "metadata": {},
     "output_type": "execute_result"
    }
   ],
   "source": [
    "# Count the number of cars with registration years prior to 1906 or after 2016\n",
    "autos.loc[~autos[\"registration_year\"].between(1906, 2016), \"registration_year\"].count()"
   ]
  },
  {
   "cell_type": "code",
   "execution_count": 15,
   "metadata": {},
   "outputs": [
    {
     "data": {
      "text/plain": [
       "2017    1453\n",
       "2018     492\n",
       "9999       4\n",
       "5000       4\n",
       "2019       3\n",
       "9000       2\n",
       "1800       2\n",
       "6200       1\n",
       "4500       1\n",
       "8888       1\n",
       "4800       1\n",
       "2800       1\n",
       "1001       1\n",
       "1000       1\n",
       "1111       1\n",
       "1500       1\n",
       "9996       1\n",
       "5911       1\n",
       "4100       1\n",
       "Name: registration_year, dtype: int64"
      ]
     },
     "execution_count": 15,
     "metadata": {},
     "output_type": "execute_result"
    }
   ],
   "source": [
    "autos.loc[~autos[\"registration_year\"].between(1906, 2016), \"registration_year\"].value_counts()"
   ]
  },
  {
   "cell_type": "markdown",
   "metadata": {},
   "source": [
    "Looking a little more closely we first note that that the most recent year the data was scraped was 2016, so there any listings which have a `registration_year` value of 2017 or later should be addressed. There are 1,972 entries which have a registration year earlier than 1906 ([the first year in which German license plates were issued with a lettering plan](https://en.wikipedia.org/wiki/Vehicle_registration_plates_of_Germany#History)) or after 2016. Since this is a only about 4% of the entries, dropping the corresponding rows wouldn't have a large negative impact on further analysis down the line. The majority of the entries with questionable registration year have a registration year of either 2017 or 2018, so might make sense to simply impute those values (along with the three values of 2019), if we had a way of confirming that those wrong years were simply the results of typos, and then drop the rows with the more egregious errors."
   ]
  },
  {
   "cell_type": "code",
   "execution_count": 16,
   "metadata": {},
   "outputs": [
    {
     "data": {
      "text/plain": [
       "5518"
      ]
     },
     "execution_count": 16,
     "metadata": {},
     "output_type": "execute_result"
    }
   ],
   "source": [
    "# Count the number of cars with power rating less than 1ps or greater than 2000ps\n",
    "autos.loc[~autos[\"power_ps\"].between(1, 2000), \"power_ps\"].count()"
   ]
  },
  {
   "cell_type": "code",
   "execution_count": 17,
   "metadata": {},
   "outputs": [
    {
     "data": {
      "text/plain": [
       "0        5500\n",
       "5867        1\n",
       "8404        1\n",
       "2729        1\n",
       "17700       1\n",
       "7511        1\n",
       "16011       1\n",
       "6226        1\n",
       "3500        1\n",
       "16312       1\n",
       "6045        1\n",
       "15001       1\n",
       "2018        1\n",
       "6512        1\n",
       "15016       1\n",
       "9011        1\n",
       "3750        1\n",
       "14009       1\n",
       "4400        1\n",
       "Name: power_ps, dtype: int64"
      ]
     },
     "execution_count": 17,
     "metadata": {},
     "output_type": "execute_result"
    }
   ],
   "source": [
    "autos.loc[~autos[\"power_ps\"].between(1, 2000), \"power_ps\"].value_counts()"
   ]
  },
  {
   "cell_type": "markdown",
   "metadata": {},
   "source": [
    "Next, the `power_ps` column has suspicious minimum (0ps) and maximum (17,700ps) values as well. It's impossible for a car to have a power rating of 0ps (though it some of the earliest cars had [power ratings of less than 1 ps](https://jalopnik.com/ten-of-the-least-powerful-road-cars-ever-made-1674061551)), and even the most [powerful car](https://en.wikipedia.org/wiki/List_of_automotive_superlatives#Power) available as of January 2020 (the [Lotus Evija](https://en.wikipedia.org/wiki/Lotus_Evija)) has a power rating of 2,000ps. One possibility is that the cars with a power rating of 0ps were listed without a power rating, so the value of zero actually represents a missing value. About 11% of the entries have power ratings outside the range of 1ps to 2,000ps, with the vast majority (5,500 entries) having a power listed as 0ps. That's a decent chunk of the data, so while it is pretty safe to drop the rows with the other impossible power values, depending on what we want to do with the data we may wish to impute the rows with a power of 0ps using something like the mean, median, or mode power value of the data set."
   ]
  },
  {
   "cell_type": "code",
   "execution_count": 18,
   "metadata": {},
   "outputs": [
    {
     "data": {
      "text/plain": [
       "0     5075\n",
       "3     5071\n",
       "6     4368\n",
       "5     4107\n",
       "4     4102\n",
       "7     3949\n",
       "10    3651\n",
       "12    3447\n",
       "9     3389\n",
       "11    3360\n",
       "1     3282\n",
       "8     3191\n",
       "2     3008\n",
       "Name: registration_month, dtype: int64"
      ]
     },
     "execution_count": 18,
     "metadata": {},
     "output_type": "execute_result"
    }
   ],
   "source": [
    "autos[\"registration_month\"].value_counts()"
   ]
  },
  {
   "cell_type": "markdown",
   "metadata": {},
   "source": [
    "Moving on to the `registration_month` column, we see that has a suspicious minimum value of 0. There is no zero month, so that could either be due to typos for September (9) or October (10), or accidentally using zero indexing when counting months. It could also represent cars for which a registration month was not given or found by the crawler. About 10% of the rows have a `registration_month` value of 0, so once again while we could drop those rows, we should consider what kind of analysis we wish to do going forward in order to decide between dropping the rows in question, imputing their `registration_month` values, or leaving them as-is.\n",
    "\n",
    "Lastly, while the minimum value of 1067 for the `postal_code` column initially looked potentially suspicious, it is reasonable given the [postal code system in Germany](https://en.wikipedia.org/wiki/List_of_postal_codes_in_Germany).\n",
    "\n",
    "Before moving on to the `price` and `odometer` columns, which are numeric values stored as text, we once again recall that the `vehicle_type`, `gearbox`, `model`, `fuel_type`, and `unrepaired_damage` columns contain some null values. None of the columns contains more than 20% null values, but will will still need to clean those up if at some point if we want to do analysis involving those columns."
   ]
  },
  {
   "cell_type": "code",
   "execution_count": 19,
   "metadata": {},
   "outputs": [],
   "source": [
    "# First strip leading $\n",
    "cleaned_price = autos[\"price\"].str.strip(\"$\")\n",
    "# Remove commas\n",
    "cleaned_price = cleaned_price.str.replace(\",\", \"\")\n",
    "# Convert to float64 dtype\n",
    "cleaned_price = cleaned_price.astype(float)\n",
    "autos[\"price\"] = cleaned_price"
   ]
  },
  {
   "cell_type": "markdown",
   "metadata": {},
   "source": [
    "To clean up the `price` column, all we needed to do was strip the `$` character and then remove all commas before casting it to the `float64` dtype."
   ]
  },
  {
   "cell_type": "code",
   "execution_count": 20,
   "metadata": {},
   "outputs": [],
   "source": [
    "# First strip trailing \"km\"\n",
    "cleaned_odometer = autos[\"odometer\"].str.strip(\"km\")\n",
    "# Remove commas\n",
    "cleaned_odometer = cleaned_odometer.str.replace(\",\", \"\")\n",
    "# Convert to float64\n",
    "cleaned_odometer = cleaned_odometer.astype(float)\n",
    "autos[\"odometer\"] = cleaned_odometer"
   ]
  },
  {
   "cell_type": "markdown",
   "metadata": {},
   "source": [
    "Cleaning up the `odometer` column was quite similar to cleaning the `price` column, except instead of stripping the `$` character we needed to strip the trailing `km`. Now that we have cleaned up the `odometer` column, we rename it to `odometer_km` so we can keep the information that the odometer readings for each row were recorded in kilometers."
   ]
  },
  {
   "cell_type": "code",
   "execution_count": 21,
   "metadata": {},
   "outputs": [],
   "source": [
    "autos.rename(columns = {\"odometer\": \"odometer_km\"}, inplace = True)"
   ]
  },
  {
   "cell_type": "markdown",
   "metadata": {},
   "source": [
    "# Exploring the Odometer and Price Columns"
   ]
  },
  {
   "cell_type": "markdown",
   "metadata": {},
   "source": [
    "Now that we have computed the `odometer_km` and `price` columns from strings into floats, we can analyze them to look for potential outliers that we may want to either remove or impute, depending on the further analysis we wish to do. It is important, however, when analyzing these columns for potential outliers, to ask ourselves if any outliers we encounter might provide meaningful information before excluding those values or imputing them. Especially if our domain knowledge tells us that the outliers, while rare, are still possible, then they may be worth keeping as-is. First, we will explore the `odometer_km` column."
   ]
  },
  {
   "cell_type": "code",
   "execution_count": 22,
   "metadata": {},
   "outputs": [
    {
     "data": {
      "text/plain": [
       "13"
      ]
     },
     "execution_count": 22,
     "metadata": {},
     "output_type": "execute_result"
    }
   ],
   "source": [
    "autos[\"odometer_km\"].nunique()"
   ]
  },
  {
   "cell_type": "code",
   "execution_count": 23,
   "metadata": {},
   "outputs": [
    {
     "data": {
      "text/plain": [
       "count     50000.000000\n",
       "mean     125732.700000\n",
       "std       40042.211706\n",
       "min        5000.000000\n",
       "25%      125000.000000\n",
       "50%      150000.000000\n",
       "75%      150000.000000\n",
       "max      150000.000000\n",
       "Name: odometer_km, dtype: float64"
      ]
     },
     "execution_count": 23,
     "metadata": {},
     "output_type": "execute_result"
    }
   ],
   "source": [
    "autos[\"odometer_km\"].describe()"
   ]
  },
  {
   "cell_type": "code",
   "execution_count": 24,
   "metadata": {},
   "outputs": [
    {
     "data": {
      "text/plain": [
       "150000.0    32424\n",
       "125000.0     5170\n",
       "100000.0     2169\n",
       "90000.0      1757\n",
       "80000.0      1436\n",
       "70000.0      1230\n",
       "60000.0      1164\n",
       "50000.0      1027\n",
       "5000.0        967\n",
       "40000.0       819\n",
       "30000.0       789\n",
       "20000.0       784\n",
       "10000.0       264\n",
       "Name: odometer_km, dtype: int64"
      ]
     },
     "execution_count": 24,
     "metadata": {},
     "output_type": "execute_result"
    }
   ],
   "source": [
    "autos[\"odometer_km\"].value_counts()"
   ]
  },
  {
   "cell_type": "code",
   "execution_count": 25,
   "metadata": {},
   "outputs": [
    {
     "data": {
      "text/plain": [
       "39763"
      ]
     },
     "execution_count": 25,
     "metadata": {},
     "output_type": "execute_result"
    }
   ],
   "source": [
    "(autos[\"odometer_km\"] >= 100000).sum()"
   ]
  },
  {
   "cell_type": "markdown",
   "metadata": {},
   "source": [
    "We see that there are 13 distinct values in the `odometer_km` column, ranging from 5,000km to 150,000km. This is a reasonable range of odometer readings for used cars, since it corresponds to a range of approximately 3,100-93,000 miles. The majority of cars (about 60%) in the set have an odometer reading of 150,000km, and almost 80% of the cars have an odometer reading of at least 100,000km. While I would expect more unique values in this column, I assume that the small number is due to rounding choices made by the person who originally collected this data or by limitations in the odometer reading options users have when posting a listing. Since there don't appear to be any outliers in the `odometer_km` column, we move on to the `price` column."
   ]
  },
  {
   "cell_type": "code",
   "execution_count": 26,
   "metadata": {},
   "outputs": [
    {
     "data": {
      "text/plain": [
       "2357"
      ]
     },
     "execution_count": 26,
     "metadata": {},
     "output_type": "execute_result"
    }
   ],
   "source": [
    "autos[\"price\"].nunique()"
   ]
  },
  {
   "cell_type": "markdown",
   "metadata": {},
   "source": [
    "There are only 2,357 distinct values in the `price` column. Again this is a fairly small number relative to the size of the dataset, but I assume it is likely due to some of the more common preferences people have when setting prices (e.g. rounding to even multiples of 5, 10, 100, 500, 1000, etc.)."
   ]
  },
  {
   "cell_type": "code",
   "execution_count": 27,
   "metadata": {},
   "outputs": [
    {
     "data": {
      "text/plain": [
       "count       50000.00\n",
       "mean         9840.04\n",
       "std        481104.38\n",
       "min             0.00\n",
       "25%          1100.00\n",
       "50%          2950.00\n",
       "75%          7200.00\n",
       "max      99999999.00\n",
       "Name: price, dtype: float64"
      ]
     },
     "execution_count": 27,
     "metadata": {},
     "output_type": "execute_result"
    }
   ],
   "source": [
    "np.round(autos[\"price\"].describe(), 2)"
   ]
  },
  {
   "cell_type": "markdown",
   "metadata": {},
   "source": [
    "The `price` column has both unrealistic minimum and maximum values that immediately stand out. At the low end, it is impossible to post any item on eBay with a price of zero. At the high end, a price of \\$99,999,999, while certainly a possible list price ([in 2005 a \\$168 million gigayacht was listed and reportedly sold on eBay](https://www.ebayinc.com/company/our-history/)), it is still quite unrealistic. Looking through posts from eBay about the most expensive and interesting purchases made through the site ([2019](https://www.ebayinc.com/stories/news/ebay-unveils-the-most-interesting-and-expensive-purchases-of-2019/), [2018](https://www.ebayinc.com/stories/news/revealing-ebays-20-most-expensive-purchases-of-2018/), [2017](https://www.ebay.com/motors/blog/the-most-expensive-cars-sold-on-ebay-motors-in-2017/), [2016](https://www.ebay.com/motors/blog/most-expensive-cars-ebay-2016/), [2010](https://www.ebay.com/motors/blog/most-expensive-cars-sold-ebay/)), while an imperfect reference since it only discusses listings that were actually sold, suggests that the highest realistic price for a car would be \\$4,000,000, and that typically the most expensive cars are listed for \\$2,000,000 or less."
   ]
  },
  {
   "cell_type": "code",
   "execution_count": 28,
   "metadata": {},
   "outputs": [
    {
     "data": {
      "text/plain": [
       "0.0           1421\n",
       "10000000.0       1\n",
       "11111111.0       2\n",
       "12345678.0       3\n",
       "27322222.0       1\n",
       "99999999.0       1\n",
       "Name: price, dtype: int64"
      ]
     },
     "execution_count": 28,
     "metadata": {},
     "output_type": "execute_result"
    }
   ],
   "source": [
    "# Get value counts for the prices that are less than 0.01 and greater than 4000000\n",
    "autos.loc[~autos[\"price\"].between(0.01, 4000000), \"price\"].value_counts().sort_index()"
   ]
  },
  {
   "cell_type": "code",
   "execution_count": 29,
   "metadata": {},
   "outputs": [
    {
     "data": {
      "text/plain": [
       "1429"
      ]
     },
     "execution_count": 29,
     "metadata": {},
     "output_type": "execute_result"
    }
   ],
   "source": [
    "# Count the number of cars with prices less than 0.01 and greater than 4000000\n",
    "autos.loc[~autos[\"price\"].between(0.01, 4000000), \"price\"].count()"
   ]
  },
  {
   "cell_type": "markdown",
   "metadata": {},
   "source": [
    "We see that the vast majority of cars with a unrealistic prices have a price of zero, with 1,421 such vehicles, and in total only about 3% (1,429) of the listings have extreme outlier prices (prices of either zero or larger than 4,000,000). That is a very small fraction of the listings, so even if those prices are accurate, it still makes sense to exclude those listings if we want to do any analyses that involve the price. Let's exclude those outlier prices to see how that affects the descriptive statistics for the remaining values."
   ]
  },
  {
   "cell_type": "code",
   "execution_count": 30,
   "metadata": {},
   "outputs": [
    {
     "data": {
      "text/plain": [
       "count      48571.00\n",
       "mean        6082.24\n",
       "std        22786.98\n",
       "min            1.00\n",
       "25%         1200.00\n",
       "50%         3000.00\n",
       "75%         7490.00\n",
       "max      3890000.00\n",
       "Name: price, dtype: float64"
      ]
     },
     "execution_count": 30,
     "metadata": {},
     "output_type": "execute_result"
    }
   ],
   "source": [
    "np.round(autos.loc[autos[\"price\"].between(0.01, 4000000), \"price\"].describe(), 2)"
   ]
  },
  {
   "cell_type": "markdown",
   "metadata": {},
   "source": [
    "After excluding the most egregious prices, there still appears to be some rather extreme values at both the high and the low ends."
   ]
  },
  {
   "cell_type": "code",
   "execution_count": 31,
   "metadata": {},
   "outputs": [
    {
     "data": {
      "text/plain": [
       "1.0     156\n",
       "2.0       3\n",
       "3.0       1\n",
       "5.0       2\n",
       "8.0       1\n",
       "9.0       1\n",
       "10.0      7\n",
       "11.0      2\n",
       "12.0      3\n",
       "13.0      2\n",
       "14.0      1\n",
       "15.0      2\n",
       "17.0      3\n",
       "18.0      1\n",
       "20.0      4\n",
       "25.0      5\n",
       "29.0      1\n",
       "30.0      7\n",
       "35.0      1\n",
       "40.0      6\n",
       "45.0      4\n",
       "47.0      1\n",
       "49.0      4\n",
       "50.0     49\n",
       "55.0      2\n",
       "Name: price, dtype: int64"
      ]
     },
     "execution_count": 31,
     "metadata": {},
     "output_type": "execute_result"
    }
   ],
   "source": [
    "autos.loc[autos[\"price\"].between(0.01, 4000000), \"price\"].value_counts().sort_index().head(25)"
   ]
  },
  {
   "cell_type": "markdown",
   "metadata": {},
   "source": [
    "At the low end, there are prices that are below \\$100. While those are quite low prices for a car, they are still within reason if there are sellers who are either trying to get rid of a truly junky car or are trying to use a very low price to catch the attention of potential buyers browsing the eBay listings."
   ]
  },
  {
   "cell_type": "code",
   "execution_count": 32,
   "metadata": {},
   "outputs": [
    {
     "data": {
      "text/plain": [
       "151990.0     1\n",
       "155000.0     1\n",
       "163500.0     1\n",
       "163991.0     1\n",
       "169000.0     1\n",
       "169999.0     1\n",
       "175000.0     1\n",
       "180000.0     1\n",
       "190000.0     1\n",
       "194000.0     1\n",
       "197000.0     1\n",
       "198000.0     1\n",
       "220000.0     1\n",
       "250000.0     1\n",
       "259000.0     1\n",
       "265000.0     1\n",
       "295000.0     1\n",
       "299000.0     1\n",
       "345000.0     1\n",
       "350000.0     1\n",
       "999990.0     1\n",
       "999999.0     2\n",
       "1234566.0    1\n",
       "1300000.0    1\n",
       "3890000.0    1\n",
       "Name: price, dtype: int64"
      ]
     },
     "execution_count": 32,
     "metadata": {},
     "output_type": "execute_result"
    }
   ],
   "source": [
    "autos.loc[autos[\"price\"].between(0.01, 4000000), \"price\"].value_counts().sort_index().tail(25)"
   ]
  },
  {
   "cell_type": "markdown",
   "metadata": {},
   "source": [
    "There are a small handful of cars at the high end. The prices seem to increase fairly incrementally up to \\$350,000, and then there is a large jump from there. Since the cars with prices higher than \\$350,000 could still be legitimate luxury vehicles or otherwise valuable cars, and since there are so few of them, we could inspect those rows by hand to see if the vehicle name, model, and brand provide any information to help us decide whether or not to exclude them, or if we might want to impute those price values with something more reasonable."
   ]
  },
  {
   "cell_type": "code",
   "execution_count": 33,
   "metadata": {},
   "outputs": [
    {
     "data": {
      "text/html": [
       "<div>\n",
       "<style scoped>\n",
       "    .dataframe tbody tr th:only-of-type {\n",
       "        vertical-align: middle;\n",
       "    }\n",
       "\n",
       "    .dataframe tbody tr th {\n",
       "        vertical-align: top;\n",
       "    }\n",
       "\n",
       "    .dataframe thead th {\n",
       "        text-align: right;\n",
       "    }\n",
       "</style>\n",
       "<table border=\"1\" class=\"dataframe\">\n",
       "  <thead>\n",
       "    <tr style=\"text-align: right;\">\n",
       "      <th></th>\n",
       "      <th>name</th>\n",
       "      <th>model</th>\n",
       "      <th>brand</th>\n",
       "      <th>registration_year</th>\n",
       "      <th>price</th>\n",
       "    </tr>\n",
       "  </thead>\n",
       "  <tbody>\n",
       "    <tr>\n",
       "      <th>514</th>\n",
       "      <td>Ford_Focus_Turnier_1.6_16V_Style</td>\n",
       "      <td>focus</td>\n",
       "      <td>ford</td>\n",
       "      <td>2009</td>\n",
       "      <td>999999.0</td>\n",
       "    </tr>\n",
       "    <tr>\n",
       "      <th>2897</th>\n",
       "      <td>Escort_MK_1_Hundeknochen_zum_umbauen_auf_RS_2000</td>\n",
       "      <td>escort</td>\n",
       "      <td>ford</td>\n",
       "      <td>1973</td>\n",
       "      <td>11111111.0</td>\n",
       "    </tr>\n",
       "    <tr>\n",
       "      <th>7814</th>\n",
       "      <td>Ferrari_F40</td>\n",
       "      <td>NaN</td>\n",
       "      <td>sonstige_autos</td>\n",
       "      <td>1992</td>\n",
       "      <td>1300000.0</td>\n",
       "    </tr>\n",
       "    <tr>\n",
       "      <th>11137</th>\n",
       "      <td>suche_maserati_3200_gt_Zustand_unwichtig_laufe...</td>\n",
       "      <td>NaN</td>\n",
       "      <td>sonstige_autos</td>\n",
       "      <td>1960</td>\n",
       "      <td>10000000.0</td>\n",
       "    </tr>\n",
       "    <tr>\n",
       "      <th>22947</th>\n",
       "      <td>Bmw_530d_zum_ausschlachten</td>\n",
       "      <td>NaN</td>\n",
       "      <td>bmw</td>\n",
       "      <td>1999</td>\n",
       "      <td>1234566.0</td>\n",
       "    </tr>\n",
       "    <tr>\n",
       "      <th>24384</th>\n",
       "      <td>Schlachte_Golf_3_gt_tdi</td>\n",
       "      <td>NaN</td>\n",
       "      <td>volkswagen</td>\n",
       "      <td>1995</td>\n",
       "      <td>11111111.0</td>\n",
       "    </tr>\n",
       "    <tr>\n",
       "      <th>27371</th>\n",
       "      <td>Fiat_Punto</td>\n",
       "      <td>punto</td>\n",
       "      <td>fiat</td>\n",
       "      <td>2017</td>\n",
       "      <td>12345678.0</td>\n",
       "    </tr>\n",
       "    <tr>\n",
       "      <th>37585</th>\n",
       "      <td>Volkswagen_Jetta_GT</td>\n",
       "      <td>jetta</td>\n",
       "      <td>volkswagen</td>\n",
       "      <td>1985</td>\n",
       "      <td>999990.0</td>\n",
       "    </tr>\n",
       "    <tr>\n",
       "      <th>39377</th>\n",
       "      <td>Tausche_volvo_v40_gegen_van</td>\n",
       "      <td>v40</td>\n",
       "      <td>volvo</td>\n",
       "      <td>2018</td>\n",
       "      <td>12345678.0</td>\n",
       "    </tr>\n",
       "    <tr>\n",
       "      <th>39705</th>\n",
       "      <td>Tausch_gegen_gleichwertiges</td>\n",
       "      <td>s_klasse</td>\n",
       "      <td>mercedes_benz</td>\n",
       "      <td>1999</td>\n",
       "      <td>99999999.0</td>\n",
       "    </tr>\n",
       "    <tr>\n",
       "      <th>42221</th>\n",
       "      <td>Leasinguebernahme</td>\n",
       "      <td>c4</td>\n",
       "      <td>citroen</td>\n",
       "      <td>2014</td>\n",
       "      <td>27322222.0</td>\n",
       "    </tr>\n",
       "    <tr>\n",
       "      <th>43049</th>\n",
       "      <td>2_VW_Busse_T3</td>\n",
       "      <td>transporter</td>\n",
       "      <td>volkswagen</td>\n",
       "      <td>1981</td>\n",
       "      <td>999999.0</td>\n",
       "    </tr>\n",
       "    <tr>\n",
       "      <th>47598</th>\n",
       "      <td>Opel_Vectra_B_1_6i_16V_Facelift_Tuning_Showcar...</td>\n",
       "      <td>vectra</td>\n",
       "      <td>opel</td>\n",
       "      <td>2001</td>\n",
       "      <td>12345678.0</td>\n",
       "    </tr>\n",
       "    <tr>\n",
       "      <th>47634</th>\n",
       "      <td>Ferrari_FXX</td>\n",
       "      <td>NaN</td>\n",
       "      <td>sonstige_autos</td>\n",
       "      <td>2006</td>\n",
       "      <td>3890000.0</td>\n",
       "    </tr>\n",
       "  </tbody>\n",
       "</table>\n",
       "</div>"
      ],
      "text/plain": [
       "                                                    name        model  \\\n",
       "514                     Ford_Focus_Turnier_1.6_16V_Style        focus   \n",
       "2897    Escort_MK_1_Hundeknochen_zum_umbauen_auf_RS_2000       escort   \n",
       "7814                                         Ferrari_F40          NaN   \n",
       "11137  suche_maserati_3200_gt_Zustand_unwichtig_laufe...          NaN   \n",
       "22947                         Bmw_530d_zum_ausschlachten          NaN   \n",
       "24384                            Schlachte_Golf_3_gt_tdi          NaN   \n",
       "27371                                         Fiat_Punto        punto   \n",
       "37585                                Volkswagen_Jetta_GT        jetta   \n",
       "39377                        Tausche_volvo_v40_gegen_van          v40   \n",
       "39705                        Tausch_gegen_gleichwertiges     s_klasse   \n",
       "42221                                  Leasinguebernahme           c4   \n",
       "43049                                      2_VW_Busse_T3  transporter   \n",
       "47598  Opel_Vectra_B_1_6i_16V_Facelift_Tuning_Showcar...       vectra   \n",
       "47634                                        Ferrari_FXX          NaN   \n",
       "\n",
       "                brand  registration_year       price  \n",
       "514              ford               2009    999999.0  \n",
       "2897             ford               1973  11111111.0  \n",
       "7814   sonstige_autos               1992   1300000.0  \n",
       "11137  sonstige_autos               1960  10000000.0  \n",
       "22947             bmw               1999   1234566.0  \n",
       "24384      volkswagen               1995  11111111.0  \n",
       "27371            fiat               2017  12345678.0  \n",
       "37585      volkswagen               1985    999990.0  \n",
       "39377           volvo               2018  12345678.0  \n",
       "39705   mercedes_benz               1999  99999999.0  \n",
       "42221         citroen               2014  27322222.0  \n",
       "43049      volkswagen               1981    999999.0  \n",
       "47598            opel               2001  12345678.0  \n",
       "47634  sonstige_autos               2006   3890000.0  "
      ]
     },
     "execution_count": 33,
     "metadata": {},
     "output_type": "execute_result"
    }
   ],
   "source": [
    "autos.loc[autos[\"price\"] > 350000, [\"name\", \"model\", \"brand\", \"registration_year\", \"price\"]]"
   ]
  },
  {
   "cell_type": "markdown",
   "metadata": {},
   "source": [
    "While there are some cars that clearly shouldn't have such a high price (such as the Ford Focus in the first row, unless it was posted with a price of \\$999,999 as a joke) and others have prices that are conceivable (such as the Ferrari FXX in the last row), other cars would require more research to determing whether or not they have reasonable prices in this data set. Doing this might not be worth the time and effort unless we need accurate price information to answer questions about cars at the top end of the pricing spectrum. If we are more interested in analyzing the vast majority of cars with prices of \\$350,000 or less, then it would be a lot easier to simply drop these rows."
   ]
  },
  {
   "cell_type": "markdown",
   "metadata": {},
   "source": [
    "# Exploring the Date Columns"
   ]
  },
  {
   "cell_type": "markdown",
   "metadata": {},
   "source": [
    "Now that we have explored the `odometer_km` and `price` columns and identified some possible further tasks for cleaning up the data, we continue our exploration by looking at the five columns which represent date values: `date_crawled`, `last_seen`, `ad_created`, `registration_month`, and `registration_year`. As we saw in our initial exploration, the `date_crawled`, `last_seen`, and `ad_created` columns are currently reprented as strings, while the `registration_month` and `registration_year` columns are stored as integers. We don't need to do any additional preprocessing to compute helpful summary statistics for the `registration_month` and `registration_year` columns, so we will first focus our attention to the date columns which are stored as strings."
   ]
  },
  {
   "cell_type": "code",
   "execution_count": 34,
   "metadata": {},
   "outputs": [
    {
     "data": {
      "text/html": [
       "<div>\n",
       "<style scoped>\n",
       "    .dataframe tbody tr th:only-of-type {\n",
       "        vertical-align: middle;\n",
       "    }\n",
       "\n",
       "    .dataframe tbody tr th {\n",
       "        vertical-align: top;\n",
       "    }\n",
       "\n",
       "    .dataframe thead th {\n",
       "        text-align: right;\n",
       "    }\n",
       "</style>\n",
       "<table border=\"1\" class=\"dataframe\">\n",
       "  <thead>\n",
       "    <tr style=\"text-align: right;\">\n",
       "      <th></th>\n",
       "      <th>date_crawled</th>\n",
       "      <th>ad_created</th>\n",
       "      <th>last_seen</th>\n",
       "    </tr>\n",
       "  </thead>\n",
       "  <tbody>\n",
       "    <tr>\n",
       "      <th>0</th>\n",
       "      <td>2016-03-26 17:47:46</td>\n",
       "      <td>2016-03-26 00:00:00</td>\n",
       "      <td>2016-04-06 06:45:54</td>\n",
       "    </tr>\n",
       "    <tr>\n",
       "      <th>1</th>\n",
       "      <td>2016-04-04 13:38:56</td>\n",
       "      <td>2016-04-04 00:00:00</td>\n",
       "      <td>2016-04-06 14:45:08</td>\n",
       "    </tr>\n",
       "    <tr>\n",
       "      <th>2</th>\n",
       "      <td>2016-03-26 18:57:24</td>\n",
       "      <td>2016-03-26 00:00:00</td>\n",
       "      <td>2016-04-06 20:15:37</td>\n",
       "    </tr>\n",
       "    <tr>\n",
       "      <th>3</th>\n",
       "      <td>2016-03-12 16:58:10</td>\n",
       "      <td>2016-03-12 00:00:00</td>\n",
       "      <td>2016-03-15 03:16:28</td>\n",
       "    </tr>\n",
       "    <tr>\n",
       "      <th>4</th>\n",
       "      <td>2016-04-01 14:38:50</td>\n",
       "      <td>2016-04-01 00:00:00</td>\n",
       "      <td>2016-04-01 14:38:50</td>\n",
       "    </tr>\n",
       "  </tbody>\n",
       "</table>\n",
       "</div>"
      ],
      "text/plain": [
       "          date_crawled           ad_created            last_seen\n",
       "0  2016-03-26 17:47:46  2016-03-26 00:00:00  2016-04-06 06:45:54\n",
       "1  2016-04-04 13:38:56  2016-04-04 00:00:00  2016-04-06 14:45:08\n",
       "2  2016-03-26 18:57:24  2016-03-26 00:00:00  2016-04-06 20:15:37\n",
       "3  2016-03-12 16:58:10  2016-03-12 00:00:00  2016-03-15 03:16:28\n",
       "4  2016-04-01 14:38:50  2016-04-01 00:00:00  2016-04-01 14:38:50"
      ]
     },
     "execution_count": 34,
     "metadata": {},
     "output_type": "execute_result"
    }
   ],
   "source": [
    "autos[[\"date_crawled\", \"ad_created\", \"last_seen\"]].head()"
   ]
  },
  {
   "cell_type": "markdown",
   "metadata": {},
   "source": [
    "Looking at the head of those columns, it appears the strings are formatted as timestamps, so we can make use of the built-in tools that pandas has for working with dates and times. While we will only be using very basic functionality, there are helpful detailed explanations for the the date/time functionality in pandas in the [official documentation](https://pandas.pydata.org/pandas-docs/stable/user_guide/timeseries.html) and in the [*Python Data Science Handbook* by Jake VanderPlas](https://pandas.pydata.org/pandas-docs/stable/user_guide/timeseries.html). We will start off by converting those columns to pandas `datetime` objects using the `pandas.to_datetime()` function. More info about all of the optional arguments for that function can be found [here](https://pandas.pydata.org/pandas-docs/stable/reference/api/pandas.to_datetime.html#pandas.to_datetime)."
   ]
  },
  {
   "cell_type": "code",
   "execution_count": 35,
   "metadata": {},
   "outputs": [],
   "source": [
    "autos[[\"date_crawled\", \"ad_created\", \"last_seen\"]] = autos[[\"date_crawled\", \"ad_created\", \"last_seen\"]].apply(pd.to_datetime)"
   ]
  },
  {
   "cell_type": "code",
   "execution_count": 36,
   "metadata": {},
   "outputs": [
    {
     "name": "stdout",
     "output_type": "stream",
     "text": [
      "<class 'pandas.core.frame.DataFrame'>\n",
      "RangeIndex: 50000 entries, 0 to 49999\n",
      "Data columns (total 3 columns):\n",
      "date_crawled    50000 non-null datetime64[ns]\n",
      "ad_created      50000 non-null datetime64[ns]\n",
      "last_seen       50000 non-null datetime64[ns]\n",
      "dtypes: datetime64[ns](3)\n",
      "memory usage: 1.1 MB\n"
     ]
    }
   ],
   "source": [
    "autos[[\"date_crawled\", \"ad_created\", \"last_seen\"]].info()"
   ]
  },
  {
   "cell_type": "markdown",
   "metadata": {},
   "source": [
    "Now that we have converted those columns to `datetime` objects, we can quite conveniently calculate the distributions of the values in a large variety of ways. For each column, we will start off by investigating the distributions based on full date (day, month, year), but we can also explore the distributions based on [year, day of month, day of week, hour of day, and more](https://pandas.pydata.org/pandas-docs/stable/reference/series.html#datetime-properties). In order to convert each full timestamp into the format `YYYY-MM-DD`, we take the [floor of each timestamp based on using days as my frequency](https://pandas.pydata.org/pandas-docs/stable/reference/api/pandas.Series.dt.floor.html#pandas.Series.dt.floor)."
   ]
  },
  {
   "cell_type": "code",
   "execution_count": 37,
   "metadata": {},
   "outputs": [
    {
     "data": {
      "text/plain": [
       "2016-03-05    0.02538\n",
       "2016-03-06    0.01394\n",
       "2016-03-07    0.03596\n",
       "2016-03-08    0.03330\n",
       "2016-03-09    0.03322\n",
       "2016-03-10    0.03212\n",
       "2016-03-11    0.03248\n",
       "2016-03-12    0.03678\n",
       "2016-03-13    0.01556\n",
       "2016-03-14    0.03662\n",
       "2016-03-15    0.03398\n",
       "2016-03-16    0.02950\n",
       "2016-03-17    0.03152\n",
       "2016-03-18    0.01306\n",
       "2016-03-19    0.03490\n",
       "2016-03-20    0.03782\n",
       "2016-03-21    0.03752\n",
       "2016-03-22    0.03294\n",
       "2016-03-23    0.03238\n",
       "2016-03-24    0.02910\n",
       "2016-03-25    0.03174\n",
       "2016-03-26    0.03248\n",
       "2016-03-27    0.03104\n",
       "2016-03-28    0.03484\n",
       "2016-03-29    0.03418\n",
       "2016-03-30    0.03362\n",
       "2016-03-31    0.03192\n",
       "2016-04-01    0.03380\n",
       "2016-04-02    0.03540\n",
       "2016-04-03    0.03868\n",
       "2016-04-04    0.03652\n",
       "2016-04-05    0.01310\n",
       "2016-04-06    0.00318\n",
       "2016-04-07    0.00142\n",
       "Name: date_crawled, dtype: float64"
      ]
     },
     "execution_count": 37,
     "metadata": {},
     "output_type": "execute_result"
    }
   ],
   "source": [
    "autos[\"date_crawled\"].dt.floor(\"D\").value_counts(normalize = True).sort_index()"
   ]
  },
  {
   "cell_type": "markdown",
   "metadata": {},
   "source": [
    "We can see that the data was scraped over the period of approximately one month, from March 5, 2016 to April 7, 2016, with the distribution being fairly uniform. Since the data was fairly uniformly scraped over the course of the month, analyzing the distribution based on day of week wouldn't be particular interesting, but we can still look at the distribution based on hour."
   ]
  },
  {
   "cell_type": "code",
   "execution_count": 38,
   "metadata": {},
   "outputs": [
    {
     "data": {
      "text/plain": [
       "0     0.02716\n",
       "1     0.01542\n",
       "2     0.00652\n",
       "3     0.00502\n",
       "4     0.00420\n",
       "5     0.00310\n",
       "6     0.00350\n",
       "7     0.01442\n",
       "8     0.01994\n",
       "9     0.03556\n",
       "10    0.04812\n",
       "11    0.05540\n",
       "12    0.05884\n",
       "13    0.06466\n",
       "14    0.06808\n",
       "15    0.06626\n",
       "16    0.06960\n",
       "17    0.06988\n",
       "18    0.07356\n",
       "19    0.06792\n",
       "20    0.06780\n",
       "21    0.06148\n",
       "22    0.05088\n",
       "23    0.04268\n",
       "Name: date_crawled, dtype: float64"
      ]
     },
     "execution_count": 38,
     "metadata": {},
     "output_type": "execute_result"
    }
   ],
   "source": [
    "autos[\"date_crawled\"].dt.hour.value_counts(normalize = True).sort_index()"
   ]
  },
  {
   "cell_type": "markdown",
   "metadata": {},
   "source": [
    "It appears that most of the data was scraped pretty uniformly outside the hours 2:00am to 6:59am. Now we move on to the `ad_created` column."
   ]
  },
  {
   "cell_type": "code",
   "execution_count": 39,
   "metadata": {},
   "outputs": [
    {
     "data": {
      "text/plain": [
       "2015-06-11    0.00002\n",
       "2015-08-10    0.00002\n",
       "2015-09-09    0.00002\n",
       "2015-11-10    0.00002\n",
       "2015-12-05    0.00002\n",
       "Name: ad_created, dtype: float64"
      ]
     },
     "execution_count": 39,
     "metadata": {},
     "output_type": "execute_result"
    }
   ],
   "source": [
    "autos[\"ad_created\"].dt.floor(\"D\").value_counts(normalize = True).sort_index().head()"
   ]
  },
  {
   "cell_type": "code",
   "execution_count": 40,
   "metadata": {},
   "outputs": [
    {
     "data": {
      "text/plain": [
       "2016-04-03    0.03892\n",
       "2016-04-04    0.03688\n",
       "2016-04-05    0.01184\n",
       "2016-04-06    0.00326\n",
       "2016-04-07    0.00128\n",
       "Name: ad_created, dtype: float64"
      ]
     },
     "execution_count": 40,
     "metadata": {},
     "output_type": "execute_result"
    }
   ],
   "source": [
    "autos[\"ad_created\"].dt.floor(\"D\").value_counts(normalize = True).sort_index().tail()"
   ]
  },
  {
   "cell_type": "code",
   "execution_count": 41,
   "metadata": {},
   "outputs": [
    {
     "data": {
      "text/plain": [
       "2016    0.99988\n",
       "2015    0.00012\n",
       "Name: ad_created, dtype: float64"
      ]
     },
     "execution_count": 41,
     "metadata": {},
     "output_type": "execute_result"
    }
   ],
   "source": [
    "autos[\"ad_created\"].dt.year.value_counts(normalize = True)"
   ]
  },
  {
   "cell_type": "code",
   "execution_count": 42,
   "metadata": {},
   "outputs": [
    {
     "data": {
      "text/plain": [
       "1    0.000240\n",
       "2    0.001260\n",
       "3    0.837420\n",
       "4    0.161079\n",
       "Name: ad_created, dtype: float64"
      ]
     },
     "execution_count": 42,
     "metadata": {},
     "output_type": "execute_result"
    }
   ],
   "source": [
    "autos.loc[autos[\"ad_created\"].dt.year == 2016, \"ad_created\"].dt.month.value_counts(normalize = True).sort_index()"
   ]
  },
  {
   "cell_type": "markdown",
   "metadata": {},
   "source": [
    "The ads were all created between June 11, 2015 and April 7, 2016 (the last date on which data was scraped). The vast majority of listings are from March and April 2016. Since I did so with the `date_crawled` column, we will also look at the distribution of when the ads were created based on hour."
   ]
  },
  {
   "cell_type": "code",
   "execution_count": 43,
   "metadata": {},
   "outputs": [
    {
     "data": {
      "text/plain": [
       "0    1.0\n",
       "Name: ad_created, dtype: float64"
      ]
     },
     "execution_count": 43,
     "metadata": {},
     "output_type": "execute_result"
    }
   ],
   "source": [
    "autos[\"ad_created\"].dt.hour.value_counts(normalize = True).sort_index()"
   ]
  },
  {
   "cell_type": "code",
   "execution_count": 44,
   "metadata": {},
   "outputs": [
    {
     "data": {
      "text/plain": [
       "00:00:00    1.0\n",
       "Name: ad_created, dtype: float64"
      ]
     },
     "execution_count": 44,
     "metadata": {},
     "output_type": "execute_result"
    }
   ],
   "source": [
    "autos[\"ad_created\"].dt.time.value_counts(normalize = True).sort_index()"
   ]
  },
  {
   "cell_type": "markdown",
   "metadata": {},
   "source": [
    "All of listings have a creation time of 00:00:00 (exactly midnight), which doesn't make sense. I assume it may be due to either only the date of creation being accessible to the crawler that scraped the data or a choice made by the person who collected the data to exclude the finer-grained time information for this column. For the purposes of overall analysis it doesn't make much a difference, though not having fine-grained time information does prevent us from exploring the possibility of potentially interesting time-based patterns related to when ads are listed. Lastly, we look over the `last_seen` column."
   ]
  },
  {
   "cell_type": "code",
   "execution_count": 45,
   "metadata": {},
   "outputs": [
    {
     "data": {
      "text/plain": [
       "2016-03-05    0.00108\n",
       "2016-03-06    0.00442\n",
       "2016-03-07    0.00536\n",
       "2016-03-08    0.00760\n",
       "2016-03-09    0.00986\n",
       "2016-03-10    0.01076\n",
       "2016-03-11    0.01252\n",
       "2016-03-12    0.02382\n",
       "2016-03-13    0.00898\n",
       "2016-03-14    0.01280\n",
       "2016-03-15    0.01588\n",
       "2016-03-16    0.01644\n",
       "2016-03-17    0.02792\n",
       "2016-03-18    0.00742\n",
       "2016-03-19    0.01574\n",
       "2016-03-20    0.02070\n",
       "2016-03-21    0.02074\n",
       "2016-03-22    0.02158\n",
       "2016-03-23    0.01858\n",
       "2016-03-24    0.01956\n",
       "2016-03-25    0.01920\n",
       "2016-03-26    0.01696\n",
       "2016-03-27    0.01602\n",
       "2016-03-28    0.02086\n",
       "2016-03-29    0.02234\n",
       "2016-03-30    0.02484\n",
       "2016-03-31    0.02384\n",
       "2016-04-01    0.02310\n",
       "2016-04-02    0.02490\n",
       "2016-04-03    0.02536\n",
       "2016-04-04    0.02462\n",
       "2016-04-05    0.12428\n",
       "2016-04-06    0.22100\n",
       "2016-04-07    0.13092\n",
       "Name: last_seen, dtype: float64"
      ]
     },
     "execution_count": 45,
     "metadata": {},
     "output_type": "execute_result"
    }
   ],
   "source": [
    "autos[\"last_seen\"].dt.floor(\"D\").value_counts(normalize = True).sort_index()"
   ]
  },
  {
   "cell_type": "code",
   "execution_count": 46,
   "metadata": {},
   "outputs": [
    {
     "data": {
      "text/plain": [
       "0.52618"
      ]
     },
     "execution_count": 46,
     "metadata": {},
     "output_type": "execute_result"
    }
   ],
   "source": [
    "autos[\"last_seen\"].dt.floor(\"D\").value_counts(normalize = True).sort_index().tail().sum()"
   ]
  },
  {
   "cell_type": "markdown",
   "metadata": {},
   "source": [
    "Just like the `date_crawled` column, the `last_seen` column covers the period from March 5, 2016 through April 7, 2016 during which the data was scraped. Over half of the entries were last seen in the last five days of data scraping. While the date on which an entry was last seen can be used to determine if an entry was removed (due to the car being purchased, the listing expiring, or the seller taking the listing down for other reasons) by comparing it to the corresponding date in the `date_crawled` column for that row, we shouldn't make those assumptions for cars which were seen in the last few days of scraping (April 5, 6, 7). It is likely that if a car was last seen on those days, it is simply due to the fact that that is the end of the scraping window. This is especially likely if the crawler didn't check every single listing it had previously seen on every day of crawling. \n",
    "\n",
    "Finally, as noted above in the Initial Exploration and Cleaning section, there are some odd values in both the `registration_month` and `registration_year` columns."
   ]
  },
  {
   "cell_type": "code",
   "execution_count": 47,
   "metadata": {},
   "outputs": [
    {
     "data": {
      "text/plain": [
       "0     0.10150\n",
       "1     0.06564\n",
       "2     0.06016\n",
       "3     0.10142\n",
       "4     0.08204\n",
       "5     0.08214\n",
       "6     0.08736\n",
       "7     0.07898\n",
       "8     0.06382\n",
       "9     0.06778\n",
       "10    0.07302\n",
       "11    0.06720\n",
       "12    0.06894\n",
       "Name: registration_month, dtype: float64"
      ]
     },
     "execution_count": 47,
     "metadata": {},
     "output_type": "execute_result"
    }
   ],
   "source": [
    "autos[\"registration_month\"].value_counts(normalize = True).sort_index()"
   ]
  },
  {
   "cell_type": "markdown",
   "metadata": {},
   "source": [
    "First, about 10% of the listings have a registration month of `0`, which is an impossible month. This could either be due to typos in the original listings, or in this context a value of zero could indicate that the listing didn't include the registration month."
   ]
  },
  {
   "cell_type": "code",
   "execution_count": 48,
   "metadata": {},
   "outputs": [
    {
     "data": {
      "text/plain": [
       "count    50000.000000\n",
       "mean      2005.073280\n",
       "std        105.712813\n",
       "min       1000.000000\n",
       "25%       1999.000000\n",
       "50%       2003.000000\n",
       "75%       2008.000000\n",
       "max       9999.000000\n",
       "Name: registration_year, dtype: float64"
      ]
     },
     "execution_count": 48,
     "metadata": {},
     "output_type": "execute_result"
    }
   ],
   "source": [
    "autos[\"registration_year\"].describe()"
   ]
  },
  {
   "cell_type": "code",
   "execution_count": 49,
   "metadata": {},
   "outputs": [
    {
     "data": {
      "text/plain": [
       "Timestamp('2016-04-07 14:36:56')"
      ]
     },
     "execution_count": 49,
     "metadata": {},
     "output_type": "execute_result"
    }
   ],
   "source": [
    "# Calculate the most recent date an observation was collected.\n",
    "autos[\"date_crawled\"].max()"
   ]
  },
  {
   "cell_type": "code",
   "execution_count": 50,
   "metadata": {},
   "outputs": [
    {
     "data": {
      "text/plain": [
       "1972"
      ]
     },
     "execution_count": 50,
     "metadata": {},
     "output_type": "execute_result"
    }
   ],
   "source": [
    "# Count the number of cars with registration years prior to 1906 or after 2016\n",
    "autos.loc[~autos[\"registration_year\"].between(1906, 2016), \"registration_year\"].count()"
   ]
  },
  {
   "cell_type": "code",
   "execution_count": 51,
   "metadata": {
    "scrolled": true
   },
   "outputs": [
    {
     "data": {
      "text/plain": [
       "2017    1453\n",
       "2018     492\n",
       "9999       4\n",
       "5000       4\n",
       "2019       3\n",
       "9000       2\n",
       "1800       2\n",
       "6200       1\n",
       "4500       1\n",
       "8888       1\n",
       "4800       1\n",
       "2800       1\n",
       "1001       1\n",
       "1000       1\n",
       "1111       1\n",
       "1500       1\n",
       "9996       1\n",
       "5911       1\n",
       "4100       1\n",
       "Name: registration_year, dtype: int64"
      ]
     },
     "execution_count": 51,
     "metadata": {},
     "output_type": "execute_result"
    }
   ],
   "source": [
    "autos.loc[~autos[\"registration_year\"].between(1906, 2016), \"registration_year\"].value_counts()"
   ]
  },
  {
   "cell_type": "markdown",
   "metadata": {},
   "source": [
    "Second, 1,972 entries (about 4% of the entries) have impossible registration years (prior to 1906 or after 2016, the year in which the data was collected)."
   ]
  },
  {
   "cell_type": "markdown",
   "metadata": {},
   "source": [
    "# Dealing with Incorrect Registration Year Data"
   ]
  },
  {
   "cell_type": "markdown",
   "metadata": {},
   "source": [
    "In the previous section we noted that about 4% of the entries have impossible registration years. Since that is a small proportion of the data it is fairly safe to simply drop those rows, though imputing those values might also be an option if we wish to take the time to analyze them a little more closely. For now, we'll explore the distribution of the `registration_year` column after removing the impossible years."
   ]
  },
  {
   "cell_type": "code",
   "execution_count": 52,
   "metadata": {},
   "outputs": [
    {
     "data": {
      "text/plain": [
       "count    48028.00000\n",
       "mean      2002.80351\n",
       "std          7.31085\n",
       "min       1910.00000\n",
       "25%       1999.00000\n",
       "50%       2003.00000\n",
       "75%       2008.00000\n",
       "max       2016.00000\n",
       "Name: registration_year, dtype: float64"
      ]
     },
     "execution_count": 52,
     "metadata": {},
     "output_type": "execute_result"
    }
   ],
   "source": [
    "autos.loc[autos[\"registration_year\"].between(1906, 2016), \"registration_year\"].describe()"
   ]
  },
  {
   "cell_type": "markdown",
   "metadata": {},
   "source": [
    "The remaining registration years range from 1910 to 2016, with at least least 75% of the registrations coming from 1999 or later."
   ]
  },
  {
   "cell_type": "code",
   "execution_count": 53,
   "metadata": {},
   "outputs": [
    {
     "data": {
      "text/plain": [
       "1995.0"
      ]
     },
     "execution_count": 53,
     "metadata": {},
     "output_type": "execute_result"
    }
   ],
   "source": [
    "autos.loc[autos[\"registration_year\"].between(1906, 2016), \"registration_year\"].quantile(0.1)"
   ]
  },
  {
   "cell_type": "code",
   "execution_count": 54,
   "metadata": {},
   "outputs": [
    {
     "data": {
      "text/plain": [
       "1995    0.029579\n",
       "1996    0.032531\n",
       "1997    0.045687\n",
       "1998    0.055261\n",
       "1999    0.067584\n",
       "2000    0.075559\n",
       "2001    0.060893\n",
       "2002    0.057064\n",
       "2003    0.061434\n",
       "2004    0.061659\n",
       "2005    0.067922\n",
       "2006    0.061006\n",
       "2007    0.051905\n",
       "2008    0.050260\n",
       "2009    0.047264\n",
       "2010    0.035977\n",
       "2011    0.036811\n",
       "2012    0.029805\n",
       "2013    0.018158\n",
       "2014    0.015004\n",
       "2015    0.008989\n",
       "2016    0.029647\n",
       "Name: registration_year, dtype: float64"
      ]
     },
     "execution_count": 54,
     "metadata": {},
     "output_type": "execute_result"
    }
   ],
   "source": [
    "autos.loc[autos[\"registration_year\"].between(1995, 2016), \"registration_year\"].value_counts(normalize = True).sort_index()"
   ]
  },
  {
   "cell_type": "markdown",
   "metadata": {},
   "source": [
    "Looking a little closer, 90% of the registrations come from 1995 or later, and those registrations are roughly evenly distributed."
   ]
  },
  {
   "cell_type": "code",
   "execution_count": 55,
   "metadata": {},
   "outputs": [
    {
     "data": {
      "text/plain": [
       "1910    0.002473\n",
       "1927    0.000275\n",
       "1929    0.000275\n",
       "1931    0.000275\n",
       "1934    0.000550\n",
       "1937    0.001099\n",
       "1938    0.000275\n",
       "1939    0.000275\n",
       "1941    0.000550\n",
       "1943    0.000275\n",
       "1948    0.000275\n",
       "1950    0.000824\n",
       "1951    0.000550\n",
       "1952    0.000275\n",
       "1953    0.000275\n",
       "1954    0.000550\n",
       "1955    0.000550\n",
       "1956    0.001374\n",
       "1957    0.000550\n",
       "1958    0.001099\n",
       "1959    0.001924\n",
       "1960    0.009343\n",
       "1961    0.001649\n",
       "1962    0.001099\n",
       "1963    0.002473\n",
       "1964    0.003298\n",
       "1965    0.004672\n",
       "1966    0.006046\n",
       "1967    0.007420\n",
       "1968    0.007145\n",
       "1969    0.005221\n",
       "1970    0.012366\n",
       "1971    0.007420\n",
       "1972    0.009618\n",
       "1973    0.007145\n",
       "1974    0.006595\n",
       "1975    0.005221\n",
       "1976    0.007420\n",
       "1977    0.006046\n",
       "1978    0.012916\n",
       "1979    0.009618\n",
       "1980    0.026656\n",
       "1981    0.008519\n",
       "1982    0.011816\n",
       "1983    0.014564\n",
       "1984    0.014564\n",
       "1985    0.028854\n",
       "1986    0.020885\n",
       "1987    0.020610\n",
       "1988    0.039022\n",
       "1989    0.049739\n",
       "1990    0.108546\n",
       "1991    0.097829\n",
       "1992    0.107447\n",
       "1993    0.122286\n",
       "1994    0.181369\n",
       "Name: registration_year, dtype: float64"
      ]
     },
     "execution_count": 55,
     "metadata": {},
     "output_type": "execute_result"
    }
   ],
   "source": [
    "autos.loc[autos[\"registration_year\"].between(1906, 1994), \"registration_year\"].value_counts(normalize = True).sort_index()"
   ]
  },
  {
   "cell_type": "code",
   "execution_count": 56,
   "metadata": {},
   "outputs": [
    {
     "data": {
      "text/plain": [
       "0.9370706237977465"
      ]
     },
     "execution_count": 56,
     "metadata": {},
     "output_type": "execute_result"
    }
   ],
   "source": [
    "autos.loc[autos[\"registration_year\"].between(1906, 1994), \"registration_year\"].value_counts(normalize = True).sort_index().loc[1970:].sum()"
   ]
  },
  {
   "cell_type": "markdown",
   "metadata": {},
   "source": [
    "The pre-1995 registrations are much less evenly distributed, with about 60% of those registrations still coming from the 1990s, and almost 94% of them coming from the 1970s or later."
   ]
  },
  {
   "cell_type": "code",
   "execution_count": 57,
   "metadata": {},
   "outputs": [
    {
     "data": {
      "text/plain": [
       "0.9952319480303154"
      ]
     },
     "execution_count": 57,
     "metadata": {},
     "output_type": "execute_result"
    }
   ],
   "source": [
    "autos.loc[autos[\"registration_year\"].between(1906, 2016), \"registration_year\"].value_counts(normalize = True).sort_index().loc[1970:].sum()"
   ]
  },
  {
   "cell_type": "markdown",
   "metadata": {},
   "source": [
    "In fact, 99.5% of the cars have registration years from 1970 or later."
   ]
  },
  {
   "cell_type": "markdown",
   "metadata": {},
   "source": [
    "# Initial Exploration and Cleaning Summary"
   ]
  },
  {
   "cell_type": "markdown",
   "metadata": {},
   "source": [
    "After reading the data from the `autos.csv` file and looking at the first few rows, we cleaned up the column names to make them less clunky and also convert them from camelcase to snakecase in order to follow Python's style recommendations. We then explored each column for null values, numeric data that needs conversion into numeric types, and outliers among the numeric columns. We also looked for columns that contained almost exclusively a single value, since those aren't likely to be helpful for any analysis we wish to do. The columns that needed particular attention were as follows.\n",
    "\n",
    "- `seller`, `offer_type`, `nr_of_pictures`: Contain almost exclusively a single value. We should drop these columns.\n",
    "- `vehicle_type`, `gearbox`, `model`, `fuel_type`, `unrepaired_damage`: Contain missing values, though none has more than 20% missing values. Depending on what we want to do with this data, we can drop the rows with missing values, impute the missing values, or leave them as-is. In addition, the `vehicle_type`, `gearbox`, `fuel_type`, and `unrepaired_damage` columns contain categorical data that uses German words, so those can be translated into English for easier comprehension.\n",
    "- `date_crawled`, `ad_created`, `last_seen`: Convert from string to pandas `datetime` type.\n",
    "- `price`: Convert from string to float. About 3% of values are impossible (a price of \\$0) and 14 values are potentially unrealistic (prices exceeding \\$350,000). It is safe to drop the rows with impossible prices, but we should think more carefully before dropping or imputing the unrealistic ones depending on the analysis we wish to do.\n",
    "- `registration_year`: About 4% of the values are impossible (prior to 1906 or after 2016). It is fairly safe to drop the rows with these impossible registration years.\n",
    "- `registration_month`: About 10% of the values are impossible (0). We should consider either dropping the corresponding rows, imputing the values, or leaving them as-is, depending on the analysis we wish to do.\n",
    "- `power_ps`: About 11% of the entries are impossible (either 0 or exceeding 2000). We should consider dropping the rows with impossible power ratings or imputing the values depending on how we want to use this column.\n",
    "- `odometer_km`: Convert from string to float and rename column to preserve units information.\n",
    "\n",
    "For the time being, we will drop the `seller`, `offer_type`, and `nr_of_pictures` columns. Then we drop the rows with impossible `price` and `registration_year` values. We also drop the rows with the most unrealistic `price` values (exceeding \\$4,000,000) at this point in time. Finally, we will translate the `vehicle_type`, `gearbox`, `fuel_type`, and `unrepaired_damage` columns from German to English."
   ]
  },
  {
   "cell_type": "code",
   "execution_count": 58,
   "metadata": {},
   "outputs": [],
   "source": [
    "# Drop seller, offer_type, nr_of_pictures columns\n",
    "autos.drop(columns = [\"seller\", \"offer_type\", \"nr_of_pictures\"], inplace = True)"
   ]
  },
  {
   "cell_type": "code",
   "execution_count": 59,
   "metadata": {},
   "outputs": [],
   "source": [
    "# Filter out rows with impossible registration year \n",
    "# and impossible/unrealistic price\n",
    "price_year_filter = autos[\"registration_year\"].between(1906, 2016) & autos[\"price\"].between(0.01, 4000000)\n",
    "autos = autos[price_year_filter]"
   ]
  },
  {
   "cell_type": "markdown",
   "metadata": {},
   "source": [
    "After dropping the rows and columns we chose to drop, we turn our attention to translating the categorical columns from German into English. First up is the `vehicle_type` column."
   ]
  },
  {
   "cell_type": "code",
   "execution_count": 60,
   "metadata": {},
   "outputs": [
    {
     "data": {
      "text/plain": [
       "limousine     12599\n",
       "kleinwagen    10585\n",
       "kombi          8932\n",
       "bus            4032\n",
       "cabrio         3016\n",
       "coupe          2464\n",
       "suv            1965\n",
       "andere          390\n",
       "Name: vehicle_type, dtype: int64"
      ]
     },
     "execution_count": 60,
     "metadata": {},
     "output_type": "execute_result"
    }
   ],
   "source": [
    "autos[\"vehicle_type\"].value_counts()"
   ]
  },
  {
   "cell_type": "markdown",
   "metadata": {},
   "source": [
    "There eight different vehicle types. While some, such as coupe or SUV don't need to be translated into English, the others require translation. Using a mix of Google Translate, the [English](https://en.wikipedia.org/wiki/Car_classification)/[German](https://de.wikipedia.org/wiki/Fahrzeugklasse) Wikipedia pages for car classification,the [English](https://en.wikipedia.org/wiki/Car_body_style)/[German](https://de.wikipedia.org/wiki/Karosseriebauform) Wikipedia pages for car body styles and [eBay Kleinanzeigen](https://www.ebay-kleinanzeigen.de/), we have the following translations:\n",
    "\n",
    "- andere $\\Leftrightarrow$ other\n",
    "- bus $\\Leftrightarrow$ van\n",
    "- cabrio $\\Leftrightarrow$ convertible\n",
    "- kleinwagen $\\Leftrightarrow$ supermini (European classification) or subcompact (American classification)\n",
    "- kombi $\\Leftrightarrow$ station wagon\n",
    "- limousine $\\Leftrightarrow$ sedan"
   ]
  },
  {
   "cell_type": "code",
   "execution_count": 61,
   "metadata": {},
   "outputs": [],
   "source": [
    "vehicle_types = {\"andere\": \"other\", \"bus\": \"van\", \"cabrio\": \"convertible\",\n",
    "                \"coupe\": \"coupe\", \"kleinwagen\": \"subcompact\", \"kombi\": \"station wagon\",\n",
    "                \"limousine\": \"sedan\", \"suv\": \"suv\"}\n",
    "autos[\"vehicle_type\"] = autos[\"vehicle_type\"].map(vehicle_types)"
   ]
  },
  {
   "cell_type": "code",
   "execution_count": 62,
   "metadata": {},
   "outputs": [
    {
     "data": {
      "text/plain": [
       "manuell      34718\n",
       "automatik     9857\n",
       "Name: gearbox, dtype: int64"
      ]
     },
     "execution_count": 62,
     "metadata": {},
     "output_type": "execute_result"
    }
   ],
   "source": [
    "autos[\"gearbox\"].value_counts()"
   ]
  },
  {
   "cell_type": "markdown",
   "metadata": {},
   "source": [
    "There are only two different gearbox types, which are very straightforward to translate."
   ]
  },
  {
   "cell_type": "code",
   "execution_count": 63,
   "metadata": {
    "collapsed": true
   },
   "outputs": [],
   "source": [
    "autos[\"gearbox\"] = autos[\"gearbox\"].map({\"manuell\": \"manual\", \"automatik\": \"automatic\"})"
   ]
  },
  {
   "cell_type": "code",
   "execution_count": 64,
   "metadata": {},
   "outputs": [
    {
     "data": {
      "text/plain": [
       "benzin     28543\n",
       "diesel     14033\n",
       "lpg          649\n",
       "cng           71\n",
       "hybrid        37\n",
       "elektro       19\n",
       "andere        15\n",
       "Name: fuel_type, dtype: int64"
      ]
     },
     "execution_count": 64,
     "metadata": {},
     "output_type": "execute_result"
    }
   ],
   "source": [
    "autos[\"fuel_type\"].value_counts()"
   ]
  },
  {
   "cell_type": "markdown",
   "metadata": {},
   "source": [
    "There are seven different fuel types. Again, using Google translate gives us the following translations. We also refer to the [Wikipedia page about alternative fuel vehicles](https://en.wikipedia.org/wiki/Alternative_fuel_vehicle) for explanations of CNG (compressed natural gas) and LPG (liquefied petroleum gas). There are only three types that we need to translate.\n",
    "\n",
    "- andere $\\Leftrightarrow$ other\n",
    "- benzin $\\Leftrightarrow$ gasoline\n",
    "- elektro $\\Leftrightarrow$ electric"
   ]
  },
  {
   "cell_type": "code",
   "execution_count": 65,
   "metadata": {},
   "outputs": [],
   "source": [
    "fuel_types = {\"andere\": \"other\", \"benzin\": \"gasoline\", \"cng\": \"cng\", \"diesel\": \"diesel\",\n",
    "             \"elektro\": \"electric\", \"hybrid\": \"hybrid\", \"lpg\": \"lpg\"}\n",
    "autos[\"fuel_type\"] = autos[\"fuel_type\"].map(fuel_types)"
   ]
  },
  {
   "cell_type": "code",
   "execution_count": 66,
   "metadata": {},
   "outputs": [
    {
     "data": {
      "text/plain": [
       "nein    33837\n",
       "ja       4541\n",
       "Name: unrepaired_damage, dtype: int64"
      ]
     },
     "execution_count": 66,
     "metadata": {},
     "output_type": "execute_result"
    }
   ],
   "source": [
    "autos[\"unrepaired_damage\"].value_counts()"
   ]
  },
  {
   "cell_type": "markdown",
   "metadata": {},
   "source": [
    "Lastly, the `unrepaired_damage` column is very straightforward to translate."
   ]
  },
  {
   "cell_type": "code",
   "execution_count": 67,
   "metadata": {
    "collapsed": true
   },
   "outputs": [],
   "source": [
    "autos[\"unrepaired_damage\"] = autos[\"unrepaired_damage\"].map({\"ja\": \"yes\", \"nein\": \"no\"})"
   ]
  },
  {
   "cell_type": "markdown",
   "metadata": {},
   "source": [
    "To wrap up our cleaning, we look over the head of the cleaned data."
   ]
  },
  {
   "cell_type": "code",
   "execution_count": 68,
   "metadata": {},
   "outputs": [
    {
     "data": {
      "text/html": [
       "<div>\n",
       "<style scoped>\n",
       "    .dataframe tbody tr th:only-of-type {\n",
       "        vertical-align: middle;\n",
       "    }\n",
       "\n",
       "    .dataframe tbody tr th {\n",
       "        vertical-align: top;\n",
       "    }\n",
       "\n",
       "    .dataframe thead th {\n",
       "        text-align: right;\n",
       "    }\n",
       "</style>\n",
       "<table border=\"1\" class=\"dataframe\">\n",
       "  <thead>\n",
       "    <tr style=\"text-align: right;\">\n",
       "      <th></th>\n",
       "      <th>date_crawled</th>\n",
       "      <th>name</th>\n",
       "      <th>price</th>\n",
       "      <th>abtest</th>\n",
       "      <th>vehicle_type</th>\n",
       "      <th>registration_year</th>\n",
       "      <th>gearbox</th>\n",
       "      <th>power_ps</th>\n",
       "      <th>model</th>\n",
       "      <th>odometer_km</th>\n",
       "      <th>registration_month</th>\n",
       "      <th>fuel_type</th>\n",
       "      <th>brand</th>\n",
       "      <th>unrepaired_damage</th>\n",
       "      <th>ad_created</th>\n",
       "      <th>postal_code</th>\n",
       "      <th>last_seen</th>\n",
       "    </tr>\n",
       "  </thead>\n",
       "  <tbody>\n",
       "    <tr>\n",
       "      <th>0</th>\n",
       "      <td>2016-03-26 17:47:46</td>\n",
       "      <td>Peugeot_807_160_NAVTECH_ON_BOARD</td>\n",
       "      <td>5000.0</td>\n",
       "      <td>control</td>\n",
       "      <td>van</td>\n",
       "      <td>2004</td>\n",
       "      <td>manual</td>\n",
       "      <td>158</td>\n",
       "      <td>andere</td>\n",
       "      <td>150000.0</td>\n",
       "      <td>3</td>\n",
       "      <td>lpg</td>\n",
       "      <td>peugeot</td>\n",
       "      <td>no</td>\n",
       "      <td>2016-03-26</td>\n",
       "      <td>79588</td>\n",
       "      <td>2016-04-06 06:45:54</td>\n",
       "    </tr>\n",
       "    <tr>\n",
       "      <th>1</th>\n",
       "      <td>2016-04-04 13:38:56</td>\n",
       "      <td>BMW_740i_4_4_Liter_HAMANN_UMBAU_Mega_Optik</td>\n",
       "      <td>8500.0</td>\n",
       "      <td>control</td>\n",
       "      <td>sedan</td>\n",
       "      <td>1997</td>\n",
       "      <td>automatic</td>\n",
       "      <td>286</td>\n",
       "      <td>7er</td>\n",
       "      <td>150000.0</td>\n",
       "      <td>6</td>\n",
       "      <td>gasoline</td>\n",
       "      <td>bmw</td>\n",
       "      <td>no</td>\n",
       "      <td>2016-04-04</td>\n",
       "      <td>71034</td>\n",
       "      <td>2016-04-06 14:45:08</td>\n",
       "    </tr>\n",
       "    <tr>\n",
       "      <th>2</th>\n",
       "      <td>2016-03-26 18:57:24</td>\n",
       "      <td>Volkswagen_Golf_1.6_United</td>\n",
       "      <td>8990.0</td>\n",
       "      <td>test</td>\n",
       "      <td>sedan</td>\n",
       "      <td>2009</td>\n",
       "      <td>manual</td>\n",
       "      <td>102</td>\n",
       "      <td>golf</td>\n",
       "      <td>70000.0</td>\n",
       "      <td>7</td>\n",
       "      <td>gasoline</td>\n",
       "      <td>volkswagen</td>\n",
       "      <td>no</td>\n",
       "      <td>2016-03-26</td>\n",
       "      <td>35394</td>\n",
       "      <td>2016-04-06 20:15:37</td>\n",
       "    </tr>\n",
       "    <tr>\n",
       "      <th>3</th>\n",
       "      <td>2016-03-12 16:58:10</td>\n",
       "      <td>Smart_smart_fortwo_coupe_softouch/F1/Klima/Pan...</td>\n",
       "      <td>4350.0</td>\n",
       "      <td>control</td>\n",
       "      <td>subcompact</td>\n",
       "      <td>2007</td>\n",
       "      <td>automatic</td>\n",
       "      <td>71</td>\n",
       "      <td>fortwo</td>\n",
       "      <td>70000.0</td>\n",
       "      <td>6</td>\n",
       "      <td>gasoline</td>\n",
       "      <td>smart</td>\n",
       "      <td>no</td>\n",
       "      <td>2016-03-12</td>\n",
       "      <td>33729</td>\n",
       "      <td>2016-03-15 03:16:28</td>\n",
       "    </tr>\n",
       "    <tr>\n",
       "      <th>4</th>\n",
       "      <td>2016-04-01 14:38:50</td>\n",
       "      <td>Ford_Focus_1_6_Benzin_TÜV_neu_ist_sehr_gepfleg...</td>\n",
       "      <td>1350.0</td>\n",
       "      <td>test</td>\n",
       "      <td>station wagon</td>\n",
       "      <td>2003</td>\n",
       "      <td>manual</td>\n",
       "      <td>0</td>\n",
       "      <td>focus</td>\n",
       "      <td>150000.0</td>\n",
       "      <td>7</td>\n",
       "      <td>gasoline</td>\n",
       "      <td>ford</td>\n",
       "      <td>no</td>\n",
       "      <td>2016-04-01</td>\n",
       "      <td>39218</td>\n",
       "      <td>2016-04-01 14:38:50</td>\n",
       "    </tr>\n",
       "  </tbody>\n",
       "</table>\n",
       "</div>"
      ],
      "text/plain": [
       "         date_crawled                                               name  \\\n",
       "0 2016-03-26 17:47:46                   Peugeot_807_160_NAVTECH_ON_BOARD   \n",
       "1 2016-04-04 13:38:56         BMW_740i_4_4_Liter_HAMANN_UMBAU_Mega_Optik   \n",
       "2 2016-03-26 18:57:24                         Volkswagen_Golf_1.6_United   \n",
       "3 2016-03-12 16:58:10  Smart_smart_fortwo_coupe_softouch/F1/Klima/Pan...   \n",
       "4 2016-04-01 14:38:50  Ford_Focus_1_6_Benzin_TÜV_neu_ist_sehr_gepfleg...   \n",
       "\n",
       "    price   abtest   vehicle_type  registration_year    gearbox  power_ps  \\\n",
       "0  5000.0  control            van               2004     manual       158   \n",
       "1  8500.0  control          sedan               1997  automatic       286   \n",
       "2  8990.0     test          sedan               2009     manual       102   \n",
       "3  4350.0  control     subcompact               2007  automatic        71   \n",
       "4  1350.0     test  station wagon               2003     manual         0   \n",
       "\n",
       "    model  odometer_km  registration_month fuel_type       brand  \\\n",
       "0  andere     150000.0                   3       lpg     peugeot   \n",
       "1     7er     150000.0                   6  gasoline         bmw   \n",
       "2    golf      70000.0                   7  gasoline  volkswagen   \n",
       "3  fortwo      70000.0                   6  gasoline       smart   \n",
       "4   focus     150000.0                   7  gasoline        ford   \n",
       "\n",
       "  unrepaired_damage ad_created  postal_code           last_seen  \n",
       "0                no 2016-03-26        79588 2016-04-06 06:45:54  \n",
       "1                no 2016-04-04        71034 2016-04-06 14:45:08  \n",
       "2                no 2016-03-26        35394 2016-04-06 20:15:37  \n",
       "3                no 2016-03-12        33729 2016-03-15 03:16:28  \n",
       "4                no 2016-04-01        39218 2016-04-01 14:38:50  "
      ]
     },
     "execution_count": 68,
     "metadata": {},
     "output_type": "execute_result"
    }
   ],
   "source": [
    "autos.head()"
   ]
  },
  {
   "cell_type": "markdown",
   "metadata": {},
   "source": [
    "One potentially interesting further preprocessing step would be to analyze the `name` column for any keywords that could be extracted as new columns."
   ]
  },
  {
   "cell_type": "markdown",
   "metadata": {},
   "source": [
    "# Exploring Price and Mileage by Brand"
   ]
  },
  {
   "cell_type": "markdown",
   "metadata": {},
   "source": [
    "Now that we have finished preprocessing the `autos` dataset, we can finally do some analysis. To start, we will do some basic aggregating by the `brand` column to explore differences in price and mileage between brands. Before performing any aggregations, we explore the `brand` column itself."
   ]
  },
  {
   "cell_type": "code",
   "execution_count": 69,
   "metadata": {},
   "outputs": [
    {
     "data": {
      "text/plain": [
       "40"
      ]
     },
     "execution_count": 69,
     "metadata": {},
     "output_type": "execute_result"
    }
   ],
   "source": [
    "autos[\"brand\"].nunique()"
   ]
  },
  {
   "cell_type": "code",
   "execution_count": 70,
   "metadata": {},
   "outputs": [
    {
     "data": {
      "text/plain": [
       "volkswagen        0.211279\n",
       "bmw               0.110052\n",
       "opel              0.107567\n",
       "mercedes_benz     0.096451\n",
       "audi              0.086555\n",
       "ford              0.069912\n",
       "renault           0.047144\n",
       "peugeot           0.029837\n",
       "fiat              0.025639\n",
       "seat              0.018271\n",
       "skoda             0.016407\n",
       "nissan            0.015272\n",
       "mazda             0.015186\n",
       "smart             0.014158\n",
       "citroen           0.014008\n",
       "toyota            0.012702\n",
       "hyundai           0.010024\n",
       "sonstige_autos    0.009853\n",
       "volvo             0.009146\n",
       "mini              0.008760\n",
       "mitsubishi        0.008225\n",
       "honda             0.007839\n",
       "kia               0.007068\n",
       "alfa_romeo        0.006640\n",
       "porsche           0.006126\n",
       "suzuki            0.005933\n",
       "chevrolet         0.005698\n",
       "chrysler          0.003513\n",
       "dacia             0.002635\n",
       "daihatsu          0.002506\n",
       "jeep              0.002270\n",
       "subaru            0.002142\n",
       "land_rover        0.002099\n",
       "saab              0.001649\n",
       "jaguar            0.001564\n",
       "daewoo            0.001499\n",
       "trabant           0.001392\n",
       "rover             0.001328\n",
       "lancia            0.001071\n",
       "lada              0.000578\n",
       "Name: brand, dtype: float64"
      ]
     },
     "execution_count": 70,
     "metadata": {},
     "output_type": "execute_result"
    }
   ],
   "source": [
    "autos[\"brand\"].value_counts(normalize = True)"
   ]
  },
  {
   "cell_type": "code",
   "execution_count": 71,
   "metadata": {},
   "outputs": [
    {
     "data": {
      "text/plain": [
       "0.8027073917792962"
      ]
     },
     "execution_count": 71,
     "metadata": {},
     "output_type": "execute_result"
    }
   ],
   "source": [
    "autos[\"brand\"].value_counts(normalize = True).head(10).sum()"
   ]
  },
  {
   "cell_type": "markdown",
   "metadata": {},
   "source": [
    "We see that while there are 40 different brands represented in this dataset, the top ten most common ones (Volkswagen, BMW, Opel, Mercedes Benz, Audi, Ford, Renault, Peugeot, Fiat, and Seat) make up almost 80% of the listings. The five brands are all German ones, and aside from Ford all of the top ten brands are European ones. This makes sense, since cars from German and other European brands would be the most readily available for German drivers to purchase and then potentially list on eBay when they are ready to sell their cars. For completeness, I will still aggregate over all 40 brands, but I will focus the majority of my analysis toward those in the top ten. To perform my aggregations, I will use the [\"group by\" features in Pandas](https://pandas.pydata.org/pandas-docs/stable/user_guide/groupby.html). Additional info can once again be found in [VanderPlas's book](https://jakevdp.github.io/PythonDataScienceHandbook/03.08-aggregation-and-grouping.html)."
   ]
  },
  {
   "cell_type": "code",
   "execution_count": 75,
   "metadata": {
    "collapsed": true
   },
   "outputs": [],
   "source": [
    "top_10_brands = autos[\"brand\"].value_counts().head(10).index"
   ]
  },
  {
   "cell_type": "code",
   "execution_count": 108,
   "metadata": {},
   "outputs": [
    {
     "data": {
      "text/html": [
       "<div>\n",
       "<style scoped>\n",
       "    .dataframe tbody tr th:only-of-type {\n",
       "        vertical-align: middle;\n",
       "    }\n",
       "\n",
       "    .dataframe tbody tr th {\n",
       "        vertical-align: top;\n",
       "    }\n",
       "\n",
       "    .dataframe thead th {\n",
       "        text-align: right;\n",
       "    }\n",
       "</style>\n",
       "<table border=\"1\" class=\"dataframe\">\n",
       "  <thead>\n",
       "    <tr style=\"text-align: right;\">\n",
       "      <th></th>\n",
       "      <th>odometer_km</th>\n",
       "      <th>price</th>\n",
       "    </tr>\n",
       "  </thead>\n",
       "  <tbody>\n",
       "    <tr>\n",
       "      <th>audi</th>\n",
       "      <td>129157.0</td>\n",
       "      <td>9337.0</td>\n",
       "    </tr>\n",
       "    <tr>\n",
       "      <th>mercedes_benz</th>\n",
       "      <td>130788.0</td>\n",
       "      <td>8628.0</td>\n",
       "    </tr>\n",
       "    <tr>\n",
       "      <th>bmw</th>\n",
       "      <td>132576.0</td>\n",
       "      <td>8571.0</td>\n",
       "    </tr>\n",
       "    <tr>\n",
       "      <th>volkswagen</th>\n",
       "      <td>128711.0</td>\n",
       "      <td>5604.0</td>\n",
       "    </tr>\n",
       "    <tr>\n",
       "      <th>seat</th>\n",
       "      <td>121131.0</td>\n",
       "      <td>4397.0</td>\n",
       "    </tr>\n",
       "    <tr>\n",
       "      <th>ford</th>\n",
       "      <td>124266.0</td>\n",
       "      <td>4055.0</td>\n",
       "    </tr>\n",
       "    <tr>\n",
       "      <th>peugeot</th>\n",
       "      <td>127154.0</td>\n",
       "      <td>3094.0</td>\n",
       "    </tr>\n",
       "    <tr>\n",
       "      <th>opel</th>\n",
       "      <td>129310.0</td>\n",
       "      <td>2975.0</td>\n",
       "    </tr>\n",
       "    <tr>\n",
       "      <th>fiat</th>\n",
       "      <td>117122.0</td>\n",
       "      <td>2814.0</td>\n",
       "    </tr>\n",
       "    <tr>\n",
       "      <th>renault</th>\n",
       "      <td>128071.0</td>\n",
       "      <td>2475.0</td>\n",
       "    </tr>\n",
       "  </tbody>\n",
       "</table>\n",
       "</div>"
      ],
      "text/plain": [
       "               odometer_km   price\n",
       "audi              129157.0  9337.0\n",
       "mercedes_benz     130788.0  8628.0\n",
       "bmw               132576.0  8571.0\n",
       "volkswagen        128711.0  5604.0\n",
       "seat              121131.0  4397.0\n",
       "ford              124266.0  4055.0\n",
       "peugeot           127154.0  3094.0\n",
       "opel              129310.0  2975.0\n",
       "fiat              117122.0  2814.0\n",
       "renault           128071.0  2475.0"
      ]
     },
     "execution_count": 108,
     "metadata": {},
     "output_type": "execute_result"
    }
   ],
   "source": [
    "# Compute mean of odometer_km and price columns\n",
    "# Round to the nearest whole number for easier interpretation\n",
    "# Restrict focus to the top ten most common brands\n",
    "# Sort from highest mean price to lowest\n",
    "autos.groupby(\"brand\")[[\"odometer_km\", \"price\"]].mean().loc[top_10_brands].sort_values(\"price\", ascending = False).round(0)"
   ]
  },
  {
   "cell_type": "markdown",
   "metadata": {},
   "source": [
    "Among the top ten most common brands, there aren't any major differences between mean mileage, with all brands having a mean mileage between 115,000km and 135,000km. There are, however, some pretty striking differences in average price between brands. The three most expensive brands, Audi, Mercedes Benz, and BMW, are each about three times more expensive than the three least expensive brands, Renault, Fiat, and Opel. This difference in average price makes sense given the fact that the expensive brands are luxury ones which carry an associated price premium while the cheap brands make economy cars. The most popular brand, Volkswagen, sits in the middle ground between the two extremes, with an average listing price of \\$5,604."
   ]
  },
  {
   "cell_type": "code",
   "execution_count": 112,
   "metadata": {},
   "outputs": [
    {
     "data": {
      "text/html": [
       "<div>\n",
       "<style scoped>\n",
       "    .dataframe tbody tr th:only-of-type {\n",
       "        vertical-align: middle;\n",
       "    }\n",
       "\n",
       "    .dataframe tbody tr th {\n",
       "        vertical-align: top;\n",
       "    }\n",
       "\n",
       "    .dataframe thead th {\n",
       "        text-align: right;\n",
       "    }\n",
       "</style>\n",
       "<table border=\"1\" class=\"dataframe\">\n",
       "  <thead>\n",
       "    <tr style=\"text-align: right;\">\n",
       "      <th></th>\n",
       "      <th>min</th>\n",
       "      <th>median</th>\n",
       "      <th>max</th>\n",
       "    </tr>\n",
       "  </thead>\n",
       "  <tbody>\n",
       "    <tr>\n",
       "      <th>audi</th>\n",
       "      <td>1.0</td>\n",
       "      <td>6350.0</td>\n",
       "      <td>175000.0</td>\n",
       "    </tr>\n",
       "    <tr>\n",
       "      <th>bmw</th>\n",
       "      <td>1.0</td>\n",
       "      <td>5900.0</td>\n",
       "      <td>1234566.0</td>\n",
       "    </tr>\n",
       "    <tr>\n",
       "      <th>mercedes_benz</th>\n",
       "      <td>1.0</td>\n",
       "      <td>5150.0</td>\n",
       "      <td>180000.0</td>\n",
       "    </tr>\n",
       "    <tr>\n",
       "      <th>volkswagen</th>\n",
       "      <td>1.0</td>\n",
       "      <td>2999.0</td>\n",
       "      <td>999999.0</td>\n",
       "    </tr>\n",
       "    <tr>\n",
       "      <th>seat</th>\n",
       "      <td>1.0</td>\n",
       "      <td>2750.0</td>\n",
       "      <td>33500.0</td>\n",
       "    </tr>\n",
       "    <tr>\n",
       "      <th>peugeot</th>\n",
       "      <td>1.0</td>\n",
       "      <td>2100.0</td>\n",
       "      <td>25500.0</td>\n",
       "    </tr>\n",
       "    <tr>\n",
       "      <th>ford</th>\n",
       "      <td>1.0</td>\n",
       "      <td>1800.0</td>\n",
       "      <td>999999.0</td>\n",
       "    </tr>\n",
       "    <tr>\n",
       "      <th>fiat</th>\n",
       "      <td>1.0</td>\n",
       "      <td>1650.0</td>\n",
       "      <td>25000.0</td>\n",
       "    </tr>\n",
       "    <tr>\n",
       "      <th>opel</th>\n",
       "      <td>1.0</td>\n",
       "      <td>1650.0</td>\n",
       "      <td>38990.0</td>\n",
       "    </tr>\n",
       "    <tr>\n",
       "      <th>renault</th>\n",
       "      <td>1.0</td>\n",
       "      <td>1350.0</td>\n",
       "      <td>93000.0</td>\n",
       "    </tr>\n",
       "  </tbody>\n",
       "</table>\n",
       "</div>"
      ],
      "text/plain": [
       "               min  median        max\n",
       "audi           1.0  6350.0   175000.0\n",
       "bmw            1.0  5900.0  1234566.0\n",
       "mercedes_benz  1.0  5150.0   180000.0\n",
       "volkswagen     1.0  2999.0   999999.0\n",
       "seat           1.0  2750.0    33500.0\n",
       "peugeot        1.0  2100.0    25500.0\n",
       "ford           1.0  1800.0   999999.0\n",
       "fiat           1.0  1650.0    25000.0\n",
       "opel           1.0  1650.0    38990.0\n",
       "renault        1.0  1350.0    93000.0"
      ]
     },
     "execution_count": 112,
     "metadata": {},
     "output_type": "execute_result"
    }
   ],
   "source": [
    "# Compute median of price column\n",
    "# Round to the nearest whole number for easier interpretation\n",
    "# Restrict focus to the top ten most common brands\n",
    "# Sort from highest median price to lowest\n",
    "autos.groupby(\"brand\")[\"price\"].agg([\"min\", \"median\", \"max\"]).loc[top_10_brands].sort_values(\"median\", ascending = False).round(0)"
   ]
  },
  {
   "cell_type": "markdown",
   "metadata": {},
   "source": [
    "Since we noted that there are some unrealistically high prices in the data, even after filtering out the most egregiously unrealistic ones, we also can compare the median price between brands, since the median is less affected by outliers. The same pattern appears, though it is even more pronounced, with the median Audi price being almost quintuple the median Renault price."
   ]
  },
  {
   "cell_type": "markdown",
   "metadata": {},
   "source": [
    "# Exploring Price by Other Factors"
   ]
  },
  {
   "cell_type": "markdown",
   "metadata": {},
   "source": [
    "In addition to comparing car prices across brands, we can also compare them across other factors. First, we will see if there are any patterns between price and mileage. Since we saw earlier that there is a fairly small number of distinct values in the `odometer_km` column, I will simply group by it directly."
   ]
  },
  {
   "cell_type": "code",
   "execution_count": 88,
   "metadata": {},
   "outputs": [
    {
     "data": {
      "text/html": [
       "<div>\n",
       "<style scoped>\n",
       "    .dataframe tbody tr th:only-of-type {\n",
       "        vertical-align: middle;\n",
       "    }\n",
       "\n",
       "    .dataframe tbody tr th {\n",
       "        vertical-align: top;\n",
       "    }\n",
       "\n",
       "    .dataframe thead th {\n",
       "        text-align: right;\n",
       "    }\n",
       "</style>\n",
       "<table border=\"1\" class=\"dataframe\">\n",
       "  <thead>\n",
       "    <tr style=\"text-align: right;\">\n",
       "      <th></th>\n",
       "      <th>count</th>\n",
       "      <th>mean</th>\n",
       "      <th>std</th>\n",
       "      <th>min</th>\n",
       "      <th>25%</th>\n",
       "      <th>50%</th>\n",
       "      <th>75%</th>\n",
       "      <th>max</th>\n",
       "    </tr>\n",
       "    <tr>\n",
       "      <th>odometer_km</th>\n",
       "      <th></th>\n",
       "      <th></th>\n",
       "      <th></th>\n",
       "      <th></th>\n",
       "      <th></th>\n",
       "      <th></th>\n",
       "      <th></th>\n",
       "      <th></th>\n",
       "    </tr>\n",
       "  </thead>\n",
       "  <tbody>\n",
       "    <tr>\n",
       "      <th>5000.0</th>\n",
       "      <td>786.0</td>\n",
       "      <td>13811.34</td>\n",
       "      <td>140954.99</td>\n",
       "      <td>1.0</td>\n",
       "      <td>444.0</td>\n",
       "      <td>1600.0</td>\n",
       "      <td>7500.00</td>\n",
       "      <td>3890000.0</td>\n",
       "    </tr>\n",
       "    <tr>\n",
       "      <th>10000.0</th>\n",
       "      <td>241.0</td>\n",
       "      <td>20550.87</td>\n",
       "      <td>21041.49</td>\n",
       "      <td>1.0</td>\n",
       "      <td>7950.0</td>\n",
       "      <td>16500.0</td>\n",
       "      <td>27500.00</td>\n",
       "      <td>163991.0</td>\n",
       "    </tr>\n",
       "    <tr>\n",
       "      <th>20000.0</th>\n",
       "      <td>742.0</td>\n",
       "      <td>18448.48</td>\n",
       "      <td>23445.56</td>\n",
       "      <td>25.0</td>\n",
       "      <td>6800.0</td>\n",
       "      <td>14349.5</td>\n",
       "      <td>24200.00</td>\n",
       "      <td>345000.0</td>\n",
       "    </tr>\n",
       "    <tr>\n",
       "      <th>30000.0</th>\n",
       "      <td>760.0</td>\n",
       "      <td>16608.84</td>\n",
       "      <td>16869.42</td>\n",
       "      <td>1.0</td>\n",
       "      <td>7087.5</td>\n",
       "      <td>12700.0</td>\n",
       "      <td>21900.00</td>\n",
       "      <td>220000.0</td>\n",
       "    </tr>\n",
       "    <tr>\n",
       "      <th>40000.0</th>\n",
       "      <td>797.0</td>\n",
       "      <td>15499.57</td>\n",
       "      <td>13706.44</td>\n",
       "      <td>70.0</td>\n",
       "      <td>7000.0</td>\n",
       "      <td>12395.0</td>\n",
       "      <td>19995.00</td>\n",
       "      <td>169999.0</td>\n",
       "    </tr>\n",
       "    <tr>\n",
       "      <th>50000.0</th>\n",
       "      <td>994.0</td>\n",
       "      <td>15106.12</td>\n",
       "      <td>42744.97</td>\n",
       "      <td>1.0</td>\n",
       "      <td>5912.5</td>\n",
       "      <td>10500.0</td>\n",
       "      <td>17996.75</td>\n",
       "      <td>1300000.0</td>\n",
       "    </tr>\n",
       "    <tr>\n",
       "      <th>60000.0</th>\n",
       "      <td>1128.0</td>\n",
       "      <td>12385.00</td>\n",
       "      <td>12952.66</td>\n",
       "      <td>1.0</td>\n",
       "      <td>4837.5</td>\n",
       "      <td>9225.0</td>\n",
       "      <td>16000.00</td>\n",
       "      <td>190000.0</td>\n",
       "    </tr>\n",
       "    <tr>\n",
       "      <th>70000.0</th>\n",
       "      <td>1187.0</td>\n",
       "      <td>10927.18</td>\n",
       "      <td>9329.35</td>\n",
       "      <td>1.0</td>\n",
       "      <td>4225.0</td>\n",
       "      <td>8250.0</td>\n",
       "      <td>15100.00</td>\n",
       "      <td>63999.0</td>\n",
       "    </tr>\n",
       "    <tr>\n",
       "      <th>80000.0</th>\n",
       "      <td>1375.0</td>\n",
       "      <td>9721.95</td>\n",
       "      <td>8877.64</td>\n",
       "      <td>1.0</td>\n",
       "      <td>3700.0</td>\n",
       "      <td>7499.0</td>\n",
       "      <td>13000.00</td>\n",
       "      <td>105000.0</td>\n",
       "    </tr>\n",
       "    <tr>\n",
       "      <th>90000.0</th>\n",
       "      <td>1673.0</td>\n",
       "      <td>8465.03</td>\n",
       "      <td>8543.22</td>\n",
       "      <td>1.0</td>\n",
       "      <td>2700.0</td>\n",
       "      <td>5995.0</td>\n",
       "      <td>11490.00</td>\n",
       "      <td>99900.0</td>\n",
       "    </tr>\n",
       "    <tr>\n",
       "      <th>100000.0</th>\n",
       "      <td>2058.0</td>\n",
       "      <td>8132.70</td>\n",
       "      <td>10680.58</td>\n",
       "      <td>1.0</td>\n",
       "      <td>2350.0</td>\n",
       "      <td>5600.0</td>\n",
       "      <td>10799.75</td>\n",
       "      <td>299000.0</td>\n",
       "    </tr>\n",
       "    <tr>\n",
       "      <th>125000.0</th>\n",
       "      <td>4858.0</td>\n",
       "      <td>6418.59</td>\n",
       "      <td>15929.97</td>\n",
       "      <td>1.0</td>\n",
       "      <td>1800.0</td>\n",
       "      <td>4000.0</td>\n",
       "      <td>8450.00</td>\n",
       "      <td>999999.0</td>\n",
       "    </tr>\n",
       "    <tr>\n",
       "      <th>150000.0</th>\n",
       "      <td>30088.0</td>\n",
       "      <td>3875.05</td>\n",
       "      <td>11789.11</td>\n",
       "      <td>1.0</td>\n",
       "      <td>999.0</td>\n",
       "      <td>2200.0</td>\n",
       "      <td>4800.00</td>\n",
       "      <td>1234566.0</td>\n",
       "    </tr>\n",
       "  </tbody>\n",
       "</table>\n",
       "</div>"
      ],
      "text/plain": [
       "               count      mean        std   min     25%      50%       75%  \\\n",
       "odometer_km                                                                  \n",
       "5000.0         786.0  13811.34  140954.99   1.0   444.0   1600.0   7500.00   \n",
       "10000.0        241.0  20550.87   21041.49   1.0  7950.0  16500.0  27500.00   \n",
       "20000.0        742.0  18448.48   23445.56  25.0  6800.0  14349.5  24200.00   \n",
       "30000.0        760.0  16608.84   16869.42   1.0  7087.5  12700.0  21900.00   \n",
       "40000.0        797.0  15499.57   13706.44  70.0  7000.0  12395.0  19995.00   \n",
       "50000.0        994.0  15106.12   42744.97   1.0  5912.5  10500.0  17996.75   \n",
       "60000.0       1128.0  12385.00   12952.66   1.0  4837.5   9225.0  16000.00   \n",
       "70000.0       1187.0  10927.18    9329.35   1.0  4225.0   8250.0  15100.00   \n",
       "80000.0       1375.0   9721.95    8877.64   1.0  3700.0   7499.0  13000.00   \n",
       "90000.0       1673.0   8465.03    8543.22   1.0  2700.0   5995.0  11490.00   \n",
       "100000.0      2058.0   8132.70   10680.58   1.0  2350.0   5600.0  10799.75   \n",
       "125000.0      4858.0   6418.59   15929.97   1.0  1800.0   4000.0   8450.00   \n",
       "150000.0     30088.0   3875.05   11789.11   1.0   999.0   2200.0   4800.00   \n",
       "\n",
       "                   max  \n",
       "odometer_km             \n",
       "5000.0       3890000.0  \n",
       "10000.0       163991.0  \n",
       "20000.0       345000.0  \n",
       "30000.0       220000.0  \n",
       "40000.0       169999.0  \n",
       "50000.0      1300000.0  \n",
       "60000.0       190000.0  \n",
       "70000.0        63999.0  \n",
       "80000.0       105000.0  \n",
       "90000.0        99900.0  \n",
       "100000.0      299000.0  \n",
       "125000.0      999999.0  \n",
       "150000.0     1234566.0  "
      ]
     },
     "execution_count": 88,
     "metadata": {},
     "output_type": "execute_result"
    }
   ],
   "source": [
    "autos.groupby(\"odometer_km\")[\"price\"].describe().sort_index().round(2)"
   ]
  },
  {
   "cell_type": "code",
   "execution_count": 117,
   "metadata": {},
   "outputs": [
    {
     "data": {
      "text/plain": [
       "16377.964822609742"
      ]
     },
     "execution_count": 117,
     "metadata": {},
     "output_type": "execute_result"
    }
   ],
   "source": [
    "autos.loc[autos[\"odometer_km\"] < 50000, \"price\"].mean()"
   ]
  },
  {
   "cell_type": "markdown",
   "metadata": {},
   "source": [
    "There is a very clear pattern when looking at both the mean and median price: as the odometer reading goes up, the price goes down. The dropoff is fairly minimal for cars with 5,000-50,000km; with the average prices for each odometer category hovering within a few thousand dollars of the overall average for that group (about \\$16,000). After 50,000km, however, the average prices drop precipitously."
   ]
  },
  {
   "cell_type": "code",
   "execution_count": 90,
   "metadata": {},
   "outputs": [
    {
     "data": {
      "text/html": [
       "<div>\n",
       "<style scoped>\n",
       "    .dataframe tbody tr th:only-of-type {\n",
       "        vertical-align: middle;\n",
       "    }\n",
       "\n",
       "    .dataframe tbody tr th {\n",
       "        vertical-align: top;\n",
       "    }\n",
       "\n",
       "    .dataframe thead th {\n",
       "        text-align: right;\n",
       "    }\n",
       "</style>\n",
       "<table border=\"1\" class=\"dataframe\">\n",
       "  <thead>\n",
       "    <tr style=\"text-align: right;\">\n",
       "      <th></th>\n",
       "      <th>count</th>\n",
       "      <th>mean</th>\n",
       "      <th>std</th>\n",
       "      <th>min</th>\n",
       "      <th>25%</th>\n",
       "      <th>50%</th>\n",
       "      <th>75%</th>\n",
       "      <th>max</th>\n",
       "    </tr>\n",
       "    <tr>\n",
       "      <th>unrepaired_damage</th>\n",
       "      <th></th>\n",
       "      <th></th>\n",
       "      <th></th>\n",
       "      <th></th>\n",
       "      <th></th>\n",
       "      <th></th>\n",
       "      <th></th>\n",
       "      <th></th>\n",
       "    </tr>\n",
       "  </thead>\n",
       "  <tbody>\n",
       "    <tr>\n",
       "      <th>no</th>\n",
       "      <td>33837.0</td>\n",
       "      <td>7346.33</td>\n",
       "      <td>25012.73</td>\n",
       "      <td>1.0</td>\n",
       "      <td>1800.0</td>\n",
       "      <td>4150.0</td>\n",
       "      <td>9000.0</td>\n",
       "      <td>3890000.0</td>\n",
       "    </tr>\n",
       "    <tr>\n",
       "      <th>unknown</th>\n",
       "      <td>8309.0</td>\n",
       "      <td>3456.21</td>\n",
       "      <td>18264.49</td>\n",
       "      <td>1.0</td>\n",
       "      <td>650.0</td>\n",
       "      <td>1500.0</td>\n",
       "      <td>3700.0</td>\n",
       "      <td>1234566.0</td>\n",
       "    </tr>\n",
       "    <tr>\n",
       "      <th>yes</th>\n",
       "      <td>4541.0</td>\n",
       "      <td>2460.87</td>\n",
       "      <td>15228.91</td>\n",
       "      <td>1.0</td>\n",
       "      <td>500.0</td>\n",
       "      <td>1000.0</td>\n",
       "      <td>2500.0</td>\n",
       "      <td>999990.0</td>\n",
       "    </tr>\n",
       "  </tbody>\n",
       "</table>\n",
       "</div>"
      ],
      "text/plain": [
       "                     count     mean       std  min     25%     50%     75%  \\\n",
       "unrepaired_damage                                                            \n",
       "no                 33837.0  7346.33  25012.73  1.0  1800.0  4150.0  9000.0   \n",
       "unknown             8309.0  3456.21  18264.49  1.0   650.0  1500.0  3700.0   \n",
       "yes                 4541.0  2460.87  15228.91  1.0   500.0  1000.0  2500.0   \n",
       "\n",
       "                         max  \n",
       "unrepaired_damage             \n",
       "no                 3890000.0  \n",
       "unknown            1234566.0  \n",
       "yes                 999990.0  "
      ]
     },
     "execution_count": 90,
     "metadata": {},
     "output_type": "execute_result"
    }
   ],
   "source": [
    "autos.fillna({\"unrepaired_damage\": \"unknown\"}).groupby(\"unrepaired_damage\")[\"price\"].describe().round(2)"
   ]
  },
  {
   "cell_type": "markdown",
   "metadata": {},
   "source": [
    "Finally we compare prices between cars which have unrepaired damage and those which do not. I also replaced all of the null entries in the `unrepaired_damage` column with the value `\"unknown\"` so we can also consider prices for cars in that group. There is a very clear difference in average price between the three groups. Cars with unrepaired damage have an average price that is about a third of the average price for undamaged cars and cars with damage that has been repaired. In addition, even though cars with an unknown damage status have an average price about 50% higher than cars with unrepaired damage, that average price is still less than half the average price for cars without unrepaired damage."
   ]
  },
  {
   "cell_type": "markdown",
   "metadata": {},
   "source": [
    "# Exploring Popular Brand/Model Combinations"
   ]
  },
  {
   "cell_type": "markdown",
   "metadata": {},
   "source": [
    "The last basic analysis we perform is identifying the most common brand/model combinations. This is very easy to do using the \"group by\" features in pandas."
   ]
  },
  {
   "cell_type": "code",
   "execution_count": 134,
   "metadata": {},
   "outputs": [
    {
     "data": {
      "text/plain": [
       "brand          model   \n",
       "volkswagen     golf        3707\n",
       "bmw            3er         2615\n",
       "volkswagen     polo        1609\n",
       "opel           corsa       1592\n",
       "volkswagen     passat      1349\n",
       "opel           astra       1348\n",
       "audi           a4          1231\n",
       "mercedes_benz  c_klasse    1136\n",
       "bmw            5er         1132\n",
       "mercedes_benz  e_klasse     958\n",
       "Name: model, dtype: int64"
      ]
     },
     "execution_count": 134,
     "metadata": {},
     "output_type": "execute_result"
    }
   ],
   "source": [
    "# Group by brand and then get the value counts for the models in each brand\n",
    "# Include null values in the value counts\n",
    "# Then sort by values in descending order\n",
    "autos.groupby(\"brand\")[\"model\"].value_counts(dropna = False).sort_values(ascending = False).head(10)"
   ]
  },
  {
   "cell_type": "markdown",
   "metadata": {},
   "source": [
    "Here we have the top ten most common brand/model combinations, which are all cars from German brands. If we wish to easily see what fraction of the overall dataset is represented by these common brand/model combinations, we [flatten the multi-indexed series](https://jakevdp.github.io/PythonDataScienceHandbook/03.05-hierarchical-indexing.html#Index-setting-and-resetting)."
   ]
  },
  {
   "cell_type": "code",
   "execution_count": 145,
   "metadata": {},
   "outputs": [
    {
     "data": {
      "text/html": [
       "<div>\n",
       "<style scoped>\n",
       "    .dataframe tbody tr th:only-of-type {\n",
       "        vertical-align: middle;\n",
       "    }\n",
       "\n",
       "    .dataframe tbody tr th {\n",
       "        vertical-align: top;\n",
       "    }\n",
       "\n",
       "    .dataframe thead th {\n",
       "        text-align: right;\n",
       "    }\n",
       "</style>\n",
       "<table border=\"1\" class=\"dataframe\">\n",
       "  <thead>\n",
       "    <tr style=\"text-align: right;\">\n",
       "      <th></th>\n",
       "      <th>brand</th>\n",
       "      <th>model</th>\n",
       "      <th>count</th>\n",
       "      <th>proportion</th>\n",
       "    </tr>\n",
       "  </thead>\n",
       "  <tbody>\n",
       "    <tr>\n",
       "      <th>297</th>\n",
       "      <td>volkswagen</td>\n",
       "      <td>golf</td>\n",
       "      <td>3707</td>\n",
       "      <td>0.079401</td>\n",
       "    </tr>\n",
       "    <tr>\n",
       "      <th>24</th>\n",
       "      <td>bmw</td>\n",
       "      <td>3er</td>\n",
       "      <td>2615</td>\n",
       "      <td>0.056011</td>\n",
       "    </tr>\n",
       "    <tr>\n",
       "      <th>298</th>\n",
       "      <td>volkswagen</td>\n",
       "      <td>polo</td>\n",
       "      <td>1609</td>\n",
       "      <td>0.034464</td>\n",
       "    </tr>\n",
       "    <tr>\n",
       "      <th>200</th>\n",
       "      <td>opel</td>\n",
       "      <td>corsa</td>\n",
       "      <td>1592</td>\n",
       "      <td>0.034099</td>\n",
       "    </tr>\n",
       "    <tr>\n",
       "      <th>299</th>\n",
       "      <td>volkswagen</td>\n",
       "      <td>passat</td>\n",
       "      <td>1349</td>\n",
       "      <td>0.028895</td>\n",
       "    </tr>\n",
       "    <tr>\n",
       "      <th>201</th>\n",
       "      <td>opel</td>\n",
       "      <td>astra</td>\n",
       "      <td>1348</td>\n",
       "      <td>0.028873</td>\n",
       "    </tr>\n",
       "    <tr>\n",
       "      <th>7</th>\n",
       "      <td>audi</td>\n",
       "      <td>a4</td>\n",
       "      <td>1231</td>\n",
       "      <td>0.026367</td>\n",
       "    </tr>\n",
       "    <tr>\n",
       "      <th>158</th>\n",
       "      <td>mercedes_benz</td>\n",
       "      <td>c_klasse</td>\n",
       "      <td>1136</td>\n",
       "      <td>0.024332</td>\n",
       "    </tr>\n",
       "    <tr>\n",
       "      <th>25</th>\n",
       "      <td>bmw</td>\n",
       "      <td>5er</td>\n",
       "      <td>1132</td>\n",
       "      <td>0.024247</td>\n",
       "    </tr>\n",
       "    <tr>\n",
       "      <th>159</th>\n",
       "      <td>mercedes_benz</td>\n",
       "      <td>e_klasse</td>\n",
       "      <td>958</td>\n",
       "      <td>0.020520</td>\n",
       "    </tr>\n",
       "  </tbody>\n",
       "</table>\n",
       "</div>"
      ],
      "text/plain": [
       "             brand     model  count  proportion\n",
       "297     volkswagen      golf   3707    0.079401\n",
       "24             bmw       3er   2615    0.056011\n",
       "298     volkswagen      polo   1609    0.034464\n",
       "200           opel     corsa   1592    0.034099\n",
       "299     volkswagen    passat   1349    0.028895\n",
       "201           opel     astra   1348    0.028873\n",
       "7             audi        a4   1231    0.026367\n",
       "158  mercedes_benz  c_klasse   1136    0.024332\n",
       "25             bmw       5er   1132    0.024247\n",
       "159  mercedes_benz  e_klasse    958    0.020520"
      ]
     },
     "execution_count": 145,
     "metadata": {},
     "output_type": "execute_result"
    }
   ],
   "source": [
    "# Flatten multi-indexed series\n",
    "flat_brand_model = autos.groupby(\"brand\")[\"model\"].value_counts(dropna = False).reset_index(name = \"count\")\n",
    "flat_brand_model[\"proportion\"] = flat_brand_model[\"count\"]/autos.shape[0]\n",
    "flat_brand_model.sort_values([\"proportion\"], ascending = False).head(10)"
   ]
  },
  {
   "cell_type": "code",
   "execution_count": 148,
   "metadata": {},
   "outputs": [
    {
     "data": {
      "text/plain": [
       "0.35720864480476366"
      ]
     },
     "execution_count": 148,
     "metadata": {},
     "output_type": "execute_result"
    }
   ],
   "source": [
    "flat_brand_model[\"proportion\"].sort_values(ascending = False).head(10).sum()"
   ]
  },
  {
   "cell_type": "markdown",
   "metadata": {},
   "source": [
    "Volkswagen Golfs and BMW 3 Series are by far the most common cars in the data set, and in total the top ten most common brand/model combinations make up about 36% of the listings in the set."
   ]
  },
  {
   "cell_type": "markdown",
   "metadata": {},
   "source": [
    "# Conclusion and Potential Next Steps"
   ]
  },
  {
   "cell_type": "markdown",
   "metadata": {},
   "source": [
    "Over the course of this notebook, we went through the basic steps of preprocessing a dataset of used cars from eBay Kleinanzeigen. This involved loading the data into pandas; cleaning up the column names; and exploring the columns to identify ones which are likely candidates to drop immediately, ones which need to be converted into an appropriate type, and ones which contain potentially problematic values (null values and outliers). After processing the columns we identified, we then performed some basic analysis and aggregation to compare different categories of cars. In particular, we compared prices across different brands, odometer values, and states of repair. We also compared odometer readings across brands and explored the most common brand/model combinations.\n",
    "\n",
    "Beyond the work we have done in this notebook, there are a number of potential next steps for interesting preprocessing and analysis. Some of them include the following.\n",
    "\n",
    "- Analyze the `name` column for keywords that could be extracted and added as columns to the dataset.\n",
    "- Categorize cars based on kilometers driven per year at time of listing and then analyze patterns in prices among those categories.\n",
    "- Translate postal codes into geographic regions and compare the other variables (listing price, car brand/model/type) to see what differences or similarities there are between listings from various regions of Germany.\n",
    "- Add data visualizations to further summarize the analysis.\n",
    "- Explore various machine learning models to try and predict listing price based on the other variables.\n",
    "- Try to identify interesting clusters in the data using unsupervised machine learning techniques."
   ]
  }
 ],
 "metadata": {
  "kernelspec": {
   "display_name": "Python 3",
   "language": "python",
   "name": "python3"
  },
  "language_info": {
   "codemirror_mode": {
    "name": "ipython",
    "version": 3
   },
   "file_extension": ".py",
   "mimetype": "text/x-python",
   "name": "python",
   "nbconvert_exporter": "python",
   "pygments_lexer": "ipython3",
   "version": "3.8.2"
  }
 },
 "nbformat": 4,
 "nbformat_minor": 2
}
