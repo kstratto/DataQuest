{
 "cells": [
  {
   "cell_type": "markdown",
   "metadata": {},
   "source": [
    "# Introduction"
   ]
  },
  {
   "cell_type": "markdown",
   "metadata": {},
   "source": [
    "In this guided project, we work with two sets of mobile app data -- one from the iOS App Store and one from the Android Google Play Store -- in order to understand what types of of apps are likely to attract the most users. Our focus will be on free apps that are targeted at an English-speaking audience. More specifically, we will be exploring the most common and the most popular free apps by genre to see if there are any app genres which are particularly popular. While this project was originally written in pure Python, we will instead make use of the usual Python data science packages: NumPy, pandas, Matplotlib, and seaborn.\n",
    "\n",
    "Since there are over four million apps available between the two major mobile app stores, we will work with samples from each that have been collected and uploaded to Kaggle. The first sample is a [set of approximately 10,000 Google Play Store apps](https://www.kaggle.com/lava18/google-play-store-apps) that was scraped in February 2019. The second is a [set of approximately 7200 iOS App Store apps](https://www.kaggle.com/ramamet4/app-store-apple-data-set-10k-apps) that was scraped in June 2018."
   ]
  },
  {
   "cell_type": "markdown",
   "metadata": {},
   "source": [
    "The Google Play Store data contains the following columns.\n",
    "\n",
    "- `App` - Application name\n",
    "- `Category` - Category the app belongs to\n",
    "- `Rating` - Overall user rating of the app (as when scraped)\n",
    "- `Reviews` - Number of user reviews for the app (as when scraped)\n",
    "- `Size` - Size of the app (as when scraped)\n",
    "- `Installs` - Number of user downloads/installs for the app (as when scraped)\n",
    "- `Type` - Paid or Free\n",
    "- `Price` - Price of the app (as when scraped)\n",
    "- `Content Rating` - Age group the app is targeted at - Children / Mature 21+ / Adult\n",
    "- `Genres` - An app can belong to multiple genres (apart from its main category). For example, a musical family game will belong to Music, Game, Family genres.\n",
    "- `Last Updated` - Date when the app was last updated on Play Store (as when scraped)\n",
    "- `Current Ver` - Current version of the app available on Play Store (as when scraped)\n",
    "- `Android Ver` - Min required Android version (as when scraped)"
   ]
  },
  {
   "cell_type": "markdown",
   "metadata": {},
   "source": [
    "The iOS App Store data contains the following columns.\n",
    "\n",
    "- `id` - App ID\n",
    "- `track_name`- App Name\n",
    "- `size_bytes`- Size (in Bytes)\n",
    "- `currency`- Currency Type\n",
    "- `price`- Price amount\n",
    "- `rating_count_tot`- User Rating counts (for all versions)\n",
    "- `rating_count_ver`- User Rating counts (for current version)\n",
    "- `user_rating` - Average User Rating value (for all versions)\n",
    "- `user_rating_ver`- Average User Rating value (for current version)\n",
    "- `ver` - Latest version code\n",
    "- `cont_rating`- Content Rating\n",
    "- `prime_genre`- Primary Genre\n",
    "- `sup_devices.num`- Number of supporting devices\n",
    "- `ipadSc_urls.num`- Number of screenshots showed for display\n",
    "- `lang.num`- Number of supported languages\n",
    "- `vpp_lic`- Vpp Device Based Licensing Enabled"
   ]
  },
  {
   "cell_type": "markdown",
   "metadata": {},
   "source": [
    "# Loading data and initial cleaning"
   ]
  },
  {
   "cell_type": "markdown",
   "metadata": {},
   "source": [
    "We start by importing our usual Python data science packages and then loading the two sets of app data into separate dataframes to perform some initial inspections. In particular, we will start off by cleaning up the column names to make them a little easier to work with."
   ]
  },
  {
   "cell_type": "code",
   "execution_count": 1,
   "metadata": {},
   "outputs": [],
   "source": [
    "import numpy as np\n",
    "import pandas as pd\n",
    "import matplotlib.pyplot as plt\n",
    "import seaborn as sns\n",
    "sns.set()"
   ]
  },
  {
   "cell_type": "code",
   "execution_count": 2,
   "metadata": {},
   "outputs": [],
   "source": [
    "android_apps_filepath = \"googleplaystore.csv\"\n",
    "android_apps = pd.read_csv(android_apps_filepath)\n",
    "\n",
    "ios_apps_filepath = \"AppleStore.csv\"\n",
    "ios_apps = pd.read_csv(ios_apps_filepath).drop(columns = [\"Unnamed: 0\"])"
   ]
  },
  {
   "cell_type": "markdown",
   "metadata": {},
   "source": [
    "The column names for the Google Play Store data are all reasonably descriptive and concise, so the only cleaning we do for them is converting each name into snake case, which is the preferred style for Python."
   ]
  },
  {
   "cell_type": "code",
   "execution_count": 3,
   "metadata": {},
   "outputs": [],
   "source": [
    "android_apps_cols = android_apps.columns\n",
    "android_apps_cols = android_apps_cols.str.replace(\" \", \"_\")\n",
    "android_apps_cols = android_apps_cols.str.lower()\n",
    "android_apps.columns = android_apps_cols"
   ]
  },
  {
   "cell_type": "markdown",
   "metadata": {},
   "source": [
    "The column names for the iOS App Store data can be left as is, though a few could be changed to be a little more concise. For example, `rating_count_tot` could be changed to `oa_reviews` and `rating_count_ver` could be changed to `cur_ver_reviews` to allow `user_rating` and `user_rating_ver` to be shortened some to `oa_rating` and `cur_ver_rating`, respectively. This is purely a matter of personal preference."
   ]
  },
  {
   "cell_type": "code",
   "execution_count": 4,
   "metadata": {},
   "outputs": [],
   "source": [
    "ios_apps_cols = ios_apps.columns.to_series()\n",
    "columns_dict = {\"rating_count_tot\": \"oa_reviews\", \"rating_count_ver\": \"cur_ver_reviews\",\n",
    "               \"user_rating\": \"oa_rating\", \"user_rating_ver\": \"cur_ver_rating\",\n",
    "               \"sup_devices.num\": \"num_sup_devices\", \"ipadSc_urls.num\": \"num_screenshots\",\n",
    "               \"lang.num\": \"num_langs\"}\n",
    "ios_apps_cols.replace(columns_dict, inplace = True)\n",
    "ios_apps.columns = ios_apps_cols"
   ]
  },
  {
   "cell_type": "markdown",
   "metadata": {},
   "source": [
    "Now that we have cleaned up the column names for each data set to our liking, we move on to the rest of the cleaning. This will involve four main steps:\n",
    "\n",
    "1. Checking for and handling null values.\n",
    "2. Checking for duplicate apps and deciding which duplicates to remove.\n",
    "3. Removing apps that aren't targeted toward English-speaking audiences.\n",
    "4. Removing apps that are not free."
   ]
  },
  {
   "cell_type": "markdown",
   "metadata": {},
   "source": [
    "## Checking for and handling null values"
   ]
  },
  {
   "cell_type": "markdown",
   "metadata": {},
   "source": [
    "The first step in our data cleaning is checking for and handling null values."
   ]
  },
  {
   "cell_type": "code",
   "execution_count": 5,
   "metadata": {},
   "outputs": [
    {
     "data": {
      "text/plain": [
       "app                  0\n",
       "category             0\n",
       "rating            1474\n",
       "reviews              0\n",
       "size                 0\n",
       "installs             0\n",
       "type                 1\n",
       "price                0\n",
       "content_rating       1\n",
       "genres               0\n",
       "last_updated         0\n",
       "current_ver          8\n",
       "android_ver          3\n",
       "dtype: int64"
      ]
     },
     "execution_count": 5,
     "metadata": {},
     "output_type": "execute_result"
    }
   ],
   "source": [
    "android_apps.isnull().sum()"
   ]
  },
  {
   "cell_type": "code",
   "execution_count": 6,
   "metadata": {},
   "outputs": [
    {
     "data": {
      "text/plain": [
       "id                 0\n",
       "track_name         0\n",
       "size_bytes         0\n",
       "currency           0\n",
       "price              0\n",
       "oa_reviews         0\n",
       "cur_ver_reviews    0\n",
       "oa_rating          0\n",
       "cur_ver_rating     0\n",
       "ver                0\n",
       "cont_rating        0\n",
       "prime_genre        0\n",
       "num_sup_devices    0\n",
       "num_screenshots    0\n",
       "num_langs          0\n",
       "vpp_lic            0\n",
       "dtype: int64"
      ]
     },
     "execution_count": 6,
     "metadata": {},
     "output_type": "execute_result"
    }
   ],
   "source": [
    "ios_apps.isnull().sum()"
   ]
  },
  {
   "cell_type": "markdown",
   "metadata": {},
   "source": [
    "We see that while the iOS App Store data doesn't contain any null values, the Google Play Store data does. In particular, about 1500 apps are missing rating information, and then there are a few apps which are missing other information, such as type, content rating, app version info, and minimum required Android version. Since there are only a small handful of apps which are missing information aside from the rating, we'll look at those individually to make a decision for how to handle them before proceding to the question of the null values in the ratings column. We start with the app which has a null value in the `type` column."
   ]
  },
  {
   "cell_type": "code",
   "execution_count": 7,
   "metadata": {},
   "outputs": [
    {
     "data": {
      "text/html": [
       "<div>\n",
       "<style scoped>\n",
       "    .dataframe tbody tr th:only-of-type {\n",
       "        vertical-align: middle;\n",
       "    }\n",
       "\n",
       "    .dataframe tbody tr th {\n",
       "        vertical-align: top;\n",
       "    }\n",
       "\n",
       "    .dataframe thead th {\n",
       "        text-align: right;\n",
       "    }\n",
       "</style>\n",
       "<table border=\"1\" class=\"dataframe\">\n",
       "  <thead>\n",
       "    <tr style=\"text-align: right;\">\n",
       "      <th></th>\n",
       "      <th>app</th>\n",
       "      <th>category</th>\n",
       "      <th>rating</th>\n",
       "      <th>reviews</th>\n",
       "      <th>size</th>\n",
       "      <th>installs</th>\n",
       "      <th>type</th>\n",
       "      <th>price</th>\n",
       "      <th>content_rating</th>\n",
       "      <th>genres</th>\n",
       "      <th>last_updated</th>\n",
       "      <th>current_ver</th>\n",
       "      <th>android_ver</th>\n",
       "    </tr>\n",
       "  </thead>\n",
       "  <tbody>\n",
       "    <tr>\n",
       "      <th>9148</th>\n",
       "      <td>Command &amp; Conquer: Rivals</td>\n",
       "      <td>FAMILY</td>\n",
       "      <td>NaN</td>\n",
       "      <td>0</td>\n",
       "      <td>Varies with device</td>\n",
       "      <td>0</td>\n",
       "      <td>NaN</td>\n",
       "      <td>0</td>\n",
       "      <td>Everyone 10+</td>\n",
       "      <td>Strategy</td>\n",
       "      <td>June 28, 2018</td>\n",
       "      <td>Varies with device</td>\n",
       "      <td>Varies with device</td>\n",
       "    </tr>\n",
       "  </tbody>\n",
       "</table>\n",
       "</div>"
      ],
      "text/plain": [
       "                            app category  rating reviews                size  \\\n",
       "9148  Command & Conquer: Rivals   FAMILY     NaN       0  Varies with device   \n",
       "\n",
       "     installs type price content_rating    genres   last_updated  \\\n",
       "9148        0  NaN     0   Everyone 10+  Strategy  June 28, 2018   \n",
       "\n",
       "             current_ver         android_ver  \n",
       "9148  Varies with device  Varies with device  "
      ]
     },
     "execution_count": 7,
     "metadata": {},
     "output_type": "execute_result"
    }
   ],
   "source": [
    "android_apps[android_apps[\"type\"].isnull()]"
   ]
  },
  {
   "cell_type": "markdown",
   "metadata": {},
   "source": [
    "We can see that while this app, [Command & Conquer: Rivals](https://play.google.com/store/apps/details?id=com.ea.gp.candcwarzones) is has a null value in the `type` column, it has a `price` value of 0. This indicates that the app is a free app, which we can confirm by looking up the Play Store listing for the game. Therefore, we can simply replace the null value with \"Free\"."
   ]
  },
  {
   "cell_type": "code",
   "execution_count": 8,
   "metadata": {},
   "outputs": [],
   "source": [
    "android_apps.loc[9148, \"type\"] = \"Free\""
   ]
  },
  {
   "cell_type": "code",
   "execution_count": 9,
   "metadata": {},
   "outputs": [
    {
     "data": {
      "text/plain": [
       "0"
      ]
     },
     "execution_count": 9,
     "metadata": {},
     "output_type": "execute_result"
    }
   ],
   "source": [
    "android_apps[\"type\"].isnull().sum()"
   ]
  },
  {
   "cell_type": "markdown",
   "metadata": {},
   "source": [
    "Now that we have taken care of the row with a missing `type` value, we'll move on to the row with a missing `content_rating` value."
   ]
  },
  {
   "cell_type": "code",
   "execution_count": 10,
   "metadata": {},
   "outputs": [
    {
     "data": {
      "text/html": [
       "<div>\n",
       "<style scoped>\n",
       "    .dataframe tbody tr th:only-of-type {\n",
       "        vertical-align: middle;\n",
       "    }\n",
       "\n",
       "    .dataframe tbody tr th {\n",
       "        vertical-align: top;\n",
       "    }\n",
       "\n",
       "    .dataframe thead th {\n",
       "        text-align: right;\n",
       "    }\n",
       "</style>\n",
       "<table border=\"1\" class=\"dataframe\">\n",
       "  <thead>\n",
       "    <tr style=\"text-align: right;\">\n",
       "      <th></th>\n",
       "      <th>app</th>\n",
       "      <th>category</th>\n",
       "      <th>rating</th>\n",
       "      <th>reviews</th>\n",
       "      <th>size</th>\n",
       "      <th>installs</th>\n",
       "      <th>type</th>\n",
       "      <th>price</th>\n",
       "      <th>content_rating</th>\n",
       "      <th>genres</th>\n",
       "      <th>last_updated</th>\n",
       "      <th>current_ver</th>\n",
       "      <th>android_ver</th>\n",
       "    </tr>\n",
       "  </thead>\n",
       "  <tbody>\n",
       "    <tr>\n",
       "      <th>10472</th>\n",
       "      <td>Life Made WI-Fi Touchscreen Photo Frame</td>\n",
       "      <td>1.9</td>\n",
       "      <td>19.0</td>\n",
       "      <td>3.0M</td>\n",
       "      <td>1,000+</td>\n",
       "      <td>Free</td>\n",
       "      <td>0</td>\n",
       "      <td>Everyone</td>\n",
       "      <td>NaN</td>\n",
       "      <td>February 11, 2018</td>\n",
       "      <td>1.0.19</td>\n",
       "      <td>4.0 and up</td>\n",
       "      <td>NaN</td>\n",
       "    </tr>\n",
       "  </tbody>\n",
       "</table>\n",
       "</div>"
      ],
      "text/plain": [
       "                                           app category  rating reviews  \\\n",
       "10472  Life Made WI-Fi Touchscreen Photo Frame      1.9    19.0    3.0M   \n",
       "\n",
       "         size installs type     price content_rating             genres  \\\n",
       "10472  1,000+     Free    0  Everyone            NaN  February 11, 2018   \n",
       "\n",
       "      last_updated current_ver android_ver  \n",
       "10472       1.0.19  4.0 and up         NaN  "
      ]
     },
     "execution_count": 10,
     "metadata": {},
     "output_type": "execute_result"
    }
   ],
   "source": [
    "android_apps[android_apps[\"content_rating\"].isnull()]"
   ]
  },
  {
   "cell_type": "markdown",
   "metadata": {},
   "source": [
    "Inspecting this row reveals that is has more issues than just a mising `content_rating` value. In fact a missing `category` value resulted in the values for all of the other columns to be shifted over by one to the left. To fix this row, we can look up its [Play Store listing](https://play.google.com/store/apps/details?id=com.lifemade.internetPhotoframe) to confirm that is should have a `category` value of \"LIFESTYLE\". After doing this, we can then create a working copy of the row to shift over the values by 1 to the right and then update the values in the `category` and `genres` to reflect that this app is a lifestyle app."
   ]
  },
  {
   "cell_type": "code",
   "execution_count": 11,
   "metadata": {},
   "outputs": [],
   "source": [
    "s = android_apps.loc[10472].copy()"
   ]
  },
  {
   "cell_type": "code",
   "execution_count": 12,
   "metadata": {},
   "outputs": [],
   "source": [
    "s.iloc[2:] = android_apps.iloc[10472, 1:-1].values\n",
    "\n",
    "s[\"category\"] = \"LIFESTYLE\"\n",
    "\n",
    "s[\"genres\"] = \"Lifestyle\""
   ]
  },
  {
   "cell_type": "code",
   "execution_count": 13,
   "metadata": {},
   "outputs": [],
   "source": [
    "android_apps.loc[10472] = s"
   ]
  },
  {
   "cell_type": "code",
   "execution_count": 14,
   "metadata": {},
   "outputs": [
    {
     "data": {
      "text/plain": [
       "0"
      ]
     },
     "execution_count": 14,
     "metadata": {},
     "output_type": "execute_result"
    }
   ],
   "source": [
    "android_apps[\"content_rating\"].isnull().sum()"
   ]
  },
  {
   "cell_type": "markdown",
   "metadata": {},
   "source": [
    "While there are still columns with missing values, some of them, such as the `android_ver` column, are things that we can no longer look up by hand directly through the Google Play Store as of July 2020. In addition, since our ultimate goal in this project is to identify app genres which are particularly popular, the null values that remain are not directly relevant to our analysis at this point in time. A potential future extension of this project would involve handling the null values in the `rating` column to allow us to explore possible relationships between an app's rating and its popularity. For now, though, we move onto checking for and handling duplicate apps in the two datasets."
   ]
  },
  {
   "cell_type": "markdown",
   "metadata": {},
   "source": [
    "## Checking for and handling duplicate apps"
   ]
  },
  {
   "cell_type": "markdown",
   "metadata": {},
   "source": [
    "To check for duplicate apps in the two datasets, we will make use of the [`duplicated()`](https://pandas.pydata.org/pandas-docs/stable/reference/api/pandas.DataFrame.duplicated.html) function, which returns a boolean Series object denoting the duplicate rows. Since we are only using the app name to identify duplicates, we pass in the keyword argument `subset = [\"app\"]` to specify the column we wish to use."
   ]
  },
  {
   "cell_type": "code",
   "execution_count": 15,
   "metadata": {},
   "outputs": [
    {
     "data": {
      "text/plain": [
       "1181"
      ]
     },
     "execution_count": 15,
     "metadata": {},
     "output_type": "execute_result"
    }
   ],
   "source": [
    "android_apps.duplicated(subset = [\"app\"]).sum()"
   ]
  },
  {
   "cell_type": "markdown",
   "metadata": {},
   "source": [
    "There are a total of 1,181 duplicate Android app listings. For example, the app \"Coloring book moana\" appears twice."
   ]
  },
  {
   "cell_type": "code",
   "execution_count": 16,
   "metadata": {},
   "outputs": [
    {
     "data": {
      "text/plain": [
       "'Coloring book moana'"
      ]
     },
     "execution_count": 16,
     "metadata": {},
     "output_type": "execute_result"
    }
   ],
   "source": [
    "android_apps.loc[android_apps.duplicated(subset = [\"app\"], keep = False), \"app\"].unique()[0]"
   ]
  },
  {
   "cell_type": "code",
   "execution_count": 17,
   "metadata": {},
   "outputs": [
    {
     "data": {
      "text/html": [
       "<div>\n",
       "<style scoped>\n",
       "    .dataframe tbody tr th:only-of-type {\n",
       "        vertical-align: middle;\n",
       "    }\n",
       "\n",
       "    .dataframe tbody tr th {\n",
       "        vertical-align: top;\n",
       "    }\n",
       "\n",
       "    .dataframe thead th {\n",
       "        text-align: right;\n",
       "    }\n",
       "</style>\n",
       "<table border=\"1\" class=\"dataframe\">\n",
       "  <thead>\n",
       "    <tr style=\"text-align: right;\">\n",
       "      <th></th>\n",
       "      <th>app</th>\n",
       "      <th>category</th>\n",
       "      <th>rating</th>\n",
       "      <th>reviews</th>\n",
       "      <th>size</th>\n",
       "      <th>installs</th>\n",
       "      <th>type</th>\n",
       "      <th>price</th>\n",
       "      <th>content_rating</th>\n",
       "      <th>genres</th>\n",
       "      <th>last_updated</th>\n",
       "      <th>current_ver</th>\n",
       "      <th>android_ver</th>\n",
       "    </tr>\n",
       "  </thead>\n",
       "  <tbody>\n",
       "    <tr>\n",
       "      <th>1</th>\n",
       "      <td>Coloring book moana</td>\n",
       "      <td>ART_AND_DESIGN</td>\n",
       "      <td>3.9</td>\n",
       "      <td>967</td>\n",
       "      <td>14M</td>\n",
       "      <td>500,000+</td>\n",
       "      <td>Free</td>\n",
       "      <td>0</td>\n",
       "      <td>Everyone</td>\n",
       "      <td>Art &amp; Design;Pretend Play</td>\n",
       "      <td>January 15, 2018</td>\n",
       "      <td>2.0.0</td>\n",
       "      <td>4.0.3 and up</td>\n",
       "    </tr>\n",
       "    <tr>\n",
       "      <th>2033</th>\n",
       "      <td>Coloring book moana</td>\n",
       "      <td>FAMILY</td>\n",
       "      <td>3.9</td>\n",
       "      <td>974</td>\n",
       "      <td>14M</td>\n",
       "      <td>500,000+</td>\n",
       "      <td>Free</td>\n",
       "      <td>0</td>\n",
       "      <td>Everyone</td>\n",
       "      <td>Art &amp; Design;Pretend Play</td>\n",
       "      <td>January 15, 2018</td>\n",
       "      <td>2.0.0</td>\n",
       "      <td>4.0.3 and up</td>\n",
       "    </tr>\n",
       "  </tbody>\n",
       "</table>\n",
       "</div>"
      ],
      "text/plain": [
       "                      app        category rating reviews size  installs  type  \\\n",
       "1     Coloring book moana  ART_AND_DESIGN    3.9     967  14M  500,000+  Free   \n",
       "2033  Coloring book moana          FAMILY    3.9     974  14M  500,000+  Free   \n",
       "\n",
       "     price content_rating                     genres      last_updated  \\\n",
       "1        0       Everyone  Art & Design;Pretend Play  January 15, 2018   \n",
       "2033     0       Everyone  Art & Design;Pretend Play  January 15, 2018   \n",
       "\n",
       "     current_ver   android_ver  \n",
       "1          2.0.0  4.0.3 and up  \n",
       "2033       2.0.0  4.0.3 and up  "
      ]
     },
     "execution_count": 17,
     "metadata": {},
     "output_type": "execute_result"
    }
   ],
   "source": [
    "android_apps[android_apps[\"app\"] == \"Coloring book moana\"]"
   ]
  },
  {
   "cell_type": "markdown",
   "metadata": {},
   "source": [
    "Ideally, we'd be able to choose which of the above two rows by comparing when each was scraped and then picking the row which was scraped more recently to keep. Unfortunately, this dataset does not explicitly contain that information. We can, however, use the values in the `reviews` column as a proxy. The row with more reviews will be the one that was scraped more recently. To have pandas handle this process, we first sort the dataframe by the `reviews` column in descending order and then use the [`drop_duplicates()`](https://pandas.pydata.org/pandas-docs/stable/reference/api/pandas.DataFrame.drop_duplicates.html) to drop the duplicate rows. By default, the `drop_duplicates()` function keeps the first occurence of each duplicated row, so by sorting them in descending order by the number of reviews we will be able to keep the row with the most reviews (i.e. the row which was scraped most recently) for each duplicated app. Before sorting by the number reviews, we need to cast the `reviews` column to integers, since correcting the entry for Life Made WI-Fi Touchscreen Photo Frame resulted in putting a float into that column while the rest of the values are currently stored as strings. Strings and floats are not comparable to each other, so we would encounter an error if we do not convert the `reviews` column."
   ]
  },
  {
   "cell_type": "code",
   "execution_count": 18,
   "metadata": {},
   "outputs": [],
   "source": [
    "android_apps[\"reviews\"] = android_apps[\"reviews\"].astype(\"int64\")"
   ]
  },
  {
   "cell_type": "code",
   "execution_count": 19,
   "metadata": {},
   "outputs": [],
   "source": [
    "android_apps = android_apps.sort_values(by = [\"reviews\"], ascending = False).drop_duplicates(subset = [\"app\"], ignore_index = True)"
   ]
  },
  {
   "cell_type": "code",
   "execution_count": 20,
   "metadata": {},
   "outputs": [
    {
     "data": {
      "text/plain": [
       "(9660, 13)"
      ]
     },
     "execution_count": 20,
     "metadata": {},
     "output_type": "execute_result"
    }
   ],
   "source": [
    "android_apps.shape"
   ]
  },
  {
   "cell_type": "markdown",
   "metadata": {},
   "source": [
    "After removing the duplicate rows, there are 9,660 apps left in the Google Play Store dataset. Now that we have handled the duplicate Android apps, we perform the same process with the iOS App Store dataset. For this set, we can use either the `id` or the `track_name` column to identify duplicate apps."
   ]
  },
  {
   "cell_type": "code",
   "execution_count": 21,
   "metadata": {},
   "outputs": [
    {
     "data": {
      "text/plain": [
       "0"
      ]
     },
     "execution_count": 21,
     "metadata": {},
     "output_type": "execute_result"
    }
   ],
   "source": [
    "ios_apps.duplicated(subset = [\"id\"]).sum()"
   ]
  },
  {
   "cell_type": "code",
   "execution_count": 22,
   "metadata": {},
   "outputs": [
    {
     "data": {
      "text/plain": [
       "2"
      ]
     },
     "execution_count": 22,
     "metadata": {},
     "output_type": "execute_result"
    }
   ],
   "source": [
    "ios_apps.duplicated(subset = [\"track_name\"]).sum()"
   ]
  },
  {
   "cell_type": "code",
   "execution_count": 23,
   "metadata": {},
   "outputs": [
    {
     "data": {
      "text/html": [
       "<div>\n",
       "<style scoped>\n",
       "    .dataframe tbody tr th:only-of-type {\n",
       "        vertical-align: middle;\n",
       "    }\n",
       "\n",
       "    .dataframe tbody tr th {\n",
       "        vertical-align: top;\n",
       "    }\n",
       "\n",
       "    .dataframe thead th {\n",
       "        text-align: right;\n",
       "    }\n",
       "</style>\n",
       "<table border=\"1\" class=\"dataframe\">\n",
       "  <thead>\n",
       "    <tr style=\"text-align: right;\">\n",
       "      <th></th>\n",
       "      <th>id</th>\n",
       "      <th>track_name</th>\n",
       "      <th>size_bytes</th>\n",
       "      <th>currency</th>\n",
       "      <th>price</th>\n",
       "      <th>oa_reviews</th>\n",
       "      <th>cur_ver_reviews</th>\n",
       "      <th>oa_rating</th>\n",
       "      <th>cur_ver_rating</th>\n",
       "      <th>ver</th>\n",
       "      <th>cont_rating</th>\n",
       "      <th>prime_genre</th>\n",
       "      <th>num_sup_devices</th>\n",
       "      <th>num_screenshots</th>\n",
       "      <th>num_langs</th>\n",
       "      <th>vpp_lic</th>\n",
       "    </tr>\n",
       "  </thead>\n",
       "  <tbody>\n",
       "    <tr>\n",
       "      <th>3319</th>\n",
       "      <td>952877179</td>\n",
       "      <td>VR Roller Coaster</td>\n",
       "      <td>169523200</td>\n",
       "      <td>USD</td>\n",
       "      <td>0.0</td>\n",
       "      <td>107</td>\n",
       "      <td>102</td>\n",
       "      <td>3.5</td>\n",
       "      <td>3.5</td>\n",
       "      <td>2.0.0</td>\n",
       "      <td>4+</td>\n",
       "      <td>Games</td>\n",
       "      <td>37</td>\n",
       "      <td>5</td>\n",
       "      <td>1</td>\n",
       "      <td>1</td>\n",
       "    </tr>\n",
       "    <tr>\n",
       "      <th>5603</th>\n",
       "      <td>1089824278</td>\n",
       "      <td>VR Roller Coaster</td>\n",
       "      <td>240964608</td>\n",
       "      <td>USD</td>\n",
       "      <td>0.0</td>\n",
       "      <td>67</td>\n",
       "      <td>44</td>\n",
       "      <td>3.5</td>\n",
       "      <td>4.0</td>\n",
       "      <td>0.81</td>\n",
       "      <td>4+</td>\n",
       "      <td>Games</td>\n",
       "      <td>38</td>\n",
       "      <td>0</td>\n",
       "      <td>1</td>\n",
       "      <td>1</td>\n",
       "    </tr>\n",
       "    <tr>\n",
       "      <th>7092</th>\n",
       "      <td>1173990889</td>\n",
       "      <td>Mannequin Challenge</td>\n",
       "      <td>109705216</td>\n",
       "      <td>USD</td>\n",
       "      <td>0.0</td>\n",
       "      <td>668</td>\n",
       "      <td>87</td>\n",
       "      <td>3.0</td>\n",
       "      <td>3.0</td>\n",
       "      <td>1.4</td>\n",
       "      <td>9+</td>\n",
       "      <td>Games</td>\n",
       "      <td>37</td>\n",
       "      <td>4</td>\n",
       "      <td>1</td>\n",
       "      <td>1</td>\n",
       "    </tr>\n",
       "    <tr>\n",
       "      <th>7128</th>\n",
       "      <td>1178454060</td>\n",
       "      <td>Mannequin Challenge</td>\n",
       "      <td>59572224</td>\n",
       "      <td>USD</td>\n",
       "      <td>0.0</td>\n",
       "      <td>105</td>\n",
       "      <td>58</td>\n",
       "      <td>4.0</td>\n",
       "      <td>4.5</td>\n",
       "      <td>1.0.1</td>\n",
       "      <td>4+</td>\n",
       "      <td>Games</td>\n",
       "      <td>38</td>\n",
       "      <td>5</td>\n",
       "      <td>1</td>\n",
       "      <td>1</td>\n",
       "    </tr>\n",
       "  </tbody>\n",
       "</table>\n",
       "</div>"
      ],
      "text/plain": [
       "              id           track_name  size_bytes currency  price  oa_reviews  \\\n",
       "3319   952877179    VR Roller Coaster   169523200      USD    0.0         107   \n",
       "5603  1089824278    VR Roller Coaster   240964608      USD    0.0          67   \n",
       "7092  1173990889  Mannequin Challenge   109705216      USD    0.0         668   \n",
       "7128  1178454060  Mannequin Challenge    59572224      USD    0.0         105   \n",
       "\n",
       "      cur_ver_reviews  oa_rating  cur_ver_rating    ver cont_rating  \\\n",
       "3319              102        3.5             3.5  2.0.0          4+   \n",
       "5603               44        3.5             4.0   0.81          4+   \n",
       "7092               87        3.0             3.0    1.4          9+   \n",
       "7128               58        4.0             4.5  1.0.1          4+   \n",
       "\n",
       "     prime_genre  num_sup_devices  num_screenshots  num_langs  vpp_lic  \n",
       "3319       Games               37                5          1        1  \n",
       "5603       Games               38                0          1        1  \n",
       "7092       Games               37                4          1        1  \n",
       "7128       Games               38                5          1        1  "
      ]
     },
     "execution_count": 23,
     "metadata": {},
     "output_type": "execute_result"
    }
   ],
   "source": [
    "ios_apps[ios_apps.duplicated(subset = [\"track_name\"], keep = False)]"
   ]
  },
  {
   "cell_type": "markdown",
   "metadata": {},
   "source": [
    "It turns out that while every app in the iOS App Store dataset has a unique app ID, there are two apps that we see are duplicated when checking by app name. We will go ahead and keep only the occurrences with the highest number of reveiws for each duplicated app."
   ]
  },
  {
   "cell_type": "code",
   "execution_count": 24,
   "metadata": {},
   "outputs": [],
   "source": [
    "ios_apps = ios_apps.drop_duplicates(subset = [\"track_name\"], ignore_index = True)"
   ]
  },
  {
   "cell_type": "markdown",
   "metadata": {},
   "source": [
    "Now that we have handled duplicate apps in both datasets, our next step is to remove apps that are not targeted toward English-speaking audiences."
   ]
  },
  {
   "cell_type": "markdown",
   "metadata": {},
   "source": [
    "## Removing apps that are not targeted toward English-speaking audiences"
   ]
  },
  {
   "cell_type": "markdown",
   "metadata": {},
   "source": [
    "Since in this project we are focusing on apps that are targeted toward English-speaking audiences, we want to remove any apps which may not be targeted toward English speakers. One way that we can focus on apps targeted toward English-speaking audiences is by filtering out apps with names that use non-English characters. A naive way of doing this would be to use the built-in [`str.isascii()` function](https://docs.python.org/3/library/stdtypes.html#str.isascii) to filter out all apps which use non-ASCII characters."
   ]
  },
  {
   "cell_type": "code",
   "execution_count": 25,
   "metadata": {},
   "outputs": [
    {
     "data": {
      "text/plain": [
       "['Instagram']"
      ]
     },
     "execution_count": 25,
     "metadata": {},
     "output_type": "execute_result"
    }
   ],
   "source": [
    "titles = ['Instagram', '爱奇艺PPS -《欢乐颂2》电视剧热播', 'Docs To Go™ Free Office Suite', 'Instachat 😜']\n",
    "list(filter(str.isascii, titles))"
   ]
  },
  {
   "cell_type": "markdown",
   "metadata": {},
   "source": [
    "As we can see above, filtering out apps with names that include any non-ASCII characters is a very aggressive filtering strategy, as it would filter out apps with titles that are in English, but use special non-ASCII characters such as emoji. To minimize the potential impact of data loss from this aggressive filtering strategy, we will instead filter out apps titles with a number of non-ASCII characters that exceeds a given threshold. The first step in implementing this less-aggressive strategy is to write a function that counts the number of non-ASCII characters in a string. This will make use of the [`ord()` function](https://docs.python.org/3/library/functions.html#ord), which converts a character into its Unicode code point."
   ]
  },
  {
   "cell_type": "code",
   "execution_count": 26,
   "metadata": {},
   "outputs": [],
   "source": [
    "def num_non_ascii(string):\n",
    "    # convert string into list of Unicode code points of each character\n",
    "    character_codepoints = list(map(ord, string))\n",
    "    # filter out non-ascii characters, which have code point > 127\n",
    "    non_ascii = list(filter(lambda x: x > 127, character_codepoints))\n",
    "    return len(non_ascii)"
   ]
  },
  {
   "cell_type": "code",
   "execution_count": 27,
   "metadata": {},
   "outputs": [
    {
     "data": {
      "text/plain": [
       "[0, 13, 1, 1]"
      ]
     },
     "execution_count": 27,
     "metadata": {},
     "output_type": "execute_result"
    }
   ],
   "source": [
    "list(map(num_non_ascii, titles))"
   ]
  },
  {
   "cell_type": "markdown",
   "metadata": {},
   "source": [
    "With this function, we can then filter our data by excluding apps with titles that contain more than a given number of non-ASCII characters. To do this, we use the [`Series.apply()` function](https://pandas.pydata.org/docs/reference/api/pandas.Series.apply.html#pandas.Series.apply) along with our `num_non_ascii` function to create a boolean mask for app titles that contain no more than our threshold for non-ASCII characters. For instance, we can filter out apps with titles that contain more than three non-ASCII characters."
   ]
  },
  {
   "cell_type": "code",
   "execution_count": 28,
   "metadata": {},
   "outputs": [],
   "source": [
    "non_ascii_threshold = 3\n",
    "android_english_mask = android_apps[\"app\"].apply(lambda x: num_non_ascii(x) <= non_ascii_threshold)\n",
    "ios_english_mask = ios_apps[\"track_name\"].apply(lambda x: num_non_ascii(x) <= non_ascii_threshold)"
   ]
  },
  {
   "cell_type": "code",
   "execution_count": 29,
   "metadata": {},
   "outputs": [
    {
     "data": {
      "text/plain": [
       "45"
      ]
     },
     "execution_count": 29,
     "metadata": {},
     "output_type": "execute_result"
    }
   ],
   "source": [
    "android_apps.shape[0] - android_apps.loc[android_english_mask, :].shape[0]"
   ]
  },
  {
   "cell_type": "code",
   "execution_count": 30,
   "metadata": {},
   "outputs": [
    {
     "data": {
      "text/plain": [
       "9615"
      ]
     },
     "execution_count": 30,
     "metadata": {},
     "output_type": "execute_result"
    }
   ],
   "source": [
    "android_apps.loc[android_english_mask, :].shape[0]"
   ]
  },
  {
   "cell_type": "code",
   "execution_count": 31,
   "metadata": {},
   "outputs": [
    {
     "data": {
      "text/plain": [
       "1014"
      ]
     },
     "execution_count": 31,
     "metadata": {},
     "output_type": "execute_result"
    }
   ],
   "source": [
    "ios_apps.shape[0] - ios_apps.loc[ios_english_mask, :].shape[0]"
   ]
  },
  {
   "cell_type": "code",
   "execution_count": 32,
   "metadata": {},
   "outputs": [
    {
     "data": {
      "text/plain": [
       "6181"
      ]
     },
     "execution_count": 32,
     "metadata": {},
     "output_type": "execute_result"
    }
   ],
   "source": [
    "ios_apps.loc[ios_english_mask, :].shape[0]"
   ]
  },
  {
   "cell_type": "markdown",
   "metadata": {},
   "source": [
    "This filter removed 45 apps from the Google Play Store set, and 1014 apps from the iOS App Store set, leaving us with 9615 and 6181 apps from the Google Play Store and iOS App Store, respectively. With our sets of English-language apps from each store in hand, the last step is to filter out the apps that are not free."
   ]
  },
  {
   "cell_type": "markdown",
   "metadata": {},
   "source": [
    "## Removing apps that are not free"
   ]
  },
  {
   "cell_type": "markdown",
   "metadata": {},
   "source": [
    "Isolating the free apps in each data set is a straightforward process. The Google Play Store data already contains the `type` column, which tags apps as either `Free` or `Paid`, so all we need to do is create a boolean mask to select only the apps that are tagged as `Free.`"
   ]
  },
  {
   "cell_type": "code",
   "execution_count": 33,
   "metadata": {},
   "outputs": [],
   "source": [
    "android_free_mask = android_apps[\"type\"] == \"Free\"\n",
    "android_english_free_mask = android_english_mask & android_free_mask"
   ]
  },
  {
   "cell_type": "code",
   "execution_count": 34,
   "metadata": {},
   "outputs": [
    {
     "data": {
      "text/plain": [
       "(8865, 13)"
      ]
     },
     "execution_count": 34,
     "metadata": {},
     "output_type": "execute_result"
    }
   ],
   "source": [
    "android_apps.loc[android_english_free_mask, :].shape"
   ]
  },
  {
   "cell_type": "markdown",
   "metadata": {},
   "source": [
    "As we can see, there are 8,865 free Android apps that are targeted toward English-speaking audiences. While the iOS App Store data doesn't already contain column like the `type` column from the Google Play Store data, we can still straightforwardly isolate the free iOS apps by using the `price` column. All we need to do is select the apps with a `price` value of zero."
   ]
  },
  {
   "cell_type": "code",
   "execution_count": 35,
   "metadata": {},
   "outputs": [],
   "source": [
    "ios_free_mask = ios_apps[\"price\"] == 0\n",
    "ios_english_free_mask = ios_english_mask & ios_free_mask"
   ]
  },
  {
   "cell_type": "code",
   "execution_count": 36,
   "metadata": {},
   "outputs": [
    {
     "data": {
      "text/plain": [
       "(3220, 16)"
      ]
     },
     "execution_count": 36,
     "metadata": {},
     "output_type": "execute_result"
    }
   ],
   "source": [
    "ios_apps.loc[ios_english_free_mask, :].shape"
   ]
  },
  {
   "cell_type": "markdown",
   "metadata": {},
   "source": [
    "There are 3,220 free iOS apps that are targeted toward English-speaking audiences."
   ]
  },
  {
   "cell_type": "markdown",
   "metadata": {},
   "source": [
    "# Analyzing most common apps by genre"
   ]
  },
  {
   "cell_type": "markdown",
   "metadata": {},
   "source": [
    "Now that we've done our initial data cleaning, which involved the following steps:\n",
    "\n",
    "1. Checking for and handling null values;\n",
    "2. Checking for duplicate apps and deciding which duplicates to remove;\n",
    "3. Removing apps that aren't targeted toward English-speaking audiences; and\n",
    "4. Removing apps that are not free,\n",
    "\n",
    "we can finally dive into some analysis. Our goal is to explore the most common and most popular free apps by genre, which would be relevant if we were a hypothetical app developer looking for particular kinds of apps that are likely to be profitable. We would also want our hypothetical app to have maximal reach, so we should see what kinds of apps are successful on both the Google Play Store and the iOS App Store. As a starting point for our analysis, we'll simply look for which types of apps are most common in each app store. The [`pandas.Series.value_counts()` function](https://pandas.pydata.org/docs/reference/api/pandas.Series.value_counts.html) provides a convenient way to generate frequency tables for a given column of data. We will use this function with the `category` and `genres` columns from the Google Play Store data, and with the `prime_genre` column from the iOS App Store data. Note that passing the argument `normalize = True` tells the function to provide the relative frequencies of the unique values instead of the counts."
   ]
  },
  {
   "cell_type": "code",
   "execution_count": 37,
   "metadata": {},
   "outputs": [
    {
     "data": {
      "text/plain": [
       "FAMILY                 0.189171\n",
       "GAME                   0.097236\n",
       "TOOLS                  0.084602\n",
       "BUSINESS               0.045911\n",
       "LIFESTYLE              0.039143\n",
       "PRODUCTIVITY           0.038917\n",
       "FINANCE                0.036999\n",
       "MEDICAL                0.035307\n",
       "SPORTS                 0.033954\n",
       "PERSONALIZATION        0.033164\n",
       "COMMUNICATION          0.032375\n",
       "HEALTH_AND_FITNESS     0.030795\n",
       "PHOTOGRAPHY            0.029442\n",
       "NEWS_AND_MAGAZINES     0.027975\n",
       "SOCIAL                 0.026622\n",
       "TRAVEL_AND_LOCAL       0.023350\n",
       "SHOPPING               0.022448\n",
       "BOOKS_AND_REFERENCE    0.021433\n",
       "DATING                 0.018613\n",
       "VIDEO_PLAYERS          0.017936\n",
       "MAPS_AND_NAVIGATION    0.013988\n",
       "FOOD_AND_DRINK         0.012408\n",
       "EDUCATION              0.011506\n",
       "ENTERTAINMENT          0.009588\n",
       "LIBRARIES_AND_DEMO     0.009363\n",
       "AUTO_AND_VEHICLES      0.009250\n",
       "HOUSE_AND_HOME         0.008235\n",
       "WEATHER                0.008009\n",
       "EVENTS                 0.007107\n",
       "PARENTING              0.006543\n",
       "ART_AND_DESIGN         0.006430\n",
       "COMICS                 0.006204\n",
       "BEAUTY                 0.005979\n",
       "Name: category, dtype: float64"
      ]
     },
     "execution_count": 37,
     "metadata": {},
     "output_type": "execute_result"
    }
   ],
   "source": [
    "android_apps.loc[android_english_free_mask, \"category\"].value_counts(normalize = True)"
   ]
  },
  {
   "cell_type": "markdown",
   "metadata": {},
   "source": [
    "Looking at the frequency table for the `category`, we see that the two two most common categories are \"Family\" and \"Game\". The \"Family\" category is a little nebulous, and the name in and of itself isn't particularly descriptive, but a look at the [corresponding page on the Google Play Store](https://play.google.com/store/apps/category/FAMILY) reveals this category is a mix of educational apps and games that are targeted at children. In other words, almost 30% of the free apps for English-speaking audiences in the Google Play Store set are games. The next most common categories, however, are more practical apps, such as \"Tools\", \"Business\", \"Lifestyle\", and \"Productivity\", which make up the next 20% of apps that we are looking at."
   ]
  },
  {
   "cell_type": "code",
   "execution_count": 38,
   "metadata": {},
   "outputs": [
    {
     "data": {
      "text/plain": [
       "Tools                          0.084490\n",
       "Entertainment                  0.060688\n",
       "Education                      0.053469\n",
       "Business                       0.045911\n",
       "Lifestyle                      0.039030\n",
       "                                 ...   \n",
       "Health & Fitness;Education     0.000113\n",
       "Comics;Creativity              0.000113\n",
       "Arcade;Pretend Play            0.000113\n",
       "Books & Reference;Education    0.000113\n",
       "Puzzle;Education               0.000113\n",
       "Name: genres, Length: 114, dtype: float64"
      ]
     },
     "execution_count": 38,
     "metadata": {},
     "output_type": "execute_result"
    }
   ],
   "source": [
    "android_apps.loc[android_english_free_mask, \"genres\"].value_counts(normalize = True)"
   ]
  },
  {
   "cell_type": "markdown",
   "metadata": {},
   "source": [
    "The frequency table for the `genres` column is less helpful, at least without further processing, since individual apps can be placed into more than one genre. For now, since we want more of a general overview of the free English app landscape on the Google Play Store, we will focus our attention back to the `category` column. In the future, if we want to try and extract some more granular information regarding app types, we can revisit this column and perform some further processing to make it more usable. Next, we explore the `prime_genre` column from the iOS App Store data."
   ]
  },
  {
   "cell_type": "code",
   "execution_count": 39,
   "metadata": {},
   "outputs": [
    {
     "data": {
      "text/plain": [
       "Games                0.581366\n",
       "Entertainment        0.078882\n",
       "Photo & Video        0.049689\n",
       "Education            0.036646\n",
       "Social Networking    0.032919\n",
       "Shopping             0.026087\n",
       "Utilities            0.025155\n",
       "Sports               0.021429\n",
       "Music                0.020497\n",
       "Health & Fitness     0.020186\n",
       "Productivity         0.017391\n",
       "Lifestyle            0.015839\n",
       "News                 0.013354\n",
       "Travel               0.012422\n",
       "Finance              0.011180\n",
       "Weather              0.008696\n",
       "Food & Drink         0.008075\n",
       "Reference            0.005590\n",
       "Business             0.005280\n",
       "Book                 0.004348\n",
       "Navigation           0.001863\n",
       "Medical              0.001863\n",
       "Catalogs             0.001242\n",
       "Name: prime_genre, dtype: float64"
      ]
     },
     "execution_count": 39,
     "metadata": {},
     "output_type": "execute_result"
    }
   ],
   "source": [
    "ios_apps.loc[ios_english_free_mask, \"prime_genre\"].value_counts(normalize = True)"
   ]
  },
  {
   "cell_type": "markdown",
   "metadata": {},
   "source": [
    "Among free iOS apps targeted at English-speaking audiences, the picture is very different compared to the Google Play Store apps. The most striking that stands out is how games account for almost 60% of the iOS apps we are looking at, compared to the 30% of Android apps that could be considered as games. Also of note is general prevalence of \"fun\" apps among the rest of the top five most common iOS app genres (Entertainment, Photo & Video, Social Networking) compare to the more-practical bent of the top five most common Android app categories.\n",
    "\n",
    "One important thing to note, however, is that these frequency tables only show **how common** various types of apps are. They say nothing about the **popularity** of apps within those genres. For example, there might be so many Family apps in the Google Play Store simply because they are easy and inexpensive to make, allowing them to turn a profit through sheer numbers even of none of those apps is individually particularly popular. Put another way, a large supply of a given type of app does not imply the existence of a correspondingly large demand. If we want to find out which types of apps are the most popular, we'll need to instead look at some of the other columns for a more relevant measure of popularity."
   ]
  },
  {
   "cell_type": "markdown",
   "metadata": {},
   "source": [
    "# Analyzing the most popular apps by genre"
   ]
  },
  {
   "cell_type": "markdown",
   "metadata": {},
   "source": [
    "One way of measuring the popularity of an app is to look at how many times it has been downloaded and installed. We can then compare the popularity of different types of apps by computing the average number of installs for each type of app. While this is something that we can do fairly straightforwardly with the Google Play Store data, since the `installs` column provides information about the number of installs for each app, the iOS App Store data doesn't include such a column. Instead, we'll need to see if we can use some other column from the iOS App Store data as a reasonably proxy for the number of installs. Before we do that, though, we will focus our attention on the Google Play Store Data."
   ]
  },
  {
   "cell_type": "markdown",
   "metadata": {},
   "source": [
    "# Most popular Android apps by genre"
   ]
  },
  {
   "cell_type": "markdown",
   "metadata": {},
   "source": [
    "While the Google Play Store data already includes an `installs` column, there is still a bit of pre-processing that we need to do before we can fully utilize it."
   ]
  },
  {
   "cell_type": "code",
   "execution_count": 40,
   "metadata": {},
   "outputs": [
    {
     "data": {
      "text/plain": [
       "0    1,000,000,000+\n",
       "1    1,000,000,000+\n",
       "2    1,000,000,000+\n",
       "3    1,000,000,000+\n",
       "4      100,000,000+\n",
       "Name: installs, dtype: object"
      ]
     },
     "execution_count": 40,
     "metadata": {},
     "output_type": "execute_result"
    }
   ],
   "source": [
    "android_apps[\"installs\"].head()"
   ]
  },
  {
   "cell_type": "markdown",
   "metadata": {},
   "source": [
    " Right now the `installs` column is stored as the [`object` data type](https://pandas.pydata.org/pandas-docs/stable/user_guide/basics.html#dtypes), which is the most general data type that pandas can use to accommodate columns which contain multiple data types. Looking at the output from the `unique()` function tells us that this is due to the fact the column contains strings which are used to represent numerical ranges."
   ]
  },
  {
   "cell_type": "code",
   "execution_count": 41,
   "metadata": {},
   "outputs": [
    {
     "data": {
      "text/plain": [
       "array(['1,000,000,000+', '100,000,000+', '500,000,000+', '50,000,000+',\n",
       "       '10,000,000+', '5,000,000+', '1,000,000+', '500,000+', '100,000+',\n",
       "       '50,000+', '10,000+', '5,000+', '1,000+', '500+', '100+', '10+',\n",
       "       '50+', '5+', '1+', '0+', '0'], dtype=object)"
      ]
     },
     "execution_count": 41,
     "metadata": {},
     "output_type": "execute_result"
    }
   ],
   "source": [
    "android_apps[\"installs\"].unique()"
   ]
  },
  {
   "cell_type": "markdown",
   "metadata": {},
   "source": [
    "We also see that the values in the `installs` column aren't exact numbers of installs. Instead, they are order-of-magnitude estimates such as 100+ install or 1,000,000+ installs. This is important to note, since an app with an `installs` value of 1,000,000+ could have anywhere from as few as exactly 1,000,000 istalls to as many as 4,999,999 installs. However, since we are trying to examine overall popularity trends for various app genres, this data is sufficient for our purposes. \n",
    "\n",
    "In order to perform computations with this column, we will need to convert the strings into integers. To do so, we will assume that the number of installs for each app will be at the bottom of the range indicated by the value in the `installs` column. For example, we will simply convert a value of 100+ to just 100. This conversion will happen in two steps. First, we use the [`pandas.Series.str.replace()` function](https://pandas.pydata.org/pandas-docs/stable/reference/api/pandas.Series.str.replace.html#pandas.Series.str.replace) to strip out all of the \"+\" and \",\" characters that occur. The second step is to use the [`pandas.to_numeric()` function](https://pandas.pydata.org/pandas-docs/stable/reference/api/pandas.to_numeric.html#pandas.to_numeric) to convert those values from strings to a numeric data type (either ints or floats depending on the context). We will then replace the original `installs` column with the converted version."
   ]
  },
  {
   "cell_type": "code",
   "execution_count": 43,
   "metadata": {},
   "outputs": [],
   "source": [
    "android_apps[\"installs\"] = pd.to_numeric(android_apps[\"installs\"].str.replace(r\"[,\\+]\", \"\"))"
   ]
  },
  {
   "cell_type": "code",
   "execution_count": 44,
   "metadata": {},
   "outputs": [
    {
     "data": {
      "text/plain": [
       "0       1000000000\n",
       "1       1000000000\n",
       "2       1000000000\n",
       "3       1000000000\n",
       "4        100000000\n",
       "           ...    \n",
       "9655            10\n",
       "9656            10\n",
       "9657             1\n",
       "9658             1\n",
       "9659          1000\n",
       "Name: installs, Length: 9660, dtype: int64"
      ]
     },
     "execution_count": 44,
     "metadata": {},
     "output_type": "execute_result"
    }
   ],
   "source": [
    "android_apps[\"installs\"]"
   ]
  }
 ],
 "metadata": {
  "kernelspec": {
   "display_name": "Python 3",
   "language": "python",
   "name": "python3"
  },
  "language_info": {
   "codemirror_mode": {
    "name": "ipython",
    "version": 3
   },
   "file_extension": ".py",
   "mimetype": "text/x-python",
   "name": "python",
   "nbconvert_exporter": "python",
   "pygments_lexer": "ipython3",
   "version": "3.8.2"
  }
 },
 "nbformat": 4,
 "nbformat_minor": 4
}
