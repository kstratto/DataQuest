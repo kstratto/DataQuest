{
 "cells": [
  {
   "cell_type": "markdown",
   "metadata": {},
   "source": [
    "# Introduction"
   ]
  },
  {
   "cell_type": "markdown",
   "metadata": {},
   "source": [
    "In this guided project, we work with two sets of mobile app data -- one from the iOS App Store and one from the Android Google Play Store -- in order to understand what types of of apps are likely to attract the most users. Our focus will be on free apps that are targeted at an English-speaking audience. More specifically, we will be exploring the most common and the most popular free apps by genre to see if there are any app genres which are particularly popular. While this project was originally written in pure Python, we will instead make use of the usual Python data science packages: NumPy, pandas, Matplotlib, and seaborn.\n",
    "\n",
    "Since there are over four million apps available between the two major mobile app stores, we will work with samples from each that have been collected and uploaded to Kaggle. The first sample is a [set of approximately 10,000 Google Play Store apps](https://www.kaggle.com/lava18/google-play-store-apps) that was scraped in February 2019. The second is a [set of approximately 7200 iOS App Store apps](https://www.kaggle.com/ramamet4/app-store-apple-data-set-10k-apps) that was scraped in June 2018."
   ]
  },
  {
   "cell_type": "markdown",
   "metadata": {},
   "source": [
    "The Google Play Store data contains the following columns.\n",
    "\n",
    "- `App` - Application name\n",
    "- `Category` - Category the app belongs to\n",
    "- `Rating` - Overall user rating of the app (as when scraped)\n",
    "- `Reviews` - Number of user reviews for the app (as when scraped)\n",
    "- `Size` - Size of the app (as when scraped)\n",
    "- `Installs` - Number of user downloads/installs for the app (as when scraped)\n",
    "- `Type` - Paid or Free\n",
    "- `Price` - Price of the app (as when scraped)\n",
    "- `Content Rating` - Age group the app is targeted at - Children / Mature 21+ / Adult\n",
    "- `Genres` - An app can belong to multiple genres (apart from its main category). For example, a musical family game will belong to Music, Game, Family genres.\n",
    "- `Last Updated` - Date when the app was last updated on Play Store (as when scraped)\n",
    "- `Current Ver` - Current version of the app available on Play Store (as when scraped)\n",
    "- `Android Ver` - Min required Android version (as when scraped)"
   ]
  },
  {
   "cell_type": "markdown",
   "metadata": {},
   "source": [
    "The iOS App Store data contains the following columns.\n",
    "\n",
    "- `id` - App ID\n",
    "- `track_name`- App Name\n",
    "- `size_bytes`- Size (in Bytes)\n",
    "- `currency`- Currency Type\n",
    "- `price`- Price amount\n",
    "- `rating_count_tot`- User Rating counts (for all versions)\n",
    "- `rating_count_ver`- User Rating counts (for current version)\n",
    "- `user_rating` - Average User Rating value (for all versions)\n",
    "- `user_rating_ver`- Average User Rating value (for current version)\n",
    "- `ver` - Latest version code\n",
    "- `cont_rating`- Content Rating\n",
    "- `prime_genre`- Primary Genre\n",
    "- `sup_devices.num`- Number of supporting devices\n",
    "- `ipadSc_urls.num`- Number of screenshots showed for display\n",
    "- `lang.num`- Number of supported languages\n",
    "- `vpp_lic`- Vpp Device Based Licensing Enabled"
   ]
  },
  {
   "cell_type": "markdown",
   "metadata": {},
   "source": [
    "# Loading data and initial cleaning"
   ]
  },
  {
   "cell_type": "markdown",
   "metadata": {},
   "source": [
    "We start by importing our usual Python data science packages and then loading the two sets of app data into separate dataframes to perform some initial inspections. In particular, we will start off by cleaning up the column names to make them a little easier to work with."
   ]
  },
  {
   "cell_type": "code",
   "execution_count": 1,
   "metadata": {},
   "outputs": [],
   "source": [
    "import numpy as np\n",
    "import pandas as pd\n",
    "import matplotlib.pyplot as plt\n",
    "import seaborn as sns\n",
    "sns.set()"
   ]
  },
  {
   "cell_type": "code",
   "execution_count": 2,
   "metadata": {},
   "outputs": [],
   "source": [
    "android_apps_filepath = \"googleplaystore.csv\"\n",
    "android_apps = pd.read_csv(android_apps_filepath)\n",
    "\n",
    "ios_apps_filepath = \"AppleStore.csv\"\n",
    "ios_apps = pd.read_csv(ios_apps_filepath).drop(columns = [\"Unnamed: 0\"])"
   ]
  },
  {
   "cell_type": "markdown",
   "metadata": {},
   "source": [
    "The column names for the Google Play Store data are all reasonably descriptive and concise, so the only cleaning we do for them is converting each name into snake case, which is the preferred style for Python."
   ]
  },
  {
   "cell_type": "code",
   "execution_count": 3,
   "metadata": {},
   "outputs": [],
   "source": [
    "android_apps_cols = android_apps.columns\n",
    "android_apps_cols = android_apps_cols.str.replace(\" \", \"_\")\n",
    "android_apps_cols = android_apps_cols.str.lower()\n",
    "android_apps.columns = android_apps_cols"
   ]
  },
  {
   "cell_type": "markdown",
   "metadata": {},
   "source": [
    "The column names for the iOS App Store data can be left as is, though a few could be changed to be a little more concise. For example, `rating_count_tot` could be changed to `oa_reviews` and `rating_count_ver` could be changed to `cur_ver_reviews` to allow `user_rating` and `user_rating_ver` to be shortened some to `oa_rating` and `cur_ver_rating`, respectively. This is purely a matter of personal preference."
   ]
  },
  {
   "cell_type": "code",
   "execution_count": 4,
   "metadata": {},
   "outputs": [],
   "source": [
    "ios_apps_cols = ios_apps.columns.to_series()\n",
    "columns_dict = {\"rating_count_tot\": \"oa_reviews\", \"rating_count_ver\": \"cur_ver_reviews\",\n",
    "               \"user_rating\": \"oa_rating\", \"user_rating_ver\": \"cur_ver_rating\",\n",
    "               \"sup_devices.num\": \"num_sup_devices\", \"ipadSc_urls.num\": \"num_screenshots\",\n",
    "               \"lang.num\": \"num_langs\"}\n",
    "ios_apps_cols.replace(columns_dict, inplace = True)\n",
    "ios_apps.columns = ios_apps_cols"
   ]
  },
  {
   "cell_type": "markdown",
   "metadata": {},
   "source": [
    "Now that we have cleaned up the column names for each data set to our liking, we move on to the rest of the cleaning. This will involve four main steps:\n",
    "\n",
    "1. Checking for and handling null values.\n",
    "2. Checking for duplicate apps and deciding which duplicates to remove.\n",
    "3. Removing apps that aren't targeted toward English-speaking audiences.\n",
    "4. Removing apps that are not free."
   ]
  },
  {
   "cell_type": "markdown",
   "metadata": {},
   "source": [
    "## Checking for and handling null values"
   ]
  },
  {
   "cell_type": "markdown",
   "metadata": {},
   "source": [
    "The first step in our data cleaning is checking for and handling null values."
   ]
  },
  {
   "cell_type": "code",
   "execution_count": 5,
   "metadata": {},
   "outputs": [
    {
     "data": {
      "text/plain": [
       "app                  0\n",
       "category             0\n",
       "rating            1474\n",
       "reviews              0\n",
       "size                 0\n",
       "installs             0\n",
       "type                 1\n",
       "price                0\n",
       "content_rating       1\n",
       "genres               0\n",
       "last_updated         0\n",
       "current_ver          8\n",
       "android_ver          3\n",
       "dtype: int64"
      ]
     },
     "execution_count": 5,
     "metadata": {},
     "output_type": "execute_result"
    }
   ],
   "source": [
    "android_apps.isnull().sum()"
   ]
  },
  {
   "cell_type": "code",
   "execution_count": 6,
   "metadata": {},
   "outputs": [
    {
     "data": {
      "text/plain": [
       "id                 0\n",
       "track_name         0\n",
       "size_bytes         0\n",
       "currency           0\n",
       "price              0\n",
       "oa_reviews         0\n",
       "cur_ver_reviews    0\n",
       "oa_rating          0\n",
       "cur_ver_rating     0\n",
       "ver                0\n",
       "cont_rating        0\n",
       "prime_genre        0\n",
       "num_sup_devices    0\n",
       "num_screenshots    0\n",
       "num_langs          0\n",
       "vpp_lic            0\n",
       "dtype: int64"
      ]
     },
     "execution_count": 6,
     "metadata": {},
     "output_type": "execute_result"
    }
   ],
   "source": [
    "ios_apps.isnull().sum()"
   ]
  },
  {
   "cell_type": "markdown",
   "metadata": {},
   "source": [
    "We see that while the iOS App Store data doesn't contain any null values, the Google Play Store data does. In particular, about 1500 apps are missing rating information, and then there are a few apps which are missing other information, such as type, content rating, app version info, and minimum required Android version. Since there are only a small handful of apps which are missing information aside from the rating, we'll look at those individually to make a decision for how to handle them before proceding to the question of the null values in the ratings column. We start with the app which has a null value in the `type` column."
   ]
  },
  {
   "cell_type": "code",
   "execution_count": 7,
   "metadata": {},
   "outputs": [
    {
     "data": {
      "text/html": [
       "<div>\n",
       "<style scoped>\n",
       "    .dataframe tbody tr th:only-of-type {\n",
       "        vertical-align: middle;\n",
       "    }\n",
       "\n",
       "    .dataframe tbody tr th {\n",
       "        vertical-align: top;\n",
       "    }\n",
       "\n",
       "    .dataframe thead th {\n",
       "        text-align: right;\n",
       "    }\n",
       "</style>\n",
       "<table border=\"1\" class=\"dataframe\">\n",
       "  <thead>\n",
       "    <tr style=\"text-align: right;\">\n",
       "      <th></th>\n",
       "      <th>app</th>\n",
       "      <th>category</th>\n",
       "      <th>rating</th>\n",
       "      <th>reviews</th>\n",
       "      <th>size</th>\n",
       "      <th>installs</th>\n",
       "      <th>type</th>\n",
       "      <th>price</th>\n",
       "      <th>content_rating</th>\n",
       "      <th>genres</th>\n",
       "      <th>last_updated</th>\n",
       "      <th>current_ver</th>\n",
       "      <th>android_ver</th>\n",
       "    </tr>\n",
       "  </thead>\n",
       "  <tbody>\n",
       "    <tr>\n",
       "      <th>9148</th>\n",
       "      <td>Command &amp; Conquer: Rivals</td>\n",
       "      <td>FAMILY</td>\n",
       "      <td>NaN</td>\n",
       "      <td>0</td>\n",
       "      <td>Varies with device</td>\n",
       "      <td>0</td>\n",
       "      <td>NaN</td>\n",
       "      <td>0</td>\n",
       "      <td>Everyone 10+</td>\n",
       "      <td>Strategy</td>\n",
       "      <td>June 28, 2018</td>\n",
       "      <td>Varies with device</td>\n",
       "      <td>Varies with device</td>\n",
       "    </tr>\n",
       "  </tbody>\n",
       "</table>\n",
       "</div>"
      ],
      "text/plain": [
       "                            app category  rating reviews                size  \\\n",
       "9148  Command & Conquer: Rivals   FAMILY     NaN       0  Varies with device   \n",
       "\n",
       "     installs type price content_rating    genres   last_updated  \\\n",
       "9148        0  NaN     0   Everyone 10+  Strategy  June 28, 2018   \n",
       "\n",
       "             current_ver         android_ver  \n",
       "9148  Varies with device  Varies with device  "
      ]
     },
     "execution_count": 7,
     "metadata": {},
     "output_type": "execute_result"
    }
   ],
   "source": [
    "android_apps[android_apps[\"type\"].isnull()]"
   ]
  },
  {
   "cell_type": "markdown",
   "metadata": {},
   "source": [
    "We can see that while this app, [Command & Conquer: Rivals](https://play.google.com/store/apps/details?id=com.ea.gp.candcwarzones) is has a null value in the `type` column, it has a `price` value of 0. This indicates that the app is a free app, which we can confirm by looking up the Play Store listing for the game. Therefore, we can simply replace the null value with \"Free\"."
   ]
  },
  {
   "cell_type": "code",
   "execution_count": 8,
   "metadata": {},
   "outputs": [],
   "source": [
    "android_apps.loc[9148, \"type\"] = \"Free\""
   ]
  },
  {
   "cell_type": "code",
   "execution_count": 9,
   "metadata": {},
   "outputs": [
    {
     "data": {
      "text/plain": [
       "0"
      ]
     },
     "execution_count": 9,
     "metadata": {},
     "output_type": "execute_result"
    }
   ],
   "source": [
    "android_apps[\"type\"].isnull().sum()"
   ]
  },
  {
   "cell_type": "markdown",
   "metadata": {},
   "source": [
    "Now that we have taken care of the row with a missing `type` value, we'll move on to the row with a missing `content_rating` value."
   ]
  },
  {
   "cell_type": "code",
   "execution_count": 10,
   "metadata": {},
   "outputs": [
    {
     "data": {
      "text/html": [
       "<div>\n",
       "<style scoped>\n",
       "    .dataframe tbody tr th:only-of-type {\n",
       "        vertical-align: middle;\n",
       "    }\n",
       "\n",
       "    .dataframe tbody tr th {\n",
       "        vertical-align: top;\n",
       "    }\n",
       "\n",
       "    .dataframe thead th {\n",
       "        text-align: right;\n",
       "    }\n",
       "</style>\n",
       "<table border=\"1\" class=\"dataframe\">\n",
       "  <thead>\n",
       "    <tr style=\"text-align: right;\">\n",
       "      <th></th>\n",
       "      <th>app</th>\n",
       "      <th>category</th>\n",
       "      <th>rating</th>\n",
       "      <th>reviews</th>\n",
       "      <th>size</th>\n",
       "      <th>installs</th>\n",
       "      <th>type</th>\n",
       "      <th>price</th>\n",
       "      <th>content_rating</th>\n",
       "      <th>genres</th>\n",
       "      <th>last_updated</th>\n",
       "      <th>current_ver</th>\n",
       "      <th>android_ver</th>\n",
       "    </tr>\n",
       "  </thead>\n",
       "  <tbody>\n",
       "    <tr>\n",
       "      <th>10472</th>\n",
       "      <td>Life Made WI-Fi Touchscreen Photo Frame</td>\n",
       "      <td>1.9</td>\n",
       "      <td>19.0</td>\n",
       "      <td>3.0M</td>\n",
       "      <td>1,000+</td>\n",
       "      <td>Free</td>\n",
       "      <td>0</td>\n",
       "      <td>Everyone</td>\n",
       "      <td>NaN</td>\n",
       "      <td>February 11, 2018</td>\n",
       "      <td>1.0.19</td>\n",
       "      <td>4.0 and up</td>\n",
       "      <td>NaN</td>\n",
       "    </tr>\n",
       "  </tbody>\n",
       "</table>\n",
       "</div>"
      ],
      "text/plain": [
       "                                           app category  rating reviews  \\\n",
       "10472  Life Made WI-Fi Touchscreen Photo Frame      1.9    19.0    3.0M   \n",
       "\n",
       "         size installs type     price content_rating             genres  \\\n",
       "10472  1,000+     Free    0  Everyone            NaN  February 11, 2018   \n",
       "\n",
       "      last_updated current_ver android_ver  \n",
       "10472       1.0.19  4.0 and up         NaN  "
      ]
     },
     "execution_count": 10,
     "metadata": {},
     "output_type": "execute_result"
    }
   ],
   "source": [
    "android_apps[android_apps[\"content_rating\"].isnull()]"
   ]
  },
  {
   "cell_type": "markdown",
   "metadata": {},
   "source": [
    "Inspecting this row reveals that is has more issues than just a mising `content_rating` value. In fact a missing `category` value resulted in the values for all of the other columns to be shifted over by one to the left. To fix this row, we can look up its [Play Store listing](https://play.google.com/store/apps/details?id=com.lifemade.internetPhotoframe) to confirm that is should have a `category` value of \"LIFESTYLE\". After doing this, we can then create a working copy of the row to shift over the values by 1 to the right and then update the values in the `category` and `genres` to reflect that this app is a lifestyle app."
   ]
  },
  {
   "cell_type": "code",
   "execution_count": 11,
   "metadata": {},
   "outputs": [],
   "source": [
    "s = android_apps.loc[10472].copy()"
   ]
  },
  {
   "cell_type": "code",
   "execution_count": 12,
   "metadata": {},
   "outputs": [],
   "source": [
    "s.iloc[2:] = android_apps.iloc[10472, 1:-1].values\n",
    "\n",
    "s[\"category\"] = \"LIFESTYLE\"\n",
    "\n",
    "s[\"genres\"] = \"Lifestyle\""
   ]
  },
  {
   "cell_type": "code",
   "execution_count": 13,
   "metadata": {},
   "outputs": [],
   "source": [
    "android_apps.loc[10472] = s"
   ]
  },
  {
   "cell_type": "code",
   "execution_count": 14,
   "metadata": {},
   "outputs": [
    {
     "data": {
      "text/plain": [
       "0"
      ]
     },
     "execution_count": 14,
     "metadata": {},
     "output_type": "execute_result"
    }
   ],
   "source": [
    "android_apps[\"content_rating\"].isnull().sum()"
   ]
  },
  {
   "cell_type": "markdown",
   "metadata": {},
   "source": [
    "While there are still columns with missing values, some of them, such as the `android_ver` column, are things that we can no longer look up by hand directly through the Google Play Store as of July 2020. In addition, since our ultimate goal in this project is to identify app genres which are particularly popular, the null values that remain are not directly relevant to our analysis at this point in time. A potential future extension of this project would involve handling the null values in the `rating` column to allow us to explore possible relationships between an app's rating and its popularity. For now, though, we move onto checking for and handling duplicate apps in the two datasets."
   ]
  },
  {
   "cell_type": "markdown",
   "metadata": {},
   "source": [
    "## Checking for and handling duplicate apps"
   ]
  },
  {
   "cell_type": "markdown",
   "metadata": {},
   "source": [
    "To check for duplicate apps in the two datasets, we will make use of the [`duplicated()`](https://pandas.pydata.org/pandas-docs/stable/reference/api/pandas.DataFrame.duplicated.html) function, which returns a boolean Series object denoting the duplicate rows. Since we are only using the app name to identify duplicates, we pass in the keyword argument `subset = [\"app\"]` to specify the column we wish to use."
   ]
  },
  {
   "cell_type": "code",
   "execution_count": 15,
   "metadata": {},
   "outputs": [
    {
     "data": {
      "text/plain": [
       "1181"
      ]
     },
     "execution_count": 15,
     "metadata": {},
     "output_type": "execute_result"
    }
   ],
   "source": [
    "android_apps.duplicated(subset = [\"app\"]).sum()"
   ]
  },
  {
   "cell_type": "markdown",
   "metadata": {},
   "source": [
    "There are a total of 1,181 duplicate Android app listings. For example, the app \"Coloring book moana\" appears twice."
   ]
  },
  {
   "cell_type": "code",
   "execution_count": 16,
   "metadata": {},
   "outputs": [
    {
     "data": {
      "text/plain": [
       "'Coloring book moana'"
      ]
     },
     "execution_count": 16,
     "metadata": {},
     "output_type": "execute_result"
    }
   ],
   "source": [
    "android_apps.loc[android_apps.duplicated(subset = [\"app\"], keep = False), \"app\"].unique()[0]"
   ]
  },
  {
   "cell_type": "code",
   "execution_count": 17,
   "metadata": {},
   "outputs": [
    {
     "data": {
      "text/html": [
       "<div>\n",
       "<style scoped>\n",
       "    .dataframe tbody tr th:only-of-type {\n",
       "        vertical-align: middle;\n",
       "    }\n",
       "\n",
       "    .dataframe tbody tr th {\n",
       "        vertical-align: top;\n",
       "    }\n",
       "\n",
       "    .dataframe thead th {\n",
       "        text-align: right;\n",
       "    }\n",
       "</style>\n",
       "<table border=\"1\" class=\"dataframe\">\n",
       "  <thead>\n",
       "    <tr style=\"text-align: right;\">\n",
       "      <th></th>\n",
       "      <th>app</th>\n",
       "      <th>category</th>\n",
       "      <th>rating</th>\n",
       "      <th>reviews</th>\n",
       "      <th>size</th>\n",
       "      <th>installs</th>\n",
       "      <th>type</th>\n",
       "      <th>price</th>\n",
       "      <th>content_rating</th>\n",
       "      <th>genres</th>\n",
       "      <th>last_updated</th>\n",
       "      <th>current_ver</th>\n",
       "      <th>android_ver</th>\n",
       "    </tr>\n",
       "  </thead>\n",
       "  <tbody>\n",
       "    <tr>\n",
       "      <th>1</th>\n",
       "      <td>Coloring book moana</td>\n",
       "      <td>ART_AND_DESIGN</td>\n",
       "      <td>3.9</td>\n",
       "      <td>967</td>\n",
       "      <td>14M</td>\n",
       "      <td>500,000+</td>\n",
       "      <td>Free</td>\n",
       "      <td>0</td>\n",
       "      <td>Everyone</td>\n",
       "      <td>Art &amp; Design;Pretend Play</td>\n",
       "      <td>January 15, 2018</td>\n",
       "      <td>2.0.0</td>\n",
       "      <td>4.0.3 and up</td>\n",
       "    </tr>\n",
       "    <tr>\n",
       "      <th>2033</th>\n",
       "      <td>Coloring book moana</td>\n",
       "      <td>FAMILY</td>\n",
       "      <td>3.9</td>\n",
       "      <td>974</td>\n",
       "      <td>14M</td>\n",
       "      <td>500,000+</td>\n",
       "      <td>Free</td>\n",
       "      <td>0</td>\n",
       "      <td>Everyone</td>\n",
       "      <td>Art &amp; Design;Pretend Play</td>\n",
       "      <td>January 15, 2018</td>\n",
       "      <td>2.0.0</td>\n",
       "      <td>4.0.3 and up</td>\n",
       "    </tr>\n",
       "  </tbody>\n",
       "</table>\n",
       "</div>"
      ],
      "text/plain": [
       "                      app        category rating reviews size  installs  type  \\\n",
       "1     Coloring book moana  ART_AND_DESIGN    3.9     967  14M  500,000+  Free   \n",
       "2033  Coloring book moana          FAMILY    3.9     974  14M  500,000+  Free   \n",
       "\n",
       "     price content_rating                     genres      last_updated  \\\n",
       "1        0       Everyone  Art & Design;Pretend Play  January 15, 2018   \n",
       "2033     0       Everyone  Art & Design;Pretend Play  January 15, 2018   \n",
       "\n",
       "     current_ver   android_ver  \n",
       "1          2.0.0  4.0.3 and up  \n",
       "2033       2.0.0  4.0.3 and up  "
      ]
     },
     "execution_count": 17,
     "metadata": {},
     "output_type": "execute_result"
    }
   ],
   "source": [
    "android_apps[android_apps[\"app\"] == \"Coloring book moana\"]"
   ]
  },
  {
   "cell_type": "markdown",
   "metadata": {},
   "source": [
    "Ideally, we'd be able to choose which of the above two rows by comparing when each was scraped and then picking the row which was scraped more recently to keep. Unfortunately, this dataset does not explicitly contain that information. We can, however, use the values in the `reviews` column as a proxy. The row with more reviews will be the one that was scraped more recently. To have pandas handle this process, we first sort the dataframe by the `reviews` column in descending order and then use the [`drop_duplicates()`](https://pandas.pydata.org/pandas-docs/stable/reference/api/pandas.DataFrame.drop_duplicates.html) to drop the duplicate rows. By default, the `drop_duplicates()` function keeps the first occurence of each duplicated row, so by sorting them in descending order by the number of reviews we will be able to keep the row with the most reviews (i.e. the row which was scraped most recently) for each duplicated app. Before sorting by the number reviews, we need to cast the `reviews` column to integers, since correcting the entry for Life Made WI-Fi Touchscreen Photo Frame resulted in putting a float into that column while the rest of the values are currently stored as strings. Strings and floats are not comparable to each other, so we would encounter an error if we do not convert the `reviews` column."
   ]
  },
  {
   "cell_type": "code",
   "execution_count": 18,
   "metadata": {},
   "outputs": [],
   "source": [
    "android_apps[\"reviews\"] = android_apps[\"reviews\"].astype(\"int64\")"
   ]
  },
  {
   "cell_type": "code",
   "execution_count": 19,
   "metadata": {},
   "outputs": [],
   "source": [
    "android_apps = android_apps.sort_values(by = [\"reviews\"], ascending = False).drop_duplicates(subset = [\"app\"], ignore_index = True)"
   ]
  },
  {
   "cell_type": "code",
   "execution_count": 20,
   "metadata": {},
   "outputs": [
    {
     "data": {
      "text/plain": [
       "(9660, 13)"
      ]
     },
     "execution_count": 20,
     "metadata": {},
     "output_type": "execute_result"
    }
   ],
   "source": [
    "android_apps.shape"
   ]
  },
  {
   "cell_type": "markdown",
   "metadata": {},
   "source": [
    "After removing the duplicate rows, there are 9,660 apps left in the Google Play Store dataset. Now that we have handled the duplicate Android apps, we perform the same process with the iOS App Store dataset. For this set, we can use either the `id` or the `track_name` column to identify duplicate apps."
   ]
  },
  {
   "cell_type": "code",
   "execution_count": 21,
   "metadata": {},
   "outputs": [
    {
     "data": {
      "text/plain": [
       "0"
      ]
     },
     "execution_count": 21,
     "metadata": {},
     "output_type": "execute_result"
    }
   ],
   "source": [
    "ios_apps.duplicated(subset = [\"id\"]).sum()"
   ]
  },
  {
   "cell_type": "code",
   "execution_count": 22,
   "metadata": {},
   "outputs": [
    {
     "data": {
      "text/plain": [
       "2"
      ]
     },
     "execution_count": 22,
     "metadata": {},
     "output_type": "execute_result"
    }
   ],
   "source": [
    "ios_apps.duplicated(subset = [\"track_name\"]).sum()"
   ]
  },
  {
   "cell_type": "code",
   "execution_count": 23,
   "metadata": {},
   "outputs": [
    {
     "data": {
      "text/html": [
       "<div>\n",
       "<style scoped>\n",
       "    .dataframe tbody tr th:only-of-type {\n",
       "        vertical-align: middle;\n",
       "    }\n",
       "\n",
       "    .dataframe tbody tr th {\n",
       "        vertical-align: top;\n",
       "    }\n",
       "\n",
       "    .dataframe thead th {\n",
       "        text-align: right;\n",
       "    }\n",
       "</style>\n",
       "<table border=\"1\" class=\"dataframe\">\n",
       "  <thead>\n",
       "    <tr style=\"text-align: right;\">\n",
       "      <th></th>\n",
       "      <th>id</th>\n",
       "      <th>track_name</th>\n",
       "      <th>size_bytes</th>\n",
       "      <th>currency</th>\n",
       "      <th>price</th>\n",
       "      <th>oa_reviews</th>\n",
       "      <th>cur_ver_reviews</th>\n",
       "      <th>oa_rating</th>\n",
       "      <th>cur_ver_rating</th>\n",
       "      <th>ver</th>\n",
       "      <th>cont_rating</th>\n",
       "      <th>prime_genre</th>\n",
       "      <th>num_sup_devices</th>\n",
       "      <th>num_screenshots</th>\n",
       "      <th>num_langs</th>\n",
       "      <th>vpp_lic</th>\n",
       "    </tr>\n",
       "  </thead>\n",
       "  <tbody>\n",
       "    <tr>\n",
       "      <th>3319</th>\n",
       "      <td>952877179</td>\n",
       "      <td>VR Roller Coaster</td>\n",
       "      <td>169523200</td>\n",
       "      <td>USD</td>\n",
       "      <td>0.0</td>\n",
       "      <td>107</td>\n",
       "      <td>102</td>\n",
       "      <td>3.5</td>\n",
       "      <td>3.5</td>\n",
       "      <td>2.0.0</td>\n",
       "      <td>4+</td>\n",
       "      <td>Games</td>\n",
       "      <td>37</td>\n",
       "      <td>5</td>\n",
       "      <td>1</td>\n",
       "      <td>1</td>\n",
       "    </tr>\n",
       "    <tr>\n",
       "      <th>5603</th>\n",
       "      <td>1089824278</td>\n",
       "      <td>VR Roller Coaster</td>\n",
       "      <td>240964608</td>\n",
       "      <td>USD</td>\n",
       "      <td>0.0</td>\n",
       "      <td>67</td>\n",
       "      <td>44</td>\n",
       "      <td>3.5</td>\n",
       "      <td>4.0</td>\n",
       "      <td>0.81</td>\n",
       "      <td>4+</td>\n",
       "      <td>Games</td>\n",
       "      <td>38</td>\n",
       "      <td>0</td>\n",
       "      <td>1</td>\n",
       "      <td>1</td>\n",
       "    </tr>\n",
       "    <tr>\n",
       "      <th>7092</th>\n",
       "      <td>1173990889</td>\n",
       "      <td>Mannequin Challenge</td>\n",
       "      <td>109705216</td>\n",
       "      <td>USD</td>\n",
       "      <td>0.0</td>\n",
       "      <td>668</td>\n",
       "      <td>87</td>\n",
       "      <td>3.0</td>\n",
       "      <td>3.0</td>\n",
       "      <td>1.4</td>\n",
       "      <td>9+</td>\n",
       "      <td>Games</td>\n",
       "      <td>37</td>\n",
       "      <td>4</td>\n",
       "      <td>1</td>\n",
       "      <td>1</td>\n",
       "    </tr>\n",
       "    <tr>\n",
       "      <th>7128</th>\n",
       "      <td>1178454060</td>\n",
       "      <td>Mannequin Challenge</td>\n",
       "      <td>59572224</td>\n",
       "      <td>USD</td>\n",
       "      <td>0.0</td>\n",
       "      <td>105</td>\n",
       "      <td>58</td>\n",
       "      <td>4.0</td>\n",
       "      <td>4.5</td>\n",
       "      <td>1.0.1</td>\n",
       "      <td>4+</td>\n",
       "      <td>Games</td>\n",
       "      <td>38</td>\n",
       "      <td>5</td>\n",
       "      <td>1</td>\n",
       "      <td>1</td>\n",
       "    </tr>\n",
       "  </tbody>\n",
       "</table>\n",
       "</div>"
      ],
      "text/plain": [
       "              id           track_name  size_bytes currency  price  oa_reviews  \\\n",
       "3319   952877179    VR Roller Coaster   169523200      USD    0.0         107   \n",
       "5603  1089824278    VR Roller Coaster   240964608      USD    0.0          67   \n",
       "7092  1173990889  Mannequin Challenge   109705216      USD    0.0         668   \n",
       "7128  1178454060  Mannequin Challenge    59572224      USD    0.0         105   \n",
       "\n",
       "      cur_ver_reviews  oa_rating  cur_ver_rating    ver cont_rating  \\\n",
       "3319              102        3.5             3.5  2.0.0          4+   \n",
       "5603               44        3.5             4.0   0.81          4+   \n",
       "7092               87        3.0             3.0    1.4          9+   \n",
       "7128               58        4.0             4.5  1.0.1          4+   \n",
       "\n",
       "     prime_genre  num_sup_devices  num_screenshots  num_langs  vpp_lic  \n",
       "3319       Games               37                5          1        1  \n",
       "5603       Games               38                0          1        1  \n",
       "7092       Games               37                4          1        1  \n",
       "7128       Games               38                5          1        1  "
      ]
     },
     "execution_count": 23,
     "metadata": {},
     "output_type": "execute_result"
    }
   ],
   "source": [
    "ios_apps[ios_apps.duplicated(subset = [\"track_name\"], keep = False)]"
   ]
  },
  {
   "cell_type": "markdown",
   "metadata": {},
   "source": [
    "It turns out that while every app in the iOS App Store dataset has a unique app ID, there are two apps that we see are duplicated when checking by app name. We will go ahead and keep only the occurrences with the highest number of reveiws for each duplicated app."
   ]
  },
  {
   "cell_type": "code",
   "execution_count": 24,
   "metadata": {},
   "outputs": [],
   "source": [
    "ios_apps = ios_apps.drop_duplicates(subset = [\"track_name\"], ignore_index = True)"
   ]
  },
  {
   "cell_type": "markdown",
   "metadata": {},
   "source": [
    "Now that we have handled duplicate apps in both datasets, our next step is to remove apps that are not targeted toward English-speaking audiences."
   ]
  },
  {
   "cell_type": "markdown",
   "metadata": {},
   "source": [
    "## Removing apps that are not targeted toward English-speaking audiences"
   ]
  },
  {
   "cell_type": "markdown",
   "metadata": {},
   "source": [
    "Since in this project we are focusing on apps that are targeted toward English-speaking audiences, we want to remove any apps which may not be targeted toward English speakers. One way that we can focus on apps targeted toward English-speaking audiences is by filtering out apps with names that use non-English characters. A naive way of doing this would be to use the built-in [`str.isascii()` function](https://docs.python.org/3/library/stdtypes.html#str.isascii) to filter out all apps which use non-ASCII characters."
   ]
  },
  {
   "cell_type": "code",
   "execution_count": 25,
   "metadata": {},
   "outputs": [
    {
     "data": {
      "text/plain": [
       "['Instagram']"
      ]
     },
     "execution_count": 25,
     "metadata": {},
     "output_type": "execute_result"
    }
   ],
   "source": [
    "titles = ['Instagram', '爱奇艺PPS -《欢乐颂2》电视剧热播', 'Docs To Go™ Free Office Suite', 'Instachat 😜']\n",
    "list(filter(str.isascii, titles))"
   ]
  },
  {
   "cell_type": "markdown",
   "metadata": {},
   "source": [
    "As we can see above, filtering out apps with names that include any non-ASCII characters is a very aggressive filtering strategy, as it would filter out apps with titles that are in English, but use special non-ASCII characters such as emoji. To minimize the potential impact of data loss from this aggressive filtering strategy, we will instead filter out apps titles with a number of non-ASCII characters that exceeds a given threshold. The first step in implementing this less-aggressive strategy is to write a function that counts the number of non-ASCII characters in a string. This will make use of the [`ord()` function](https://docs.python.org/3/library/functions.html#ord), which converts a character into its Unicode code point."
   ]
  },
  {
   "cell_type": "code",
   "execution_count": 26,
   "metadata": {},
   "outputs": [],
   "source": [
    "def num_non_ascii(string):\n",
    "    # convert string into list of Unicode code points of each character\n",
    "    character_codepoints = list(map(ord, string))\n",
    "    # filter out non-ascii characters, which have code point > 127\n",
    "    non_ascii = list(filter(lambda x: x > 127, character_codepoints))\n",
    "    return len(non_ascii)"
   ]
  },
  {
   "cell_type": "code",
   "execution_count": 27,
   "metadata": {},
   "outputs": [
    {
     "data": {
      "text/plain": [
       "[0, 13, 1, 1]"
      ]
     },
     "execution_count": 27,
     "metadata": {},
     "output_type": "execute_result"
    }
   ],
   "source": [
    "list(map(num_non_ascii, titles))"
   ]
  },
  {
   "cell_type": "markdown",
   "metadata": {},
   "source": [
    "With this function, we can then filter our data by excluding apps with titles that contain more than a given number of non-ASCII characters. To do this, we use the [`Series.apply()` function](https://pandas.pydata.org/docs/reference/api/pandas.Series.apply.html#pandas.Series.apply) along with our `num_non_ascii` function to create a boolean mask for app titles that contain no more than our threshold for non-ASCII characters. For instance, we can filter out apps with titles that contain more than three non-ASCII characters."
   ]
  },
  {
   "cell_type": "code",
   "execution_count": 28,
   "metadata": {},
   "outputs": [],
   "source": [
    "non_ascii_threshold = 3\n",
    "android_english_mask = android_apps[\"app\"].apply(lambda x: num_non_ascii(x) <= non_ascii_threshold)\n",
    "ios_english_mask = ios_apps[\"track_name\"].apply(lambda x: num_non_ascii(x) <= non_ascii_threshold)"
   ]
  },
  {
   "cell_type": "code",
   "execution_count": 29,
   "metadata": {},
   "outputs": [
    {
     "data": {
      "text/plain": [
       "45"
      ]
     },
     "execution_count": 29,
     "metadata": {},
     "output_type": "execute_result"
    }
   ],
   "source": [
    "android_apps.shape[0] - android_apps.loc[android_english_mask, :].shape[0]"
   ]
  },
  {
   "cell_type": "code",
   "execution_count": 30,
   "metadata": {},
   "outputs": [
    {
     "data": {
      "text/plain": [
       "9615"
      ]
     },
     "execution_count": 30,
     "metadata": {},
     "output_type": "execute_result"
    }
   ],
   "source": [
    "android_apps.loc[android_english_mask, :].shape[0]"
   ]
  },
  {
   "cell_type": "code",
   "execution_count": 31,
   "metadata": {},
   "outputs": [
    {
     "data": {
      "text/plain": [
       "1014"
      ]
     },
     "execution_count": 31,
     "metadata": {},
     "output_type": "execute_result"
    }
   ],
   "source": [
    "ios_apps.shape[0] - ios_apps.loc[ios_english_mask, :].shape[0]"
   ]
  },
  {
   "cell_type": "code",
   "execution_count": 32,
   "metadata": {},
   "outputs": [
    {
     "data": {
      "text/plain": [
       "6181"
      ]
     },
     "execution_count": 32,
     "metadata": {},
     "output_type": "execute_result"
    }
   ],
   "source": [
    "ios_apps.loc[ios_english_mask, :].shape[0]"
   ]
  },
  {
   "cell_type": "markdown",
   "metadata": {},
   "source": [
    "This filter removed 45 apps from the Google Play Store set, and 1014 apps from the iOS App Store set, leaving us with 9615 and 6181 apps from the Google Play Store and iOS App Store, respectively. With our sets of English-language apps from each store in hand, the last step is to filter out the apps that are not free."
   ]
  },
  {
   "cell_type": "markdown",
   "metadata": {},
   "source": [
    "## Removing apps that are not free"
   ]
  },
  {
   "cell_type": "markdown",
   "metadata": {},
   "source": [
    "Isolating the free apps in each data set is a straightforward process. The Google Play Store data already contains the `type` column, which tags apps as either `Free` or `Paid`, so all we need to do is create a boolean mask to select only the apps that are tagged as `Free.`"
   ]
  },
  {
   "cell_type": "code",
   "execution_count": 33,
   "metadata": {},
   "outputs": [],
   "source": [
    "android_free_mask = android_apps[\"type\"] == \"Free\"\n",
    "android_english_free_mask = android_english_mask & android_free_mask"
   ]
  },
  {
   "cell_type": "code",
   "execution_count": 34,
   "metadata": {},
   "outputs": [
    {
     "data": {
      "text/plain": [
       "(8865, 13)"
      ]
     },
     "execution_count": 34,
     "metadata": {},
     "output_type": "execute_result"
    }
   ],
   "source": [
    "android_apps.loc[android_english_free_mask, :].shape"
   ]
  },
  {
   "cell_type": "markdown",
   "metadata": {},
   "source": [
    "As we can see, there are 8,865 free Android apps that are targeted toward English-speaking audiences. While the iOS App Store data doesn't already contain column like the `type` column from the Google Play Store data, we can still straightforwardly isolate the free iOS apps by using the `price` column. All we need to do is select the apps with a `price` value of zero."
   ]
  },
  {
   "cell_type": "code",
   "execution_count": 35,
   "metadata": {},
   "outputs": [],
   "source": [
    "ios_free_mask = ios_apps[\"price\"] == 0\n",
    "ios_english_free_mask = ios_english_mask & ios_free_mask"
   ]
  },
  {
   "cell_type": "code",
   "execution_count": 36,
   "metadata": {},
   "outputs": [
    {
     "data": {
      "text/plain": [
       "(3220, 16)"
      ]
     },
     "execution_count": 36,
     "metadata": {},
     "output_type": "execute_result"
    }
   ],
   "source": [
    "ios_apps.loc[ios_english_free_mask, :].shape"
   ]
  },
  {
   "cell_type": "markdown",
   "metadata": {},
   "source": [
    "There are 3,220 free iOS apps that are targeted toward English-speaking audiences."
   ]
  },
  {
   "cell_type": "markdown",
   "metadata": {},
   "source": [
    "# Analyzing most common apps by genre"
   ]
  },
  {
   "cell_type": "markdown",
   "metadata": {},
   "source": [
    "Now that we've done our initial data cleaning, which involved the following steps:\n",
    "\n",
    "1. Checking for and handling null values;\n",
    "2. Checking for duplicate apps and deciding which duplicates to remove;\n",
    "3. Removing apps that aren't targeted toward English-speaking audiences; and\n",
    "4. Removing apps that are not free,\n",
    "\n",
    "we can finally dive into some analysis. Our goal is to explore the most common and most popular free apps by genre, which would be relevant if we were a hypothetical app developer looking for particular kinds of apps that are likely to be profitable. We would also want our hypothetical app to have maximal reach, so we should see what kinds of apps are successful on both the Google Play Store and the iOS App Store. As a starting point for our analysis, we'll simply look for which types of apps are most common in each app store. The [`pandas.Series.value_counts()` function](https://pandas.pydata.org/docs/reference/api/pandas.Series.value_counts.html) provides a convenient way to generate frequency tables for a given column of data. We will use this function with the `category` and `genres` columns from the Google Play Store data, and with the `prime_genre` column from the iOS App Store data. Note that passing the argument `normalize = True` tells the function to provide the relative frequencies of the unique values instead of the counts."
   ]
  },
  {
   "cell_type": "code",
   "execution_count": 37,
   "metadata": {},
   "outputs": [
    {
     "data": {
      "text/plain": [
       "FAMILY                 0.189171\n",
       "GAME                   0.097236\n",
       "TOOLS                  0.084602\n",
       "BUSINESS               0.045911\n",
       "LIFESTYLE              0.039143\n",
       "PRODUCTIVITY           0.038917\n",
       "FINANCE                0.036999\n",
       "MEDICAL                0.035307\n",
       "SPORTS                 0.033954\n",
       "PERSONALIZATION        0.033164\n",
       "COMMUNICATION          0.032375\n",
       "HEALTH_AND_FITNESS     0.030795\n",
       "PHOTOGRAPHY            0.029442\n",
       "NEWS_AND_MAGAZINES     0.027975\n",
       "SOCIAL                 0.026622\n",
       "TRAVEL_AND_LOCAL       0.023350\n",
       "SHOPPING               0.022448\n",
       "BOOKS_AND_REFERENCE    0.021433\n",
       "DATING                 0.018613\n",
       "VIDEO_PLAYERS          0.017936\n",
       "MAPS_AND_NAVIGATION    0.013988\n",
       "FOOD_AND_DRINK         0.012408\n",
       "EDUCATION              0.011506\n",
       "ENTERTAINMENT          0.009588\n",
       "LIBRARIES_AND_DEMO     0.009363\n",
       "AUTO_AND_VEHICLES      0.009250\n",
       "HOUSE_AND_HOME         0.008235\n",
       "WEATHER                0.008009\n",
       "EVENTS                 0.007107\n",
       "PARENTING              0.006543\n",
       "ART_AND_DESIGN         0.006430\n",
       "COMICS                 0.006204\n",
       "BEAUTY                 0.005979\n",
       "Name: category, dtype: float64"
      ]
     },
     "execution_count": 37,
     "metadata": {},
     "output_type": "execute_result"
    }
   ],
   "source": [
    "android_apps.loc[android_english_free_mask, \"category\"].value_counts(normalize = True)"
   ]
  },
  {
   "cell_type": "markdown",
   "metadata": {},
   "source": [
    "Looking at the frequency table for the `category`, we see that the two two most common categories are \"Family\" and \"Game\". The \"Family\" category is a little nebulous, and the name in and of itself isn't particularly descriptive, but a look at the [corresponding page on the Google Play Store](https://play.google.com/store/apps/category/FAMILY) reveals this category is a mix of educational apps and games that are targeted at children. In other words, almost 30% of the free apps for English-speaking audiences in the Google Play Store set are games. The next most common categories, however, are more practical apps, such as \"Tools\", \"Business\", \"Lifestyle\", and \"Productivity\", which make up the next 20% of apps that we are looking at."
   ]
  },
  {
   "cell_type": "code",
   "execution_count": 38,
   "metadata": {},
   "outputs": [
    {
     "data": {
      "text/plain": [
       "Tools                                 0.084490\n",
       "Entertainment                         0.060688\n",
       "Education                             0.053469\n",
       "Business                              0.045911\n",
       "Lifestyle                             0.039030\n",
       "                                        ...   \n",
       "Arcade;Pretend Play                   0.000113\n",
       "Racing;Pretend Play                   0.000113\n",
       "Video Players & Editors;Creativity    0.000113\n",
       "Casual;Music & Video                  0.000113\n",
       "Tools;Education                       0.000113\n",
       "Name: genres, Length: 114, dtype: float64"
      ]
     },
     "execution_count": 38,
     "metadata": {},
     "output_type": "execute_result"
    }
   ],
   "source": [
    "android_apps.loc[android_english_free_mask, \"genres\"].value_counts(normalize = True)"
   ]
  },
  {
   "cell_type": "markdown",
   "metadata": {},
   "source": [
    "The frequency table for the `genres` column is less helpful, at least without further processing, since individual apps can be placed into more than one genre. For now, since we want more of a general overview of the free English app landscape on the Google Play Store, we will focus our attention back to the `category` column. In the future, if we want to try and extract some more granular information regarding app types, we can revisit this column and perform some further processing to make it more usable. Next, we explore the `prime_genre` column from the iOS App Store data."
   ]
  },
  {
   "cell_type": "code",
   "execution_count": 39,
   "metadata": {},
   "outputs": [
    {
     "data": {
      "text/plain": [
       "Games                0.581366\n",
       "Entertainment        0.078882\n",
       "Photo & Video        0.049689\n",
       "Education            0.036646\n",
       "Social Networking    0.032919\n",
       "Shopping             0.026087\n",
       "Utilities            0.025155\n",
       "Sports               0.021429\n",
       "Music                0.020497\n",
       "Health & Fitness     0.020186\n",
       "Productivity         0.017391\n",
       "Lifestyle            0.015839\n",
       "News                 0.013354\n",
       "Travel               0.012422\n",
       "Finance              0.011180\n",
       "Weather              0.008696\n",
       "Food & Drink         0.008075\n",
       "Reference            0.005590\n",
       "Business             0.005280\n",
       "Book                 0.004348\n",
       "Navigation           0.001863\n",
       "Medical              0.001863\n",
       "Catalogs             0.001242\n",
       "Name: prime_genre, dtype: float64"
      ]
     },
     "execution_count": 39,
     "metadata": {},
     "output_type": "execute_result"
    }
   ],
   "source": [
    "ios_apps.loc[ios_english_free_mask, \"prime_genre\"].value_counts(normalize = True)"
   ]
  },
  {
   "cell_type": "markdown",
   "metadata": {},
   "source": [
    "Among free iOS apps targeted at English-speaking audiences, the picture is very different compared to the Google Play Store apps. The most striking that stands out is how games account for almost 60% of the iOS apps we are looking at, compared to the 30% of Android apps that could be considered as games. Also of note is general prevalence of \"fun\" apps among the rest of the top five most common iOS app genres (Entertainment, Photo & Video, Social Networking) compare to the more-practical bent of the top five most common Android app categories.\n",
    "\n",
    "One important thing to note, however, is that these frequency tables only show **how common** various types of apps are. They say nothing about the **popularity** of apps within those genres. For example, there might be so many Family apps in the Google Play Store simply because they are easy and inexpensive to make, allowing them to turn a profit through sheer numbers even of none of those apps is individually particularly popular. Put another way, a large supply of a given type of app does not imply the existence of a correspondingly large demand. If we want to find out which types of apps are the most popular, we'll need to instead look at some of the other columns for a more relevant measure of popularity."
   ]
  },
  {
   "cell_type": "markdown",
   "metadata": {},
   "source": [
    "# Analyzing the most popular apps by genre"
   ]
  },
  {
   "cell_type": "markdown",
   "metadata": {},
   "source": [
    "One way of measuring the popularity of an app is to look at how many times it has been downloaded and installed. We can then compare the popularity of different types of apps by computing the mean and median number of installs for each type of app. We will use both the mean and the median to account for the possibility of potential outliers (dominant apps with huge user bases) in each category. While this is something that we can do fairly straightforwardly with the Google Play Store data, since the `installs` column provides information about the number of installs for each app, the iOS App Store data doesn't include such a column. Instead, we'll need to see if we can use some other column from the iOS App Store data as a reasonably proxy for the number of installs. Before we do that, though, we will focus our attention on the Google Play Store Data."
   ]
  },
  {
   "cell_type": "markdown",
   "metadata": {},
   "source": [
    "# Most popular Android apps by genre"
   ]
  },
  {
   "cell_type": "markdown",
   "metadata": {},
   "source": [
    "While the Google Play Store data already includes an `installs` column, there is still a bit of pre-processing that we need to do before we can fully utilize it."
   ]
  },
  {
   "cell_type": "code",
   "execution_count": 40,
   "metadata": {},
   "outputs": [
    {
     "data": {
      "text/plain": [
       "0    1,000,000,000+\n",
       "1    1,000,000,000+\n",
       "2    1,000,000,000+\n",
       "3    1,000,000,000+\n",
       "4      100,000,000+\n",
       "Name: installs, dtype: object"
      ]
     },
     "execution_count": 40,
     "metadata": {},
     "output_type": "execute_result"
    }
   ],
   "source": [
    "android_apps[\"installs\"].head()"
   ]
  },
  {
   "cell_type": "markdown",
   "metadata": {},
   "source": [
    " Right now the `installs` column is stored as the [`object` data type](https://pandas.pydata.org/pandas-docs/stable/user_guide/basics.html#dtypes), which is the most general data type that pandas can use to accommodate columns which contain multiple data types. Looking at the output from the `unique()` function tells us that this is due to the fact the column contains strings which are used to represent numerical ranges."
   ]
  },
  {
   "cell_type": "code",
   "execution_count": 41,
   "metadata": {},
   "outputs": [
    {
     "data": {
      "text/plain": [
       "array(['1,000,000,000+', '100,000,000+', '500,000,000+', '50,000,000+',\n",
       "       '10,000,000+', '5,000,000+', '1,000,000+', '500,000+', '100,000+',\n",
       "       '50,000+', '10,000+', '5,000+', '1,000+', '500+', '100+', '10+',\n",
       "       '50+', '5+', '1+', '0+', '0'], dtype=object)"
      ]
     },
     "execution_count": 41,
     "metadata": {},
     "output_type": "execute_result"
    }
   ],
   "source": [
    "android_apps[\"installs\"].unique()"
   ]
  },
  {
   "cell_type": "markdown",
   "metadata": {},
   "source": [
    "We also see that the values in the `installs` column aren't exact numbers of installs. Instead, they are order-of-magnitude estimates such as 100+ install or 1,000,000+ installs. This is important to note, since an app with an `installs` value of 1,000,000+ could have anywhere from as few as exactly 1,000,000 istalls to as many as 4,999,999 installs. However, since we are trying to examine overall popularity trends for various app genres, this data is sufficient for our purposes. \n",
    "\n",
    "In order to perform computations with this column, we will need to convert the strings into integers. To do so, we will assume that the number of installs for each app will be at the bottom of the range indicated by the value in the `installs` column. For example, we will simply convert a value of 100+ to just 100. This conversion will happen in two steps. First, we use the [`pandas.Series.str.replace()` function](https://pandas.pydata.org/pandas-docs/stable/reference/api/pandas.Series.str.replace.html#pandas.Series.str.replace) to strip out all of the \"+\" and \",\" characters that occur. The second step is to use the [`pandas.to_numeric()` function](https://pandas.pydata.org/pandas-docs/stable/reference/api/pandas.to_numeric.html#pandas.to_numeric) to convert those values from strings to a numeric data type (either ints or floats depending on the context). We will then replace the original `installs` column with the converted version."
   ]
  },
  {
   "cell_type": "code",
   "execution_count": 42,
   "metadata": {},
   "outputs": [],
   "source": [
    "android_apps[\"installs\"] = pd.to_numeric(android_apps[\"installs\"].str.replace(r\"[,\\+]\", \"\"))"
   ]
  },
  {
   "cell_type": "code",
   "execution_count": 43,
   "metadata": {},
   "outputs": [
    {
     "data": {
      "text/plain": [
       "0       1000000000\n",
       "1       1000000000\n",
       "2       1000000000\n",
       "3       1000000000\n",
       "4        100000000\n",
       "           ...    \n",
       "9655            10\n",
       "9656            10\n",
       "9657             1\n",
       "9658             1\n",
       "9659          1000\n",
       "Name: installs, Length: 9660, dtype: int64"
      ]
     },
     "execution_count": 43,
     "metadata": {},
     "output_type": "execute_result"
    }
   ],
   "source": [
    "android_apps[\"installs\"]"
   ]
  },
  {
   "cell_type": "markdown",
   "metadata": {},
   "source": [
    "Now that we have converted the `installs` column from strings to integers, we use the [`pandas.DataFrame.pivot_table()` function](https://pandas.pydata.org/pandas-docs/stable/reference/api/pandas.DataFrame.pivot_table.html) to aggregate the install numbers by category and produce a pivot table with the mean, standard deviation, and median number of installs for each category. We'll focus on the top ten categories with the highest mean number of installs, and we also make use of the [`round()` function](https://pandas.pydata.org/pandas-docs/stable/reference/api/pandas.DataFrame.round.html#pandas.DataFrame.round) to help us focus on the general orders of magnitude among the means and standard deviations."
   ]
  },
  {
   "cell_type": "code",
   "execution_count": 44,
   "metadata": {},
   "outputs": [],
   "source": [
    "android_installs_pivot_table = android_apps.loc[android_english_free_mask, :].pivot_table(values = \"installs\", index = \"category\", aggfunc = [np.mean, np.std, np.median])"
   ]
  },
  {
   "cell_type": "code",
   "execution_count": 45,
   "metadata": {},
   "outputs": [
    {
     "data": {
      "text/html": [
       "<div>\n",
       "<style scoped>\n",
       "    .dataframe tbody tr th:only-of-type {\n",
       "        vertical-align: middle;\n",
       "    }\n",
       "\n",
       "    .dataframe tbody tr th {\n",
       "        vertical-align: top;\n",
       "    }\n",
       "\n",
       "    .dataframe thead tr th {\n",
       "        text-align: left;\n",
       "    }\n",
       "\n",
       "    .dataframe thead tr:last-of-type th {\n",
       "        text-align: right;\n",
       "    }\n",
       "</style>\n",
       "<table border=\"1\" class=\"dataframe\">\n",
       "  <thead>\n",
       "    <tr>\n",
       "      <th></th>\n",
       "      <th>mean</th>\n",
       "      <th>std</th>\n",
       "      <th>median</th>\n",
       "    </tr>\n",
       "    <tr>\n",
       "      <th></th>\n",
       "      <th>installs</th>\n",
       "      <th>installs</th>\n",
       "      <th>installs</th>\n",
       "    </tr>\n",
       "    <tr>\n",
       "      <th>category</th>\n",
       "      <th></th>\n",
       "      <th></th>\n",
       "      <th></th>\n",
       "    </tr>\n",
       "  </thead>\n",
       "  <tbody>\n",
       "    <tr>\n",
       "      <th>COMMUNICATION</th>\n",
       "      <td>38460000.0</td>\n",
       "      <td>156540000.0</td>\n",
       "      <td>500000</td>\n",
       "    </tr>\n",
       "    <tr>\n",
       "      <th>VIDEO_PLAYERS</th>\n",
       "      <td>24730000.0</td>\n",
       "      <td>119080000.0</td>\n",
       "      <td>1000000</td>\n",
       "    </tr>\n",
       "    <tr>\n",
       "      <th>SOCIAL</th>\n",
       "      <td>23250000.0</td>\n",
       "      <td>121490000.0</td>\n",
       "      <td>100000</td>\n",
       "    </tr>\n",
       "    <tr>\n",
       "      <th>PHOTOGRAPHY</th>\n",
       "      <td>17840000.0</td>\n",
       "      <td>66750000.0</td>\n",
       "      <td>1000000</td>\n",
       "    </tr>\n",
       "    <tr>\n",
       "      <th>PRODUCTIVITY</th>\n",
       "      <td>16790000.0</td>\n",
       "      <td>78220000.0</td>\n",
       "      <td>100000</td>\n",
       "    </tr>\n",
       "    <tr>\n",
       "      <th>GAME</th>\n",
       "      <td>15590000.0</td>\n",
       "      <td>53680000.0</td>\n",
       "      <td>1000000</td>\n",
       "    </tr>\n",
       "    <tr>\n",
       "      <th>TRAVEL_AND_LOCAL</th>\n",
       "      <td>13980000.0</td>\n",
       "      <td>98590000.0</td>\n",
       "      <td>100000</td>\n",
       "    </tr>\n",
       "    <tr>\n",
       "      <th>ENTERTAINMENT</th>\n",
       "      <td>11640000.0</td>\n",
       "      <td>24590000.0</td>\n",
       "      <td>1000000</td>\n",
       "    </tr>\n",
       "    <tr>\n",
       "      <th>TOOLS</th>\n",
       "      <td>10800000.0</td>\n",
       "      <td>57300000.0</td>\n",
       "      <td>100000</td>\n",
       "    </tr>\n",
       "    <tr>\n",
       "      <th>NEWS_AND_MAGAZINES</th>\n",
       "      <td>9550000.0</td>\n",
       "      <td>77470000.0</td>\n",
       "      <td>50000</td>\n",
       "    </tr>\n",
       "  </tbody>\n",
       "</table>\n",
       "</div>"
      ],
      "text/plain": [
       "                          mean          std   median\n",
       "                      installs     installs installs\n",
       "category                                            \n",
       "COMMUNICATION       38460000.0  156540000.0   500000\n",
       "VIDEO_PLAYERS       24730000.0  119080000.0  1000000\n",
       "SOCIAL              23250000.0  121490000.0   100000\n",
       "PHOTOGRAPHY         17840000.0   66750000.0  1000000\n",
       "PRODUCTIVITY        16790000.0   78220000.0   100000\n",
       "GAME                15590000.0   53680000.0  1000000\n",
       "TRAVEL_AND_LOCAL    13980000.0   98590000.0   100000\n",
       "ENTERTAINMENT       11640000.0   24590000.0  1000000\n",
       "TOOLS               10800000.0   57300000.0   100000\n",
       "NEWS_AND_MAGAZINES   9550000.0   77470000.0    50000"
      ]
     },
     "execution_count": 45,
     "metadata": {},
     "output_type": "execute_result"
    }
   ],
   "source": [
    "android_installs_pivot_table.sort_values(by = (\"mean\", \"installs\"), ascending = False).head(10).round(-4)"
   ]
  },
  {
   "cell_type": "markdown",
   "metadata": {},
   "source": [
    "As we can see, the Communication category has the highest mean number of installs (about 38.5 million), with Video Players (about 24.7 million) in second place and Social (about 23.3 million) in third. However, each of these categories have extremely high standard deviations: 156 million, 119 million, and 121 million, respectively, which seems to indicate that those categories each contain apps which are huge outliers in terms of popularity. In comparision, the medians for each category, which are much more resistant to outliers, are 500,000, 1,000,000, and 100,000 for Communication, Video Players, and Social, respectively. These values are much more modest in comparison to the mean values, and they provide a picture of the popularity of a typical app in each of those categories that isn't as skewed by the large outliers. An ambitious hypothetical app developer might still want to target one of those categories, since the high mean number of installs is an indicator of the large potential demand, but they would face stiff competition from the already-existing apps that dominate each category. This is especially true of the Communication and Social categories due to the extremely strong influence of [network effects](https://en.wikipedia.org/wiki/Network_effect) for the established players. It would take a lot of resources to even have a chance at competing with the most popular existing apps, and the chances of successfully doing so are slim. Before discussing an alternative strategy for how a more cautious hypothetical app developer with fewer resources at their disposal might choose a category to explore, we'll take a closer look at the top ten apps from each of the three most popular categories."
   ]
  },
  {
   "cell_type": "code",
   "execution_count": 46,
   "metadata": {},
   "outputs": [
    {
     "data": {
      "text/html": [
       "<div>\n",
       "<style scoped>\n",
       "    .dataframe tbody tr th:only-of-type {\n",
       "        vertical-align: middle;\n",
       "    }\n",
       "\n",
       "    .dataframe tbody tr th {\n",
       "        vertical-align: top;\n",
       "    }\n",
       "\n",
       "    .dataframe thead th {\n",
       "        text-align: right;\n",
       "    }\n",
       "</style>\n",
       "<table border=\"1\" class=\"dataframe\">\n",
       "  <thead>\n",
       "    <tr style=\"text-align: right;\">\n",
       "      <th></th>\n",
       "      <th>app</th>\n",
       "      <th>category</th>\n",
       "      <th>rating</th>\n",
       "      <th>reviews</th>\n",
       "      <th>size</th>\n",
       "      <th>installs</th>\n",
       "      <th>type</th>\n",
       "      <th>price</th>\n",
       "      <th>content_rating</th>\n",
       "      <th>genres</th>\n",
       "      <th>last_updated</th>\n",
       "      <th>current_ver</th>\n",
       "      <th>android_ver</th>\n",
       "    </tr>\n",
       "  </thead>\n",
       "  <tbody>\n",
       "    <tr>\n",
       "      <th>1</th>\n",
       "      <td>WhatsApp Messenger</td>\n",
       "      <td>COMMUNICATION</td>\n",
       "      <td>4.4</td>\n",
       "      <td>69119316</td>\n",
       "      <td>Varies with device</td>\n",
       "      <td>1000000000</td>\n",
       "      <td>Free</td>\n",
       "      <td>0</td>\n",
       "      <td>Everyone</td>\n",
       "      <td>Communication</td>\n",
       "      <td>August 3, 2018</td>\n",
       "      <td>Varies with device</td>\n",
       "      <td>Varies with device</td>\n",
       "    </tr>\n",
       "    <tr>\n",
       "      <th>25</th>\n",
       "      <td>Skype - free IM &amp; video calls</td>\n",
       "      <td>COMMUNICATION</td>\n",
       "      <td>4.1</td>\n",
       "      <td>10484169</td>\n",
       "      <td>Varies with device</td>\n",
       "      <td>1000000000</td>\n",
       "      <td>Free</td>\n",
       "      <td>0</td>\n",
       "      <td>Everyone</td>\n",
       "      <td>Communication</td>\n",
       "      <td>August 3, 2018</td>\n",
       "      <td>Varies with device</td>\n",
       "      <td>Varies with device</td>\n",
       "    </tr>\n",
       "    <tr>\n",
       "      <th>3</th>\n",
       "      <td>Messenger – Text and Video Chat for Free</td>\n",
       "      <td>COMMUNICATION</td>\n",
       "      <td>4</td>\n",
       "      <td>56646578</td>\n",
       "      <td>Varies with device</td>\n",
       "      <td>1000000000</td>\n",
       "      <td>Free</td>\n",
       "      <td>0</td>\n",
       "      <td>Everyone</td>\n",
       "      <td>Communication</td>\n",
       "      <td>August 1, 2018</td>\n",
       "      <td>Varies with device</td>\n",
       "      <td>Varies with device</td>\n",
       "    </tr>\n",
       "    <tr>\n",
       "      <th>93</th>\n",
       "      <td>Gmail</td>\n",
       "      <td>COMMUNICATION</td>\n",
       "      <td>4.3</td>\n",
       "      <td>4604483</td>\n",
       "      <td>Varies with device</td>\n",
       "      <td>1000000000</td>\n",
       "      <td>Free</td>\n",
       "      <td>0</td>\n",
       "      <td>Everyone</td>\n",
       "      <td>Communication</td>\n",
       "      <td>August 2, 2018</td>\n",
       "      <td>Varies with device</td>\n",
       "      <td>Varies with device</td>\n",
       "    </tr>\n",
       "    <tr>\n",
       "      <th>33</th>\n",
       "      <td>Google Chrome: Fast &amp; Secure</td>\n",
       "      <td>COMMUNICATION</td>\n",
       "      <td>4.3</td>\n",
       "      <td>9643041</td>\n",
       "      <td>Varies with device</td>\n",
       "      <td>1000000000</td>\n",
       "      <td>Free</td>\n",
       "      <td>0</td>\n",
       "      <td>Everyone</td>\n",
       "      <td>Communication</td>\n",
       "      <td>August 1, 2018</td>\n",
       "      <td>Varies with device</td>\n",
       "      <td>Varies with device</td>\n",
       "    </tr>\n",
       "    <tr>\n",
       "      <th>123</th>\n",
       "      <td>Hangouts</td>\n",
       "      <td>COMMUNICATION</td>\n",
       "      <td>4</td>\n",
       "      <td>3419513</td>\n",
       "      <td>Varies with device</td>\n",
       "      <td>1000000000</td>\n",
       "      <td>Free</td>\n",
       "      <td>0</td>\n",
       "      <td>Everyone</td>\n",
       "      <td>Communication</td>\n",
       "      <td>July 21, 2018</td>\n",
       "      <td>Varies with device</td>\n",
       "      <td>Varies with device</td>\n",
       "    </tr>\n",
       "    <tr>\n",
       "      <th>23</th>\n",
       "      <td>LINE: Free Calls &amp; Messages</td>\n",
       "      <td>COMMUNICATION</td>\n",
       "      <td>4.2</td>\n",
       "      <td>10790289</td>\n",
       "      <td>Varies with device</td>\n",
       "      <td>500000000</td>\n",
       "      <td>Free</td>\n",
       "      <td>0</td>\n",
       "      <td>Everyone</td>\n",
       "      <td>Communication</td>\n",
       "      <td>July 26, 2018</td>\n",
       "      <td>Varies with device</td>\n",
       "      <td>Varies with device</td>\n",
       "    </tr>\n",
       "    <tr>\n",
       "      <th>20</th>\n",
       "      <td>Viber Messenger</td>\n",
       "      <td>COMMUNICATION</td>\n",
       "      <td>4.3</td>\n",
       "      <td>11335481</td>\n",
       "      <td>Varies with device</td>\n",
       "      <td>500000000</td>\n",
       "      <td>Free</td>\n",
       "      <td>0</td>\n",
       "      <td>Everyone</td>\n",
       "      <td>Communication</td>\n",
       "      <td>July 18, 2018</td>\n",
       "      <td>Varies with device</td>\n",
       "      <td>Varies with device</td>\n",
       "    </tr>\n",
       "    <tr>\n",
       "      <th>91</th>\n",
       "      <td>imo free video calls and chat</td>\n",
       "      <td>COMMUNICATION</td>\n",
       "      <td>4.3</td>\n",
       "      <td>4785988</td>\n",
       "      <td>11M</td>\n",
       "      <td>500000000</td>\n",
       "      <td>Free</td>\n",
       "      <td>0</td>\n",
       "      <td>Everyone</td>\n",
       "      <td>Communication</td>\n",
       "      <td>June 8, 2018</td>\n",
       "      <td>9.8.000000010501</td>\n",
       "      <td>4.0 and up</td>\n",
       "    </tr>\n",
       "    <tr>\n",
       "      <th>192</th>\n",
       "      <td>Google Duo - High Quality Video Calls</td>\n",
       "      <td>COMMUNICATION</td>\n",
       "      <td>4.6</td>\n",
       "      <td>2083237</td>\n",
       "      <td>Varies with device</td>\n",
       "      <td>500000000</td>\n",
       "      <td>Free</td>\n",
       "      <td>0</td>\n",
       "      <td>Everyone</td>\n",
       "      <td>Communication</td>\n",
       "      <td>July 31, 2018</td>\n",
       "      <td>37.1.206017801.DR37_RC14</td>\n",
       "      <td>4.4 and up</td>\n",
       "    </tr>\n",
       "  </tbody>\n",
       "</table>\n",
       "</div>"
      ],
      "text/plain": [
       "                                          app       category rating   reviews  \\\n",
       "1                          WhatsApp Messenger  COMMUNICATION    4.4  69119316   \n",
       "25              Skype - free IM & video calls  COMMUNICATION    4.1  10484169   \n",
       "3    Messenger – Text and Video Chat for Free  COMMUNICATION      4  56646578   \n",
       "93                                      Gmail  COMMUNICATION    4.3   4604483   \n",
       "33               Google Chrome: Fast & Secure  COMMUNICATION    4.3   9643041   \n",
       "123                                  Hangouts  COMMUNICATION      4   3419513   \n",
       "23                LINE: Free Calls & Messages  COMMUNICATION    4.2  10790289   \n",
       "20                            Viber Messenger  COMMUNICATION    4.3  11335481   \n",
       "91              imo free video calls and chat  COMMUNICATION    4.3   4785988   \n",
       "192     Google Duo - High Quality Video Calls  COMMUNICATION    4.6   2083237   \n",
       "\n",
       "                   size    installs  type price content_rating         genres  \\\n",
       "1    Varies with device  1000000000  Free     0       Everyone  Communication   \n",
       "25   Varies with device  1000000000  Free     0       Everyone  Communication   \n",
       "3    Varies with device  1000000000  Free     0       Everyone  Communication   \n",
       "93   Varies with device  1000000000  Free     0       Everyone  Communication   \n",
       "33   Varies with device  1000000000  Free     0       Everyone  Communication   \n",
       "123  Varies with device  1000000000  Free     0       Everyone  Communication   \n",
       "23   Varies with device   500000000  Free     0       Everyone  Communication   \n",
       "20   Varies with device   500000000  Free     0       Everyone  Communication   \n",
       "91                  11M   500000000  Free     0       Everyone  Communication   \n",
       "192  Varies with device   500000000  Free     0       Everyone  Communication   \n",
       "\n",
       "       last_updated               current_ver         android_ver  \n",
       "1    August 3, 2018        Varies with device  Varies with device  \n",
       "25   August 3, 2018        Varies with device  Varies with device  \n",
       "3    August 1, 2018        Varies with device  Varies with device  \n",
       "93   August 2, 2018        Varies with device  Varies with device  \n",
       "33   August 1, 2018        Varies with device  Varies with device  \n",
       "123   July 21, 2018        Varies with device  Varies with device  \n",
       "23    July 26, 2018        Varies with device  Varies with device  \n",
       "20    July 18, 2018        Varies with device  Varies with device  \n",
       "91     June 8, 2018          9.8.000000010501          4.0 and up  \n",
       "192   July 31, 2018  37.1.206017801.DR37_RC14          4.4 and up  "
      ]
     },
     "execution_count": 46,
     "metadata": {},
     "output_type": "execute_result"
    }
   ],
   "source": [
    "android_apps.loc[android_english_free_mask & (android_apps[\"category\"] == \"COMMUNICATION\")].sort_values(by = \"installs\", ascending = False).head(10)"
   ]
  },
  {
   "cell_type": "markdown",
   "metadata": {},
   "source": [
    "<font color=\"red\">Talk about the Communication category. 6 in top 10 have at least 1 billion installs, all have at least 500 million. Dominated by well-established players</font>"
   ]
  },
  {
   "cell_type": "code",
   "execution_count": 47,
   "metadata": {},
   "outputs": [
    {
     "data": {
      "text/html": [
       "<div>\n",
       "<style scoped>\n",
       "    .dataframe tbody tr th:only-of-type {\n",
       "        vertical-align: middle;\n",
       "    }\n",
       "\n",
       "    .dataframe tbody tr th {\n",
       "        vertical-align: top;\n",
       "    }\n",
       "\n",
       "    .dataframe thead th {\n",
       "        text-align: right;\n",
       "    }\n",
       "</style>\n",
       "<table border=\"1\" class=\"dataframe\">\n",
       "  <thead>\n",
       "    <tr style=\"text-align: right;\">\n",
       "      <th></th>\n",
       "      <th>app</th>\n",
       "      <th>category</th>\n",
       "      <th>rating</th>\n",
       "      <th>reviews</th>\n",
       "      <th>size</th>\n",
       "      <th>installs</th>\n",
       "      <th>type</th>\n",
       "      <th>price</th>\n",
       "      <th>content_rating</th>\n",
       "      <th>genres</th>\n",
       "      <th>last_updated</th>\n",
       "      <th>current_ver</th>\n",
       "      <th>android_ver</th>\n",
       "    </tr>\n",
       "  </thead>\n",
       "  <tbody>\n",
       "    <tr>\n",
       "      <th>7</th>\n",
       "      <td>YouTube</td>\n",
       "      <td>VIDEO_PLAYERS</td>\n",
       "      <td>4.3</td>\n",
       "      <td>25655305</td>\n",
       "      <td>Varies with device</td>\n",
       "      <td>1000000000</td>\n",
       "      <td>Free</td>\n",
       "      <td>0</td>\n",
       "      <td>Teen</td>\n",
       "      <td>Video Players &amp; Editors</td>\n",
       "      <td>August 2, 2018</td>\n",
       "      <td>Varies with device</td>\n",
       "      <td>Varies with device</td>\n",
       "    </tr>\n",
       "    <tr>\n",
       "      <th>377</th>\n",
       "      <td>Google Play Movies &amp; TV</td>\n",
       "      <td>VIDEO_PLAYERS</td>\n",
       "      <td>3.7</td>\n",
       "      <td>906384</td>\n",
       "      <td>Varies with device</td>\n",
       "      <td>1000000000</td>\n",
       "      <td>Free</td>\n",
       "      <td>0</td>\n",
       "      <td>Teen</td>\n",
       "      <td>Video Players &amp; Editors</td>\n",
       "      <td>August 6, 2018</td>\n",
       "      <td>Varies with device</td>\n",
       "      <td>Varies with device</td>\n",
       "    </tr>\n",
       "    <tr>\n",
       "      <th>53</th>\n",
       "      <td>MX Player</td>\n",
       "      <td>VIDEO_PLAYERS</td>\n",
       "      <td>4.5</td>\n",
       "      <td>6474672</td>\n",
       "      <td>Varies with device</td>\n",
       "      <td>500000000</td>\n",
       "      <td>Free</td>\n",
       "      <td>0</td>\n",
       "      <td>Everyone</td>\n",
       "      <td>Video Players &amp; Editors</td>\n",
       "      <td>August 6, 2018</td>\n",
       "      <td>Varies with device</td>\n",
       "      <td>Varies with device</td>\n",
       "    </tr>\n",
       "    <tr>\n",
       "      <th>339</th>\n",
       "      <td>VLC for Android</td>\n",
       "      <td>VIDEO_PLAYERS</td>\n",
       "      <td>4.4</td>\n",
       "      <td>1032076</td>\n",
       "      <td>Varies with device</td>\n",
       "      <td>100000000</td>\n",
       "      <td>Free</td>\n",
       "      <td>0</td>\n",
       "      <td>Everyone</td>\n",
       "      <td>Video Players &amp; Editors</td>\n",
       "      <td>July 30, 2018</td>\n",
       "      <td>Varies with device</td>\n",
       "      <td>2.3 and up</td>\n",
       "    </tr>\n",
       "    <tr>\n",
       "      <th>1322</th>\n",
       "      <td>Motorola Gallery</td>\n",
       "      <td>VIDEO_PLAYERS</td>\n",
       "      <td>3.9</td>\n",
       "      <td>121916</td>\n",
       "      <td>23M</td>\n",
       "      <td>100000000</td>\n",
       "      <td>Free</td>\n",
       "      <td>0</td>\n",
       "      <td>Everyone</td>\n",
       "      <td>Video Players &amp; Editors</td>\n",
       "      <td>January 25, 2016</td>\n",
       "      <td>Varies with device</td>\n",
       "      <td>Varies with device</td>\n",
       "    </tr>\n",
       "    <tr>\n",
       "      <th>1883</th>\n",
       "      <td>Motorola FM Radio</td>\n",
       "      <td>VIDEO_PLAYERS</td>\n",
       "      <td>3.9</td>\n",
       "      <td>54815</td>\n",
       "      <td>Varies with device</td>\n",
       "      <td>100000000</td>\n",
       "      <td>Free</td>\n",
       "      <td>0</td>\n",
       "      <td>Everyone</td>\n",
       "      <td>Video Players &amp; Editors</td>\n",
       "      <td>May 2, 2018</td>\n",
       "      <td>Varies with device</td>\n",
       "      <td>Varies with device</td>\n",
       "    </tr>\n",
       "    <tr>\n",
       "      <th>32</th>\n",
       "      <td>VivaVideo - Video Editor &amp; Photo Movie</td>\n",
       "      <td>VIDEO_PLAYERS</td>\n",
       "      <td>4.6</td>\n",
       "      <td>9879473</td>\n",
       "      <td>40M</td>\n",
       "      <td>100000000</td>\n",
       "      <td>Free</td>\n",
       "      <td>0</td>\n",
       "      <td>Teen</td>\n",
       "      <td>Video Players &amp; Editors</td>\n",
       "      <td>August 4, 2018</td>\n",
       "      <td>7.2.1</td>\n",
       "      <td>4.1 and up</td>\n",
       "    </tr>\n",
       "    <tr>\n",
       "      <th>196</th>\n",
       "      <td>Dubsmash</td>\n",
       "      <td>VIDEO_PLAYERS</td>\n",
       "      <td>4.2</td>\n",
       "      <td>1971777</td>\n",
       "      <td>29M</td>\n",
       "      <td>100000000</td>\n",
       "      <td>Free</td>\n",
       "      <td>0</td>\n",
       "      <td>Teen</td>\n",
       "      <td>Video Players &amp; Editors</td>\n",
       "      <td>May 11, 2018</td>\n",
       "      <td>2.35.8</td>\n",
       "      <td>4.1 and up</td>\n",
       "    </tr>\n",
       "    <tr>\n",
       "      <th>108</th>\n",
       "      <td>VideoShow-Video Editor, Video Maker, Beauty Ca...</td>\n",
       "      <td>VIDEO_PLAYERS</td>\n",
       "      <td>4.6</td>\n",
       "      <td>4016834</td>\n",
       "      <td>Varies with device</td>\n",
       "      <td>100000000</td>\n",
       "      <td>Free</td>\n",
       "      <td>0</td>\n",
       "      <td>Everyone</td>\n",
       "      <td>Video Players &amp; Editors</td>\n",
       "      <td>July 23, 2018</td>\n",
       "      <td>Varies with device</td>\n",
       "      <td>Varies with device</td>\n",
       "    </tr>\n",
       "    <tr>\n",
       "      <th>221</th>\n",
       "      <td>Vigo Video</td>\n",
       "      <td>VIDEO_PLAYERS</td>\n",
       "      <td>4.3</td>\n",
       "      <td>1615596</td>\n",
       "      <td>Varies with device</td>\n",
       "      <td>50000000</td>\n",
       "      <td>Free</td>\n",
       "      <td>0</td>\n",
       "      <td>Teen</td>\n",
       "      <td>Video Players &amp; Editors</td>\n",
       "      <td>August 3, 2018</td>\n",
       "      <td>Varies with device</td>\n",
       "      <td>4.0.3 and up</td>\n",
       "    </tr>\n",
       "  </tbody>\n",
       "</table>\n",
       "</div>"
      ],
      "text/plain": [
       "                                                    app       category rating  \\\n",
       "7                                               YouTube  VIDEO_PLAYERS    4.3   \n",
       "377                             Google Play Movies & TV  VIDEO_PLAYERS    3.7   \n",
       "53                                            MX Player  VIDEO_PLAYERS    4.5   \n",
       "339                                     VLC for Android  VIDEO_PLAYERS    4.4   \n",
       "1322                                   Motorola Gallery  VIDEO_PLAYERS    3.9   \n",
       "1883                                  Motorola FM Radio  VIDEO_PLAYERS    3.9   \n",
       "32               VivaVideo - Video Editor & Photo Movie  VIDEO_PLAYERS    4.6   \n",
       "196                                            Dubsmash  VIDEO_PLAYERS    4.2   \n",
       "108   VideoShow-Video Editor, Video Maker, Beauty Ca...  VIDEO_PLAYERS    4.6   \n",
       "221                                          Vigo Video  VIDEO_PLAYERS    4.3   \n",
       "\n",
       "       reviews                size    installs  type price content_rating  \\\n",
       "7     25655305  Varies with device  1000000000  Free     0           Teen   \n",
       "377     906384  Varies with device  1000000000  Free     0           Teen   \n",
       "53     6474672  Varies with device   500000000  Free     0       Everyone   \n",
       "339    1032076  Varies with device   100000000  Free     0       Everyone   \n",
       "1322    121916                 23M   100000000  Free     0       Everyone   \n",
       "1883     54815  Varies with device   100000000  Free     0       Everyone   \n",
       "32     9879473                 40M   100000000  Free     0           Teen   \n",
       "196    1971777                 29M   100000000  Free     0           Teen   \n",
       "108    4016834  Varies with device   100000000  Free     0       Everyone   \n",
       "221    1615596  Varies with device    50000000  Free     0           Teen   \n",
       "\n",
       "                       genres      last_updated         current_ver  \\\n",
       "7     Video Players & Editors    August 2, 2018  Varies with device   \n",
       "377   Video Players & Editors    August 6, 2018  Varies with device   \n",
       "53    Video Players & Editors    August 6, 2018  Varies with device   \n",
       "339   Video Players & Editors     July 30, 2018  Varies with device   \n",
       "1322  Video Players & Editors  January 25, 2016  Varies with device   \n",
       "1883  Video Players & Editors       May 2, 2018  Varies with device   \n",
       "32    Video Players & Editors    August 4, 2018               7.2.1   \n",
       "196   Video Players & Editors      May 11, 2018              2.35.8   \n",
       "108   Video Players & Editors     July 23, 2018  Varies with device   \n",
       "221   Video Players & Editors    August 3, 2018  Varies with device   \n",
       "\n",
       "             android_ver  \n",
       "7     Varies with device  \n",
       "377   Varies with device  \n",
       "53    Varies with device  \n",
       "339           2.3 and up  \n",
       "1322  Varies with device  \n",
       "1883  Varies with device  \n",
       "32            4.1 and up  \n",
       "196           4.1 and up  \n",
       "108   Varies with device  \n",
       "221         4.0.3 and up  "
      ]
     },
     "execution_count": 47,
     "metadata": {},
     "output_type": "execute_result"
    }
   ],
   "source": [
    "android_apps.loc[android_english_free_mask & (android_apps[\"category\"] == \"VIDEO_PLAYERS\")].sort_values(by = \"installs\", ascending = False).head(10)"
   ]
  },
  {
   "cell_type": "markdown",
   "metadata": {},
   "source": [
    "<font color=\"red\">Talk about the Video Players category. Top 2 have at least a billion installs and are very dominant. Google-owned, so probably installed by default on most Android phones.</font>"
   ]
  },
  {
   "cell_type": "code",
   "execution_count": 48,
   "metadata": {},
   "outputs": [
    {
     "data": {
      "text/html": [
       "<div>\n",
       "<style scoped>\n",
       "    .dataframe tbody tr th:only-of-type {\n",
       "        vertical-align: middle;\n",
       "    }\n",
       "\n",
       "    .dataframe tbody tr th {\n",
       "        vertical-align: top;\n",
       "    }\n",
       "\n",
       "    .dataframe thead th {\n",
       "        text-align: right;\n",
       "    }\n",
       "</style>\n",
       "<table border=\"1\" class=\"dataframe\">\n",
       "  <thead>\n",
       "    <tr style=\"text-align: right;\">\n",
       "      <th></th>\n",
       "      <th>app</th>\n",
       "      <th>category</th>\n",
       "      <th>rating</th>\n",
       "      <th>reviews</th>\n",
       "      <th>size</th>\n",
       "      <th>installs</th>\n",
       "      <th>type</th>\n",
       "      <th>price</th>\n",
       "      <th>content_rating</th>\n",
       "      <th>genres</th>\n",
       "      <th>last_updated</th>\n",
       "      <th>current_ver</th>\n",
       "      <th>android_ver</th>\n",
       "    </tr>\n",
       "  </thead>\n",
       "  <tbody>\n",
       "    <tr>\n",
       "      <th>0</th>\n",
       "      <td>Facebook</td>\n",
       "      <td>SOCIAL</td>\n",
       "      <td>4.1</td>\n",
       "      <td>78158306</td>\n",
       "      <td>Varies with device</td>\n",
       "      <td>1000000000</td>\n",
       "      <td>Free</td>\n",
       "      <td>0</td>\n",
       "      <td>Teen</td>\n",
       "      <td>Social</td>\n",
       "      <td>August 3, 2018</td>\n",
       "      <td>Varies with device</td>\n",
       "      <td>Varies with device</td>\n",
       "    </tr>\n",
       "    <tr>\n",
       "      <th>89</th>\n",
       "      <td>Google+</td>\n",
       "      <td>SOCIAL</td>\n",
       "      <td>4.2</td>\n",
       "      <td>4831125</td>\n",
       "      <td>Varies with device</td>\n",
       "      <td>1000000000</td>\n",
       "      <td>Free</td>\n",
       "      <td>0</td>\n",
       "      <td>Teen</td>\n",
       "      <td>Social</td>\n",
       "      <td>July 26, 2018</td>\n",
       "      <td>Varies with device</td>\n",
       "      <td>Varies with device</td>\n",
       "    </tr>\n",
       "    <tr>\n",
       "      <th>2</th>\n",
       "      <td>Instagram</td>\n",
       "      <td>SOCIAL</td>\n",
       "      <td>4.5</td>\n",
       "      <td>66577446</td>\n",
       "      <td>Varies with device</td>\n",
       "      <td>1000000000</td>\n",
       "      <td>Free</td>\n",
       "      <td>0</td>\n",
       "      <td>Teen</td>\n",
       "      <td>Social</td>\n",
       "      <td>July 31, 2018</td>\n",
       "      <td>Varies with device</td>\n",
       "      <td>Varies with device</td>\n",
       "    </tr>\n",
       "    <tr>\n",
       "      <th>12</th>\n",
       "      <td>Snapchat</td>\n",
       "      <td>SOCIAL</td>\n",
       "      <td>4</td>\n",
       "      <td>17015352</td>\n",
       "      <td>Varies with device</td>\n",
       "      <td>500000000</td>\n",
       "      <td>Free</td>\n",
       "      <td>0</td>\n",
       "      <td>Teen</td>\n",
       "      <td>Social</td>\n",
       "      <td>July 30, 2018</td>\n",
       "      <td>Varies with device</td>\n",
       "      <td>Varies with device</td>\n",
       "    </tr>\n",
       "    <tr>\n",
       "      <th>36</th>\n",
       "      <td>Facebook Lite</td>\n",
       "      <td>SOCIAL</td>\n",
       "      <td>4.3</td>\n",
       "      <td>8606259</td>\n",
       "      <td>Varies with device</td>\n",
       "      <td>500000000</td>\n",
       "      <td>Free</td>\n",
       "      <td>0</td>\n",
       "      <td>Teen</td>\n",
       "      <td>Social</td>\n",
       "      <td>August 1, 2018</td>\n",
       "      <td>Varies with device</td>\n",
       "      <td>Varies with device</td>\n",
       "    </tr>\n",
       "    <tr>\n",
       "      <th>65</th>\n",
       "      <td>VK</td>\n",
       "      <td>SOCIAL</td>\n",
       "      <td>3.8</td>\n",
       "      <td>5793284</td>\n",
       "      <td>Varies with device</td>\n",
       "      <td>100000000</td>\n",
       "      <td>Free</td>\n",
       "      <td>0</td>\n",
       "      <td>Mature 17+</td>\n",
       "      <td>Social</td>\n",
       "      <td>August 3, 2018</td>\n",
       "      <td>Varies with device</td>\n",
       "      <td>Varies with device</td>\n",
       "    </tr>\n",
       "    <tr>\n",
       "      <th>68</th>\n",
       "      <td>Tik Tok - including musical.ly</td>\n",
       "      <td>SOCIAL</td>\n",
       "      <td>4.4</td>\n",
       "      <td>5637451</td>\n",
       "      <td>59M</td>\n",
       "      <td>100000000</td>\n",
       "      <td>Free</td>\n",
       "      <td>0</td>\n",
       "      <td>Teen</td>\n",
       "      <td>Social</td>\n",
       "      <td>August 3, 2018</td>\n",
       "      <td>8.0.0</td>\n",
       "      <td>4.1 and up</td>\n",
       "    </tr>\n",
       "    <tr>\n",
       "      <th>100</th>\n",
       "      <td>Pinterest</td>\n",
       "      <td>SOCIAL</td>\n",
       "      <td>4.6</td>\n",
       "      <td>4305441</td>\n",
       "      <td>Varies with device</td>\n",
       "      <td>100000000</td>\n",
       "      <td>Free</td>\n",
       "      <td>0</td>\n",
       "      <td>Teen</td>\n",
       "      <td>Social</td>\n",
       "      <td>August 3, 2018</td>\n",
       "      <td>Varies with device</td>\n",
       "      <td>Varies with device</td>\n",
       "    </tr>\n",
       "    <tr>\n",
       "      <th>116</th>\n",
       "      <td>Tango - Live Video Broadcast</td>\n",
       "      <td>SOCIAL</td>\n",
       "      <td>4.3</td>\n",
       "      <td>3806669</td>\n",
       "      <td>Varies with device</td>\n",
       "      <td>100000000</td>\n",
       "      <td>Free</td>\n",
       "      <td>0</td>\n",
       "      <td>Mature 17+</td>\n",
       "      <td>Social</td>\n",
       "      <td>August 1, 2018</td>\n",
       "      <td>Varies with device</td>\n",
       "      <td>Varies with device</td>\n",
       "    </tr>\n",
       "    <tr>\n",
       "      <th>117</th>\n",
       "      <td>Badoo - Free Chat &amp; Dating App</td>\n",
       "      <td>SOCIAL</td>\n",
       "      <td>4.3</td>\n",
       "      <td>3781770</td>\n",
       "      <td>Varies with device</td>\n",
       "      <td>100000000</td>\n",
       "      <td>Free</td>\n",
       "      <td>0</td>\n",
       "      <td>Mature 17+</td>\n",
       "      <td>Social</td>\n",
       "      <td>August 2, 2018</td>\n",
       "      <td>Varies with device</td>\n",
       "      <td>Varies with device</td>\n",
       "    </tr>\n",
       "  </tbody>\n",
       "</table>\n",
       "</div>"
      ],
      "text/plain": [
       "                                app category rating   reviews  \\\n",
       "0                          Facebook   SOCIAL    4.1  78158306   \n",
       "89                          Google+   SOCIAL    4.2   4831125   \n",
       "2                         Instagram   SOCIAL    4.5  66577446   \n",
       "12                         Snapchat   SOCIAL      4  17015352   \n",
       "36                    Facebook Lite   SOCIAL    4.3   8606259   \n",
       "65                               VK   SOCIAL    3.8   5793284   \n",
       "68   Tik Tok - including musical.ly   SOCIAL    4.4   5637451   \n",
       "100                       Pinterest   SOCIAL    4.6   4305441   \n",
       "116    Tango - Live Video Broadcast   SOCIAL    4.3   3806669   \n",
       "117  Badoo - Free Chat & Dating App   SOCIAL    4.3   3781770   \n",
       "\n",
       "                   size    installs  type price content_rating  genres  \\\n",
       "0    Varies with device  1000000000  Free     0           Teen  Social   \n",
       "89   Varies with device  1000000000  Free     0           Teen  Social   \n",
       "2    Varies with device  1000000000  Free     0           Teen  Social   \n",
       "12   Varies with device   500000000  Free     0           Teen  Social   \n",
       "36   Varies with device   500000000  Free     0           Teen  Social   \n",
       "65   Varies with device   100000000  Free     0     Mature 17+  Social   \n",
       "68                  59M   100000000  Free     0           Teen  Social   \n",
       "100  Varies with device   100000000  Free     0           Teen  Social   \n",
       "116  Varies with device   100000000  Free     0     Mature 17+  Social   \n",
       "117  Varies with device   100000000  Free     0     Mature 17+  Social   \n",
       "\n",
       "       last_updated         current_ver         android_ver  \n",
       "0    August 3, 2018  Varies with device  Varies with device  \n",
       "89    July 26, 2018  Varies with device  Varies with device  \n",
       "2     July 31, 2018  Varies with device  Varies with device  \n",
       "12    July 30, 2018  Varies with device  Varies with device  \n",
       "36   August 1, 2018  Varies with device  Varies with device  \n",
       "65   August 3, 2018  Varies with device  Varies with device  \n",
       "68   August 3, 2018               8.0.0          4.1 and up  \n",
       "100  August 3, 2018  Varies with device  Varies with device  \n",
       "116  August 1, 2018  Varies with device  Varies with device  \n",
       "117  August 2, 2018  Varies with device  Varies with device  "
      ]
     },
     "execution_count": 48,
     "metadata": {},
     "output_type": "execute_result"
    }
   ],
   "source": [
    "android_apps.loc[android_english_free_mask & (android_apps[\"category\"] == \"SOCIAL\")].sort_values(by = \"installs\", ascending = False).head(10)"
   ]
  },
  {
   "cell_type": "markdown",
   "metadata": {},
   "source": [
    "<font color=\"red\">Talk about the Social category. Dominated by Facebook, which also owns Instagram. Note that Google Plus is now dead -- probably had high install numbers as a default Android app for most phones.</font>"
   ]
  },
  {
   "cell_type": "markdown",
   "metadata": {},
   "source": [
    "<font color=\"red\">Talk about the reasoning for sorting categories with highest median and lowest standard deviation.</font>"
   ]
  },
  {
   "cell_type": "code",
   "execution_count": 49,
   "metadata": {},
   "outputs": [
    {
     "data": {
      "text/html": [
       "<div>\n",
       "<style scoped>\n",
       "    .dataframe tbody tr th:only-of-type {\n",
       "        vertical-align: middle;\n",
       "    }\n",
       "\n",
       "    .dataframe tbody tr th {\n",
       "        vertical-align: top;\n",
       "    }\n",
       "\n",
       "    .dataframe thead tr th {\n",
       "        text-align: left;\n",
       "    }\n",
       "\n",
       "    .dataframe thead tr:last-of-type th {\n",
       "        text-align: right;\n",
       "    }\n",
       "</style>\n",
       "<table border=\"1\" class=\"dataframe\">\n",
       "  <thead>\n",
       "    <tr>\n",
       "      <th></th>\n",
       "      <th>mean</th>\n",
       "      <th>std</th>\n",
       "      <th>median</th>\n",
       "    </tr>\n",
       "    <tr>\n",
       "      <th></th>\n",
       "      <th>installs</th>\n",
       "      <th>installs</th>\n",
       "      <th>installs</th>\n",
       "    </tr>\n",
       "    <tr>\n",
       "      <th>category</th>\n",
       "      <th></th>\n",
       "      <th></th>\n",
       "      <th></th>\n",
       "    </tr>\n",
       "  </thead>\n",
       "  <tbody>\n",
       "    <tr>\n",
       "      <th>EDUCATION</th>\n",
       "      <td>1840000.0</td>\n",
       "      <td>2810000.0</td>\n",
       "      <td>1000000</td>\n",
       "    </tr>\n",
       "    <tr>\n",
       "      <th>WEATHER</th>\n",
       "      <td>5070000.0</td>\n",
       "      <td>11570000.0</td>\n",
       "      <td>1000000</td>\n",
       "    </tr>\n",
       "    <tr>\n",
       "      <th>SHOPPING</th>\n",
       "      <td>7040000.0</td>\n",
       "      <td>17730000.0</td>\n",
       "      <td>1000000</td>\n",
       "    </tr>\n",
       "    <tr>\n",
       "      <th>ENTERTAINMENT</th>\n",
       "      <td>11640000.0</td>\n",
       "      <td>24590000.0</td>\n",
       "      <td>1000000</td>\n",
       "    </tr>\n",
       "    <tr>\n",
       "      <th>GAME</th>\n",
       "      <td>15590000.0</td>\n",
       "      <td>53680000.0</td>\n",
       "      <td>1000000</td>\n",
       "    </tr>\n",
       "    <tr>\n",
       "      <th>PHOTOGRAPHY</th>\n",
       "      <td>17840000.0</td>\n",
       "      <td>66750000.0</td>\n",
       "      <td>1000000</td>\n",
       "    </tr>\n",
       "    <tr>\n",
       "      <th>VIDEO_PLAYERS</th>\n",
       "      <td>24730000.0</td>\n",
       "      <td>119080000.0</td>\n",
       "      <td>1000000</td>\n",
       "    </tr>\n",
       "    <tr>\n",
       "      <th>HOUSE_AND_HOME</th>\n",
       "      <td>1330000.0</td>\n",
       "      <td>2620000.0</td>\n",
       "      <td>500000</td>\n",
       "    </tr>\n",
       "    <tr>\n",
       "      <th>FOOD_AND_DRINK</th>\n",
       "      <td>1920000.0</td>\n",
       "      <td>3280000.0</td>\n",
       "      <td>500000</td>\n",
       "    </tr>\n",
       "    <tr>\n",
       "      <th>HEALTH_AND_FITNESS</th>\n",
       "      <td>4190000.0</td>\n",
       "      <td>31000000.0</td>\n",
       "      <td>500000</td>\n",
       "    </tr>\n",
       "  </tbody>\n",
       "</table>\n",
       "</div>"
      ],
      "text/plain": [
       "                          mean          std   median\n",
       "                      installs     installs installs\n",
       "category                                            \n",
       "EDUCATION            1840000.0    2810000.0  1000000\n",
       "WEATHER              5070000.0   11570000.0  1000000\n",
       "SHOPPING             7040000.0   17730000.0  1000000\n",
       "ENTERTAINMENT       11640000.0   24590000.0  1000000\n",
       "GAME                15590000.0   53680000.0  1000000\n",
       "PHOTOGRAPHY         17840000.0   66750000.0  1000000\n",
       "VIDEO_PLAYERS       24730000.0  119080000.0  1000000\n",
       "HOUSE_AND_HOME       1330000.0    2620000.0   500000\n",
       "FOOD_AND_DRINK       1920000.0    3280000.0   500000\n",
       "HEALTH_AND_FITNESS   4190000.0   31000000.0   500000"
      ]
     },
     "execution_count": 49,
     "metadata": {},
     "output_type": "execute_result"
    }
   ],
   "source": [
    "android_installs_pivot_table.sort_values(by = [(\"median\", \"installs\"), (\"std\", \"installs\")], ascending = [False, True]).head(10).round(-4)"
   ]
  },
  {
   "cell_type": "markdown",
   "metadata": {},
   "source": [
    "<font color=\"red\">Talk about the top 3-5 categories when sorted by median (descending) and standard deviation (ascending).</font>"
   ]
  },
  {
   "cell_type": "code",
   "execution_count": 50,
   "metadata": {},
   "outputs": [
    {
     "data": {
      "text/html": [
       "<div>\n",
       "<style scoped>\n",
       "    .dataframe tbody tr th:only-of-type {\n",
       "        vertical-align: middle;\n",
       "    }\n",
       "\n",
       "    .dataframe tbody tr th {\n",
       "        vertical-align: top;\n",
       "    }\n",
       "\n",
       "    .dataframe thead th {\n",
       "        text-align: right;\n",
       "    }\n",
       "</style>\n",
       "<table border=\"1\" class=\"dataframe\">\n",
       "  <thead>\n",
       "    <tr style=\"text-align: right;\">\n",
       "      <th></th>\n",
       "      <th>app</th>\n",
       "      <th>category</th>\n",
       "      <th>rating</th>\n",
       "      <th>reviews</th>\n",
       "      <th>size</th>\n",
       "      <th>installs</th>\n",
       "      <th>type</th>\n",
       "      <th>price</th>\n",
       "      <th>content_rating</th>\n",
       "      <th>genres</th>\n",
       "      <th>last_updated</th>\n",
       "      <th>current_ver</th>\n",
       "      <th>android_ver</th>\n",
       "    </tr>\n",
       "  </thead>\n",
       "  <tbody>\n",
       "    <tr>\n",
       "      <th>320</th>\n",
       "      <td>Learn languages, grammar &amp; vocabulary with Mem...</td>\n",
       "      <td>EDUCATION</td>\n",
       "      <td>4.7</td>\n",
       "      <td>1107948</td>\n",
       "      <td>Varies with device</td>\n",
       "      <td>10000000</td>\n",
       "      <td>Free</td>\n",
       "      <td>0</td>\n",
       "      <td>Everyone</td>\n",
       "      <td>Education</td>\n",
       "      <td>August 2, 2018</td>\n",
       "      <td>Varies with device</td>\n",
       "      <td>Varies with device</td>\n",
       "    </tr>\n",
       "    <tr>\n",
       "      <th>1395</th>\n",
       "      <td>Remind: School Communication</td>\n",
       "      <td>EDUCATION</td>\n",
       "      <td>4.5</td>\n",
       "      <td>108613</td>\n",
       "      <td>Varies with device</td>\n",
       "      <td>10000000</td>\n",
       "      <td>Free</td>\n",
       "      <td>0</td>\n",
       "      <td>Everyone</td>\n",
       "      <td>Education</td>\n",
       "      <td>August 3, 2018</td>\n",
       "      <td>Varies with device</td>\n",
       "      <td>Varies with device</td>\n",
       "    </tr>\n",
       "    <tr>\n",
       "      <th>781</th>\n",
       "      <td>Learn English with Wlingua</td>\n",
       "      <td>EDUCATION</td>\n",
       "      <td>4.7</td>\n",
       "      <td>314300</td>\n",
       "      <td>3.3M</td>\n",
       "      <td>10000000</td>\n",
       "      <td>Free</td>\n",
       "      <td>0</td>\n",
       "      <td>Everyone</td>\n",
       "      <td>Education</td>\n",
       "      <td>May 2, 2018</td>\n",
       "      <td>1.94.9</td>\n",
       "      <td>4.0 and up</td>\n",
       "    </tr>\n",
       "    <tr>\n",
       "      <th>741</th>\n",
       "      <td>Math Tricks</td>\n",
       "      <td>EDUCATION</td>\n",
       "      <td>4.5</td>\n",
       "      <td>342918</td>\n",
       "      <td>8.1M</td>\n",
       "      <td>10000000</td>\n",
       "      <td>Free</td>\n",
       "      <td>0</td>\n",
       "      <td>Everyone</td>\n",
       "      <td>Education</td>\n",
       "      <td>July 29, 2018</td>\n",
       "      <td>2.24</td>\n",
       "      <td>4.0 and up</td>\n",
       "    </tr>\n",
       "    <tr>\n",
       "      <th>1701</th>\n",
       "      <td>Google Classroom</td>\n",
       "      <td>EDUCATION</td>\n",
       "      <td>4.2</td>\n",
       "      <td>69498</td>\n",
       "      <td>Varies with device</td>\n",
       "      <td>10000000</td>\n",
       "      <td>Free</td>\n",
       "      <td>0</td>\n",
       "      <td>Everyone</td>\n",
       "      <td>Education</td>\n",
       "      <td>July 19, 2018</td>\n",
       "      <td>Varies with device</td>\n",
       "      <td>Varies with device</td>\n",
       "    </tr>\n",
       "    <tr>\n",
       "      <th>987</th>\n",
       "      <td>Lumosity: #1 Brain Games &amp; Cognitive Training App</td>\n",
       "      <td>EDUCATION</td>\n",
       "      <td>4.2</td>\n",
       "      <td>215301</td>\n",
       "      <td>Varies with device</td>\n",
       "      <td>10000000</td>\n",
       "      <td>Free</td>\n",
       "      <td>0</td>\n",
       "      <td>Everyone</td>\n",
       "      <td>Education</td>\n",
       "      <td>August 1, 2018</td>\n",
       "      <td>Varies with device</td>\n",
       "      <td>Varies with device</td>\n",
       "    </tr>\n",
       "    <tr>\n",
       "      <th>997</th>\n",
       "      <td>Quizlet: Learn Languages &amp; Vocab with Flashcards</td>\n",
       "      <td>EDUCATION</td>\n",
       "      <td>4.6</td>\n",
       "      <td>211856</td>\n",
       "      <td>Varies with device</td>\n",
       "      <td>10000000</td>\n",
       "      <td>Free</td>\n",
       "      <td>0</td>\n",
       "      <td>Everyone</td>\n",
       "      <td>Education</td>\n",
       "      <td>August 1, 2018</td>\n",
       "      <td>Varies with device</td>\n",
       "      <td>Varies with device</td>\n",
       "    </tr>\n",
       "    <tr>\n",
       "      <th>1202</th>\n",
       "      <td>ClassDojo</td>\n",
       "      <td>EDUCATION</td>\n",
       "      <td>4.4</td>\n",
       "      <td>148550</td>\n",
       "      <td>59M</td>\n",
       "      <td>10000000</td>\n",
       "      <td>Free</td>\n",
       "      <td>0</td>\n",
       "      <td>Everyone</td>\n",
       "      <td>Education;Education</td>\n",
       "      <td>August 3, 2018</td>\n",
       "      <td>4.21.1</td>\n",
       "      <td>4.1 and up</td>\n",
       "    </tr>\n",
       "    <tr>\n",
       "      <th>3008</th>\n",
       "      <td>Mermaids</td>\n",
       "      <td>EDUCATION</td>\n",
       "      <td>4.2</td>\n",
       "      <td>14286</td>\n",
       "      <td>Varies with device</td>\n",
       "      <td>5000000</td>\n",
       "      <td>Free</td>\n",
       "      <td>0</td>\n",
       "      <td>Everyone</td>\n",
       "      <td>Education;Creativity</td>\n",
       "      <td>April 26, 2018</td>\n",
       "      <td>Varies with device</td>\n",
       "      <td>4.1 and up</td>\n",
       "    </tr>\n",
       "    <tr>\n",
       "      <th>1879</th>\n",
       "      <td>Learn 50 languages</td>\n",
       "      <td>EDUCATION</td>\n",
       "      <td>4.4</td>\n",
       "      <td>55256</td>\n",
       "      <td>14M</td>\n",
       "      <td>5000000</td>\n",
       "      <td>Free</td>\n",
       "      <td>0</td>\n",
       "      <td>Everyone</td>\n",
       "      <td>Education</td>\n",
       "      <td>June 19, 2018</td>\n",
       "      <td>10.9.1</td>\n",
       "      <td>4.0 and up</td>\n",
       "    </tr>\n",
       "  </tbody>\n",
       "</table>\n",
       "</div>"
      ],
      "text/plain": [
       "                                                    app   category rating  \\\n",
       "320   Learn languages, grammar & vocabulary with Mem...  EDUCATION    4.7   \n",
       "1395                       Remind: School Communication  EDUCATION    4.5   \n",
       "781                          Learn English with Wlingua  EDUCATION    4.7   \n",
       "741                                         Math Tricks  EDUCATION    4.5   \n",
       "1701                                   Google Classroom  EDUCATION    4.2   \n",
       "987   Lumosity: #1 Brain Games & Cognitive Training App  EDUCATION    4.2   \n",
       "997    Quizlet: Learn Languages & Vocab with Flashcards  EDUCATION    4.6   \n",
       "1202                                          ClassDojo  EDUCATION    4.4   \n",
       "3008                                           Mermaids  EDUCATION    4.2   \n",
       "1879                                 Learn 50 languages  EDUCATION    4.4   \n",
       "\n",
       "      reviews                size  installs  type price content_rating  \\\n",
       "320   1107948  Varies with device  10000000  Free     0       Everyone   \n",
       "1395   108613  Varies with device  10000000  Free     0       Everyone   \n",
       "781    314300                3.3M  10000000  Free     0       Everyone   \n",
       "741    342918                8.1M  10000000  Free     0       Everyone   \n",
       "1701    69498  Varies with device  10000000  Free     0       Everyone   \n",
       "987    215301  Varies with device  10000000  Free     0       Everyone   \n",
       "997    211856  Varies with device  10000000  Free     0       Everyone   \n",
       "1202   148550                 59M  10000000  Free     0       Everyone   \n",
       "3008    14286  Varies with device   5000000  Free     0       Everyone   \n",
       "1879    55256                 14M   5000000  Free     0       Everyone   \n",
       "\n",
       "                    genres    last_updated         current_ver  \\\n",
       "320              Education  August 2, 2018  Varies with device   \n",
       "1395             Education  August 3, 2018  Varies with device   \n",
       "781              Education     May 2, 2018              1.94.9   \n",
       "741              Education   July 29, 2018                2.24   \n",
       "1701             Education   July 19, 2018  Varies with device   \n",
       "987              Education  August 1, 2018  Varies with device   \n",
       "997              Education  August 1, 2018  Varies with device   \n",
       "1202   Education;Education  August 3, 2018              4.21.1   \n",
       "3008  Education;Creativity  April 26, 2018  Varies with device   \n",
       "1879             Education   June 19, 2018              10.9.1   \n",
       "\n",
       "             android_ver  \n",
       "320   Varies with device  \n",
       "1395  Varies with device  \n",
       "781           4.0 and up  \n",
       "741           4.0 and up  \n",
       "1701  Varies with device  \n",
       "987   Varies with device  \n",
       "997   Varies with device  \n",
       "1202          4.1 and up  \n",
       "3008          4.1 and up  \n",
       "1879          4.0 and up  "
      ]
     },
     "execution_count": 50,
     "metadata": {},
     "output_type": "execute_result"
    }
   ],
   "source": [
    "android_apps.loc[android_english_free_mask & (android_apps[\"category\"] == \"EDUCATION\")].sort_values(by = \"installs\", ascending = False).head(10)"
   ]
  },
  {
   "cell_type": "markdown",
   "metadata": {},
   "source": [
    "<font color=\"red\">Talk about the Education category. Could be promising for an app developer with modest resources. A lot of apps for language learning.</font>"
   ]
  },
  {
   "cell_type": "code",
   "execution_count": 51,
   "metadata": {},
   "outputs": [
    {
     "data": {
      "text/html": [
       "<div>\n",
       "<style scoped>\n",
       "    .dataframe tbody tr th:only-of-type {\n",
       "        vertical-align: middle;\n",
       "    }\n",
       "\n",
       "    .dataframe tbody tr th {\n",
       "        vertical-align: top;\n",
       "    }\n",
       "\n",
       "    .dataframe thead th {\n",
       "        text-align: right;\n",
       "    }\n",
       "</style>\n",
       "<table border=\"1\" class=\"dataframe\">\n",
       "  <thead>\n",
       "    <tr style=\"text-align: right;\">\n",
       "      <th></th>\n",
       "      <th>app</th>\n",
       "      <th>category</th>\n",
       "      <th>rating</th>\n",
       "      <th>reviews</th>\n",
       "      <th>size</th>\n",
       "      <th>installs</th>\n",
       "      <th>type</th>\n",
       "      <th>price</th>\n",
       "      <th>content_rating</th>\n",
       "      <th>genres</th>\n",
       "      <th>last_updated</th>\n",
       "      <th>current_ver</th>\n",
       "      <th>android_ver</th>\n",
       "    </tr>\n",
       "  </thead>\n",
       "  <tbody>\n",
       "    <tr>\n",
       "      <th>173</th>\n",
       "      <td>Weather &amp; Clock Widget for Android</td>\n",
       "      <td>WEATHER</td>\n",
       "      <td>4.4</td>\n",
       "      <td>2371543</td>\n",
       "      <td>11M</td>\n",
       "      <td>50000000</td>\n",
       "      <td>Free</td>\n",
       "      <td>0</td>\n",
       "      <td>Everyone</td>\n",
       "      <td>Weather</td>\n",
       "      <td>June 4, 2018</td>\n",
       "      <td>5.9.4.0</td>\n",
       "      <td>4.0.3 and up</td>\n",
       "    </tr>\n",
       "    <tr>\n",
       "      <th>229</th>\n",
       "      <td>The Weather Channel: Rain Forecast &amp; Storm Alerts</td>\n",
       "      <td>WEATHER</td>\n",
       "      <td>4.4</td>\n",
       "      <td>1558437</td>\n",
       "      <td>Varies with device</td>\n",
       "      <td>50000000</td>\n",
       "      <td>Free</td>\n",
       "      <td>0</td>\n",
       "      <td>Everyone</td>\n",
       "      <td>Weather</td>\n",
       "      <td>August 1, 2018</td>\n",
       "      <td>Varies with device</td>\n",
       "      <td>Varies with device</td>\n",
       "    </tr>\n",
       "    <tr>\n",
       "      <th>255</th>\n",
       "      <td>GO Weather - Widget, Theme, Wallpaper, Efficient</td>\n",
       "      <td>WEATHER</td>\n",
       "      <td>4.5</td>\n",
       "      <td>1422858</td>\n",
       "      <td>Varies with device</td>\n",
       "      <td>50000000</td>\n",
       "      <td>Free</td>\n",
       "      <td>0</td>\n",
       "      <td>Everyone</td>\n",
       "      <td>Weather</td>\n",
       "      <td>August 3, 2018</td>\n",
       "      <td>Varies with device</td>\n",
       "      <td>Varies with device</td>\n",
       "    </tr>\n",
       "    <tr>\n",
       "      <th>193</th>\n",
       "      <td>AccuWeather: Daily Forecast &amp; Live Weather Rep...</td>\n",
       "      <td>WEATHER</td>\n",
       "      <td>4.4</td>\n",
       "      <td>2053404</td>\n",
       "      <td>Varies with device</td>\n",
       "      <td>50000000</td>\n",
       "      <td>Free</td>\n",
       "      <td>0</td>\n",
       "      <td>Everyone</td>\n",
       "      <td>Weather</td>\n",
       "      <td>August 6, 2018</td>\n",
       "      <td>Varies with device</td>\n",
       "      <td>Varies with device</td>\n",
       "    </tr>\n",
       "    <tr>\n",
       "      <th>1057</th>\n",
       "      <td>wetter.com - Weather and Radar</td>\n",
       "      <td>WEATHER</td>\n",
       "      <td>4.2</td>\n",
       "      <td>189313</td>\n",
       "      <td>38M</td>\n",
       "      <td>10000000</td>\n",
       "      <td>Free</td>\n",
       "      <td>0</td>\n",
       "      <td>Everyone</td>\n",
       "      <td>Weather</td>\n",
       "      <td>August 6, 2018</td>\n",
       "      <td>Varies with device</td>\n",
       "      <td>Varies with device</td>\n",
       "    </tr>\n",
       "    <tr>\n",
       "      <th>2663</th>\n",
       "      <td>HTC Weather</td>\n",
       "      <td>WEATHER</td>\n",
       "      <td>3.9</td>\n",
       "      <td>22154</td>\n",
       "      <td>Varies with device</td>\n",
       "      <td>10000000</td>\n",
       "      <td>Free</td>\n",
       "      <td>0</td>\n",
       "      <td>Everyone</td>\n",
       "      <td>Weather</td>\n",
       "      <td>August 10, 2017</td>\n",
       "      <td>8.50.935520</td>\n",
       "      <td>4.4 and up</td>\n",
       "    </tr>\n",
       "    <tr>\n",
       "      <th>2804</th>\n",
       "      <td>Weather</td>\n",
       "      <td>WEATHER</td>\n",
       "      <td>4.2</td>\n",
       "      <td>18773</td>\n",
       "      <td>12M</td>\n",
       "      <td>10000000</td>\n",
       "      <td>Free</td>\n",
       "      <td>0</td>\n",
       "      <td>Everyone</td>\n",
       "      <td>Weather</td>\n",
       "      <td>May 24, 2018</td>\n",
       "      <td>1.3.A.2.9</td>\n",
       "      <td>4.4 and up</td>\n",
       "    </tr>\n",
       "    <tr>\n",
       "      <th>1085</th>\n",
       "      <td>MyRadar NOAA Weather Radar</td>\n",
       "      <td>WEATHER</td>\n",
       "      <td>4.5</td>\n",
       "      <td>178934</td>\n",
       "      <td>Varies with device</td>\n",
       "      <td>10000000</td>\n",
       "      <td>Free</td>\n",
       "      <td>0</td>\n",
       "      <td>Everyone</td>\n",
       "      <td>Weather</td>\n",
       "      <td>August 4, 2018</td>\n",
       "      <td>Varies with device</td>\n",
       "      <td>Varies with device</td>\n",
       "    </tr>\n",
       "    <tr>\n",
       "      <th>875</th>\n",
       "      <td>Amber Weather</td>\n",
       "      <td>WEATHER</td>\n",
       "      <td>4.4</td>\n",
       "      <td>260137</td>\n",
       "      <td>13M</td>\n",
       "      <td>10000000</td>\n",
       "      <td>Free</td>\n",
       "      <td>0</td>\n",
       "      <td>Everyone 10+</td>\n",
       "      <td>Weather</td>\n",
       "      <td>July 16, 2018</td>\n",
       "      <td>3.8.1</td>\n",
       "      <td>4.1 and up</td>\n",
       "    </tr>\n",
       "    <tr>\n",
       "      <th>839</th>\n",
       "      <td>Weather 14 Days</td>\n",
       "      <td>WEATHER</td>\n",
       "      <td>4.4</td>\n",
       "      <td>279917</td>\n",
       "      <td>Varies with device</td>\n",
       "      <td>10000000</td>\n",
       "      <td>Free</td>\n",
       "      <td>0</td>\n",
       "      <td>Everyone</td>\n",
       "      <td>Weather</td>\n",
       "      <td>July 18, 2018</td>\n",
       "      <td>Varies with device</td>\n",
       "      <td>Varies with device</td>\n",
       "    </tr>\n",
       "  </tbody>\n",
       "</table>\n",
       "</div>"
      ],
      "text/plain": [
       "                                                    app category rating  \\\n",
       "173                  Weather & Clock Widget for Android  WEATHER    4.4   \n",
       "229   The Weather Channel: Rain Forecast & Storm Alerts  WEATHER    4.4   \n",
       "255    GO Weather - Widget, Theme, Wallpaper, Efficient  WEATHER    4.5   \n",
       "193   AccuWeather: Daily Forecast & Live Weather Rep...  WEATHER    4.4   \n",
       "1057                     wetter.com - Weather and Radar  WEATHER    4.2   \n",
       "2663                                        HTC Weather  WEATHER    3.9   \n",
       "2804                                            Weather  WEATHER    4.2   \n",
       "1085                         MyRadar NOAA Weather Radar  WEATHER    4.5   \n",
       "875                                       Amber Weather  WEATHER    4.4   \n",
       "839                                     Weather 14 Days  WEATHER    4.4   \n",
       "\n",
       "      reviews                size  installs  type price content_rating  \\\n",
       "173   2371543                 11M  50000000  Free     0       Everyone   \n",
       "229   1558437  Varies with device  50000000  Free     0       Everyone   \n",
       "255   1422858  Varies with device  50000000  Free     0       Everyone   \n",
       "193   2053404  Varies with device  50000000  Free     0       Everyone   \n",
       "1057   189313                 38M  10000000  Free     0       Everyone   \n",
       "2663    22154  Varies with device  10000000  Free     0       Everyone   \n",
       "2804    18773                 12M  10000000  Free     0       Everyone   \n",
       "1085   178934  Varies with device  10000000  Free     0       Everyone   \n",
       "875    260137                 13M  10000000  Free     0   Everyone 10+   \n",
       "839    279917  Varies with device  10000000  Free     0       Everyone   \n",
       "\n",
       "       genres     last_updated         current_ver         android_ver  \n",
       "173   Weather     June 4, 2018             5.9.4.0        4.0.3 and up  \n",
       "229   Weather   August 1, 2018  Varies with device  Varies with device  \n",
       "255   Weather   August 3, 2018  Varies with device  Varies with device  \n",
       "193   Weather   August 6, 2018  Varies with device  Varies with device  \n",
       "1057  Weather   August 6, 2018  Varies with device  Varies with device  \n",
       "2663  Weather  August 10, 2017         8.50.935520          4.4 and up  \n",
       "2804  Weather     May 24, 2018           1.3.A.2.9          4.4 and up  \n",
       "1085  Weather   August 4, 2018  Varies with device  Varies with device  \n",
       "875   Weather    July 16, 2018               3.8.1          4.1 and up  \n",
       "839   Weather    July 18, 2018  Varies with device  Varies with device  "
      ]
     },
     "execution_count": 51,
     "metadata": {},
     "output_type": "execute_result"
    }
   ],
   "source": [
    "android_apps.loc[android_english_free_mask & (android_apps[\"category\"] == \"WEATHER\")].sort_values(by = \"installs\", ascending = False).head(10)"
   ]
  },
  {
   "cell_type": "markdown",
   "metadata": {},
   "source": [
    "<font color=\"red\">Talk about the Weather category. Category is probably pretty saturated, and it is hard to differentiate yourself because at its core there is only so much you can do with the weather: accurate forecasts and attractive app design.</font>"
   ]
  },
  {
   "cell_type": "code",
   "execution_count": 52,
   "metadata": {},
   "outputs": [
    {
     "data": {
      "text/html": [
       "<div>\n",
       "<style scoped>\n",
       "    .dataframe tbody tr th:only-of-type {\n",
       "        vertical-align: middle;\n",
       "    }\n",
       "\n",
       "    .dataframe tbody tr th {\n",
       "        vertical-align: top;\n",
       "    }\n",
       "\n",
       "    .dataframe thead th {\n",
       "        text-align: right;\n",
       "    }\n",
       "</style>\n",
       "<table border=\"1\" class=\"dataframe\">\n",
       "  <thead>\n",
       "    <tr style=\"text-align: right;\">\n",
       "      <th></th>\n",
       "      <th>app</th>\n",
       "      <th>category</th>\n",
       "      <th>rating</th>\n",
       "      <th>reviews</th>\n",
       "      <th>size</th>\n",
       "      <th>installs</th>\n",
       "      <th>type</th>\n",
       "      <th>price</th>\n",
       "      <th>content_rating</th>\n",
       "      <th>genres</th>\n",
       "      <th>last_updated</th>\n",
       "      <th>current_ver</th>\n",
       "      <th>android_ver</th>\n",
       "    </tr>\n",
       "  </thead>\n",
       "  <tbody>\n",
       "    <tr>\n",
       "      <th>57</th>\n",
       "      <td>Wish - Shopping Made Fun</td>\n",
       "      <td>SHOPPING</td>\n",
       "      <td>4.5</td>\n",
       "      <td>6212081</td>\n",
       "      <td>15M</td>\n",
       "      <td>100000000</td>\n",
       "      <td>Free</td>\n",
       "      <td>0</td>\n",
       "      <td>Everyone</td>\n",
       "      <td>Shopping</td>\n",
       "      <td>August 3, 2018</td>\n",
       "      <td>4.20.5</td>\n",
       "      <td>4.1 and up</td>\n",
       "    </tr>\n",
       "    <tr>\n",
       "      <th>64</th>\n",
       "      <td>AliExpress - Smarter Shopping, Better Living</td>\n",
       "      <td>SHOPPING</td>\n",
       "      <td>4.6</td>\n",
       "      <td>5917485</td>\n",
       "      <td>Varies with device</td>\n",
       "      <td>100000000</td>\n",
       "      <td>Free</td>\n",
       "      <td>0</td>\n",
       "      <td>Teen</td>\n",
       "      <td>Shopping</td>\n",
       "      <td>August 6, 2018</td>\n",
       "      <td>Varies with device</td>\n",
       "      <td>Varies with device</td>\n",
       "    </tr>\n",
       "    <tr>\n",
       "      <th>63</th>\n",
       "      <td>Flipkart Online Shopping App</td>\n",
       "      <td>SHOPPING</td>\n",
       "      <td>4.4</td>\n",
       "      <td>6012719</td>\n",
       "      <td>Varies with device</td>\n",
       "      <td>100000000</td>\n",
       "      <td>Free</td>\n",
       "      <td>0</td>\n",
       "      <td>Teen</td>\n",
       "      <td>Shopping</td>\n",
       "      <td>August 6, 2018</td>\n",
       "      <td>Varies with device</td>\n",
       "      <td>Varies with device</td>\n",
       "    </tr>\n",
       "    <tr>\n",
       "      <th>148</th>\n",
       "      <td>eBay: Buy &amp; Sell this Summer - Discover Deals ...</td>\n",
       "      <td>SHOPPING</td>\n",
       "      <td>4.4</td>\n",
       "      <td>2788923</td>\n",
       "      <td>Varies with device</td>\n",
       "      <td>100000000</td>\n",
       "      <td>Free</td>\n",
       "      <td>0</td>\n",
       "      <td>Teen</td>\n",
       "      <td>Shopping</td>\n",
       "      <td>July 30, 2018</td>\n",
       "      <td>Varies with device</td>\n",
       "      <td>Varies with device</td>\n",
       "    </tr>\n",
       "    <tr>\n",
       "      <th>376</th>\n",
       "      <td>Amazon Shopping</td>\n",
       "      <td>SHOPPING</td>\n",
       "      <td>4.3</td>\n",
       "      <td>909226</td>\n",
       "      <td>42M</td>\n",
       "      <td>100000000</td>\n",
       "      <td>Free</td>\n",
       "      <td>0</td>\n",
       "      <td>Teen</td>\n",
       "      <td>Shopping</td>\n",
       "      <td>July 31, 2018</td>\n",
       "      <td>16.14.0.100</td>\n",
       "      <td>4.4 and up</td>\n",
       "    </tr>\n",
       "    <tr>\n",
       "      <th>327</th>\n",
       "      <td>The birth</td>\n",
       "      <td>SHOPPING</td>\n",
       "      <td>4.7</td>\n",
       "      <td>1084945</td>\n",
       "      <td>Varies with device</td>\n",
       "      <td>50000000</td>\n",
       "      <td>Free</td>\n",
       "      <td>0</td>\n",
       "      <td>Teen</td>\n",
       "      <td>Shopping</td>\n",
       "      <td>August 3, 2018</td>\n",
       "      <td>Varies with device</td>\n",
       "      <td>Varies with device</td>\n",
       "    </tr>\n",
       "    <tr>\n",
       "      <th>355</th>\n",
       "      <td>letgo: Buy &amp; Sell Used Stuff, Cars &amp; Real Estate</td>\n",
       "      <td>SHOPPING</td>\n",
       "      <td>4.5</td>\n",
       "      <td>973270</td>\n",
       "      <td>20M</td>\n",
       "      <td>50000000</td>\n",
       "      <td>Free</td>\n",
       "      <td>0</td>\n",
       "      <td>Teen</td>\n",
       "      <td>Shopping</td>\n",
       "      <td>August 6, 2018</td>\n",
       "      <td>2.4.9</td>\n",
       "      <td>4.1 and up</td>\n",
       "    </tr>\n",
       "    <tr>\n",
       "      <th>395</th>\n",
       "      <td>OLX - Buy and Sell</td>\n",
       "      <td>SHOPPING</td>\n",
       "      <td>4.2</td>\n",
       "      <td>857923</td>\n",
       "      <td>18M</td>\n",
       "      <td>50000000</td>\n",
       "      <td>Free</td>\n",
       "      <td>0</td>\n",
       "      <td>Everyone</td>\n",
       "      <td>Shopping</td>\n",
       "      <td>July 31, 2018</td>\n",
       "      <td>11.7.3.0</td>\n",
       "      <td>4.1 and up</td>\n",
       "    </tr>\n",
       "    <tr>\n",
       "      <th>272</th>\n",
       "      <td>Myntra Online Shopping App</td>\n",
       "      <td>SHOPPING</td>\n",
       "      <td>4.3</td>\n",
       "      <td>1315242</td>\n",
       "      <td>Varies with device</td>\n",
       "      <td>50000000</td>\n",
       "      <td>Free</td>\n",
       "      <td>0</td>\n",
       "      <td>Everyone</td>\n",
       "      <td>Shopping</td>\n",
       "      <td>July 21, 2018</td>\n",
       "      <td>3.27.1</td>\n",
       "      <td>4.1 and up</td>\n",
       "    </tr>\n",
       "    <tr>\n",
       "      <th>263</th>\n",
       "      <td>Groupon - Shop Deals, Discounts &amp; Coupons</td>\n",
       "      <td>SHOPPING</td>\n",
       "      <td>4.6</td>\n",
       "      <td>1371082</td>\n",
       "      <td>Varies with device</td>\n",
       "      <td>50000000</td>\n",
       "      <td>Free</td>\n",
       "      <td>0</td>\n",
       "      <td>Teen</td>\n",
       "      <td>Shopping</td>\n",
       "      <td>August 3, 2018</td>\n",
       "      <td>Varies with device</td>\n",
       "      <td>Varies with device</td>\n",
       "    </tr>\n",
       "  </tbody>\n",
       "</table>\n",
       "</div>"
      ],
      "text/plain": [
       "                                                   app  category rating  \\\n",
       "57                            Wish - Shopping Made Fun  SHOPPING    4.5   \n",
       "64        AliExpress - Smarter Shopping, Better Living  SHOPPING    4.6   \n",
       "63                        Flipkart Online Shopping App  SHOPPING    4.4   \n",
       "148  eBay: Buy & Sell this Summer - Discover Deals ...  SHOPPING    4.4   \n",
       "376                                    Amazon Shopping  SHOPPING    4.3   \n",
       "327                                          The birth  SHOPPING    4.7   \n",
       "355   letgo: Buy & Sell Used Stuff, Cars & Real Estate  SHOPPING    4.5   \n",
       "395                                 OLX - Buy and Sell  SHOPPING    4.2   \n",
       "272                         Myntra Online Shopping App  SHOPPING    4.3   \n",
       "263          Groupon - Shop Deals, Discounts & Coupons  SHOPPING    4.6   \n",
       "\n",
       "     reviews                size   installs  type price content_rating  \\\n",
       "57   6212081                 15M  100000000  Free     0       Everyone   \n",
       "64   5917485  Varies with device  100000000  Free     0           Teen   \n",
       "63   6012719  Varies with device  100000000  Free     0           Teen   \n",
       "148  2788923  Varies with device  100000000  Free     0           Teen   \n",
       "376   909226                 42M  100000000  Free     0           Teen   \n",
       "327  1084945  Varies with device   50000000  Free     0           Teen   \n",
       "355   973270                 20M   50000000  Free     0           Teen   \n",
       "395   857923                 18M   50000000  Free     0       Everyone   \n",
       "272  1315242  Varies with device   50000000  Free     0       Everyone   \n",
       "263  1371082  Varies with device   50000000  Free     0           Teen   \n",
       "\n",
       "       genres    last_updated         current_ver         android_ver  \n",
       "57   Shopping  August 3, 2018              4.20.5          4.1 and up  \n",
       "64   Shopping  August 6, 2018  Varies with device  Varies with device  \n",
       "63   Shopping  August 6, 2018  Varies with device  Varies with device  \n",
       "148  Shopping   July 30, 2018  Varies with device  Varies with device  \n",
       "376  Shopping   July 31, 2018         16.14.0.100          4.4 and up  \n",
       "327  Shopping  August 3, 2018  Varies with device  Varies with device  \n",
       "355  Shopping  August 6, 2018               2.4.9          4.1 and up  \n",
       "395  Shopping   July 31, 2018            11.7.3.0          4.1 and up  \n",
       "272  Shopping   July 21, 2018              3.27.1          4.1 and up  \n",
       "263  Shopping  August 3, 2018  Varies with device  Varies with device  "
      ]
     },
     "execution_count": 52,
     "metadata": {},
     "output_type": "execute_result"
    }
   ],
   "source": [
    "android_apps.loc[android_english_free_mask & (android_apps[\"category\"] == \"SHOPPING\")].sort_values(by = \"installs\", ascending = False).head(10)"
   ]
  },
  {
   "cell_type": "markdown",
   "metadata": {},
   "source": [
    "<font color=\"red\">Talk about the Shopping category. Seems to mainly be apps which serve as storefronts for existing e-commerce websites, so not really realistic to be able to compete as a hypothetical app developer without an e-commerce platform to leverage.</font>"
   ]
  }
 ],
 "metadata": {
  "kernelspec": {
   "display_name": "Python 3",
   "language": "python",
   "name": "python3"
  },
  "language_info": {
   "codemirror_mode": {
    "name": "ipython",
    "version": 3
   },
   "file_extension": ".py",
   "mimetype": "text/x-python",
   "name": "python",
   "nbconvert_exporter": "python",
   "pygments_lexer": "ipython3",
   "version": "3.8.2"
  }
 },
 "nbformat": 4,
 "nbformat_minor": 4
}
