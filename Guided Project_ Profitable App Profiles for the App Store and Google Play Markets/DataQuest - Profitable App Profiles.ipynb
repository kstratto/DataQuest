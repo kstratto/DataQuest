{
 "cells": [
  {
   "cell_type": "markdown",
   "metadata": {},
   "source": [
    "# Introduction"
   ]
  },
  {
   "cell_type": "markdown",
   "metadata": {},
   "source": [
    "In this guided project, we work with two sets of mobile app data -- one from the iOS App Store and one from the Android Google Play Store -- in order to understand what types of of apps are likely to attract the most users. Our focus will be on free apps that are targeted at an English-speaking audience. While this project was originally written in pure Python, we will instead make use of the usual Python data science packages: NumPy, pandas, Matplotlib, and seaborn.\n",
    "\n",
    "Since there are over four million apps available between the two major mobile app stores, we will work with samples from each that have been collected and uploaded to Kaggle. The first sample is a [set of approximately 10,000 Google Play Store apps](https://www.kaggle.com/lava18/google-play-store-apps) that was scraped in February 2019. The second is a [set of approximately 7200 iOS App Store apps](https://www.kaggle.com/ramamet4/app-store-apple-data-set-10k-apps) that was scraped in June 2018."
   ]
  },
  {
   "cell_type": "markdown",
   "metadata": {},
   "source": [
    "The Google Play Store data contains the following columns.\n",
    "\n",
    "- `App` - Application name\n",
    "- `Category` - Category the app belongs to\n",
    "- `Rating` - Overall user rating of the app (as when scraped)\n",
    "- `Reviews` - Number of user reviews for the app (as when scraped)\n",
    "- `Size` - Size of the app (as when scraped)\n",
    "- `Installs` - Number of user downloads/installs for the app (as when scraped)\n",
    "- `Type` - Paid or Free\n",
    "- `Price` - Price of the app (as when scraped)\n",
    "- `Content Rating` - Age group the app is targeted at - Children / Mature 21+ / Adult\n",
    "- `Genres` - An app can belong to multiple genres (apart from its main category). For example, a musical family game will belong to Music, Game, Family genres.\n",
    "- `Last Updated` - Date when the app was last updated on Play Store (as when scraped)\n",
    "- `Current Ver` - Current version of the app available on Play Store (as when scraped)\n",
    "- `Android Ver` - Min required Android version (as when scraped)"
   ]
  },
  {
   "cell_type": "markdown",
   "metadata": {},
   "source": [
    "The iOS App Store data contains the following columns.\n",
    "\n",
    "- `id` - App ID\n",
    "- `track_name`- App Name\n",
    "- `size_bytes`- Size (in Bytes)\n",
    "- `currency`- Currency Type\n",
    "- `price`- Price amount\n",
    "- `rating_count_tot`- User Rating counts (for all versions)\n",
    "- `rating_count_ver`- User Rating counts (for current version)\n",
    "- `user_rating` - Average User Rating value (for all versions)\n",
    "- `user_rating_ver`- Average User Rating value (for current version)\n",
    "- `ver` - Latest version code\n",
    "- `cont_rating`- Content Rating\n",
    "- `prime_genre`- Primary Genre\n",
    "- `sup_devices.num`- Number of supporting devices\n",
    "- `ipadSc_urls.num`- Number of screenshots showed for display\n",
    "- `lang.num`- Number of supported languages\n",
    "- `vpp_lic`- Vpp Device Based Licensing Enabled"
   ]
  },
  {
   "cell_type": "markdown",
   "metadata": {},
   "source": [
    "# Loading data and initial cleaning"
   ]
  },
  {
   "cell_type": "markdown",
   "metadata": {},
   "source": [
    "We start by importing our usual Python data science packages and then loading the two sets of app data into separate dataframes to perform some initial inspections. In particular, we will start off by cleaning up the column names to make them a little easier to work with."
   ]
  },
  {
   "cell_type": "code",
   "execution_count": 1,
   "metadata": {},
   "outputs": [],
   "source": [
    "import numpy as np\n",
    "import pandas as pd\n",
    "import matplotlib.pyplot as plt\n",
    "import seaborn as sns\n",
    "sns.set()"
   ]
  },
  {
   "cell_type": "code",
   "execution_count": 25,
   "metadata": {},
   "outputs": [],
   "source": [
    "android_apps_filepath = \"googleplaystore.csv\"\n",
    "android_apps = pd.read_csv(android_apps_filepath)\n",
    "\n",
    "ios_apps_filepath = \"AppleStore.csv\"\n",
    "ios_apps = pd.read_csv(ios_apps_filepath).drop(columns = [\"Unnamed: 0\"])"
   ]
  },
  {
   "cell_type": "markdown",
   "metadata": {},
   "source": [
    "The column names for the Google Play Store data are all reasonably descriptive and concise, so the only cleaning we do for them is converting each name into snake case, which is the preferred style for Python."
   ]
  },
  {
   "cell_type": "code",
   "execution_count": 26,
   "metadata": {},
   "outputs": [],
   "source": [
    "android_apps_cols = android_apps.columns\n",
    "android_apps_cols = android_apps_cols.str.replace(\" \", \"_\")\n",
    "android_apps_cols = android_apps_cols.str.lower()\n",
    "android_apps.columns = android_apps_cols"
   ]
  },
  {
   "cell_type": "markdown",
   "metadata": {},
   "source": [
    "The column names for the iOS App Store data can be left as is, though a few could be changed to be a little more concise. For example, `rating_count_tot` could be changed to `oa_reviews` and `rating_count_ver` could be changed to `cur_ver_reviews` to allow `user_rating` and `user_rating_ver` to be shortened some to `oa_rating` and `cur_ver_rating`, respectively. This is purely a matter of personal preference."
   ]
  },
  {
   "cell_type": "code",
   "execution_count": 29,
   "metadata": {},
   "outputs": [],
   "source": [
    "ios_apps_cols = ios_apps.columns.to_series()\n",
    "columns_dict = {\"rating_count_tot\": \"oa_reviews\", \"rating_count_ver\": \"cur_ver_reviews\",\n",
    "               \"user_rating\": \"oa_rating\", \"user_rating_ver\": \"cur_ver_rating\",\n",
    "               \"sup_devices.num\": \"num_sup_devices\", \"ipadSc_urls.num\": \"num_screenshots\",\n",
    "               \"lang.num\": \"num_langs\"}\n",
    "ios_apps_cols.replace(columns_dict, inplace = True)\n",
    "ios_apps.columns = ios_apps_cols"
   ]
  },
  {
   "cell_type": "markdown",
   "metadata": {},
   "source": [
    "Now that we have cleaned up the column names for each data set to our liking, we move on to the rest of the cleaning. This will involve four main steps:\n",
    "\n",
    "1. Checking for and handling null values.\n",
    "2. Checking for duplicate apps and deciding which duplicates to remove.\n",
    "3. Removing apps that aren't targeted toward English-speaking audiences.\n",
    "4. Removing apps that are not free."
   ]
  },
  {
   "cell_type": "markdown",
   "metadata": {},
   "source": [
    "## Checking for and handling null values"
   ]
  },
  {
   "cell_type": "markdown",
   "metadata": {},
   "source": [
    "## Checking for and handling duplicate apps"
   ]
  },
  {
   "cell_type": "markdown",
   "metadata": {},
   "source": [
    "## Removing apps that are not targeted toward English-speaking audiences"
   ]
  },
  {
   "cell_type": "markdown",
   "metadata": {},
   "source": [
    "## Removing apps that are not free"
   ]
  }
 ],
 "metadata": {
  "kernelspec": {
   "display_name": "Python 3",
   "language": "python",
   "name": "python3"
  },
  "language_info": {
   "codemirror_mode": {
    "name": "ipython",
    "version": 3
   },
   "file_extension": ".py",
   "mimetype": "text/x-python",
   "name": "python",
   "nbconvert_exporter": "python",
   "pygments_lexer": "ipython3",
   "version": "3.8.2"
  }
 },
 "nbformat": 4,
 "nbformat_minor": 2
}
